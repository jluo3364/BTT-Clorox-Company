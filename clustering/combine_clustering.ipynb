{
 "cells": [
  {
   "cell_type": "code",
   "execution_count": 1,
   "metadata": {},
   "outputs": [
    {
     "name": "stderr",
     "output_type": "stream",
     "text": [
      "C:\\Users\\melod\\AppData\\Roaming\\Python\\Python39\\site-packages\\pandas\\core\\computation\\expressions.py:21: UserWarning: Pandas requires version '2.8.4' or newer of 'numexpr' (version '2.8.3' currently installed).\n",
      "  from pandas.core.computation.check import NUMEXPR_INSTALLED\n",
      "C:\\Users\\melod\\AppData\\Roaming\\Python\\Python39\\site-packages\\pandas\\core\\arrays\\masked.py:60: UserWarning: Pandas requires version '1.3.6' or newer of 'bottleneck' (version '1.3.5' currently installed).\n",
      "  from pandas.core import (\n"
     ]
    }
   ],
   "source": [
    "import pandas as pd\n",
    "import numpy as np"
   ]
  },
  {
   "cell_type": "code",
   "execution_count": 30,
   "metadata": {},
   "outputs": [],
   "source": [
    "# Read in LSA df\n",
    "lsa_df = pd.read_csv('../outputs/lsa_1-2gram_3_topics_per_rating_5121.csv')\n"
   ]
  },
  {
   "cell_type": "code",
   "execution_count": 31,
   "metadata": {},
   "outputs": [
    {
     "data": {
      "text/plain": [
       "(5121, 6)"
      ]
     },
     "execution_count": 31,
     "metadata": {},
     "output_type": "execute_result"
    }
   ],
   "source": [
    "lsa_df.shape"
   ]
  },
  {
   "cell_type": "code",
   "execution_count": 32,
   "metadata": {},
   "outputs": [
    {
     "data": {
      "text/plain": [
       "Index(['star_rating', 'review_text', 'review_text_clean', 'lsa_topic_number',\n",
       "       'lsa_topic_words', 'lsa_topic'],\n",
       "      dtype='object')"
      ]
     },
     "execution_count": 32,
     "metadata": {},
     "output_type": "execute_result"
    }
   ],
   "source": [
    "lsa_df.columns"
   ]
  },
  {
   "cell_type": "code",
   "execution_count": 5,
   "metadata": {},
   "outputs": [],
   "source": [
    "# Read in top 2 vec df\n",
    "top2vec_df = pd.read_csv('../outputs/top2vec_clorox_topics.csv')"
   ]
  },
  {
   "cell_type": "code",
   "execution_count": 6,
   "metadata": {},
   "outputs": [
    {
     "data": {
      "text/plain": [
       "(5121, 13)"
      ]
     },
     "execution_count": 6,
     "metadata": {},
     "output_type": "execute_result"
    }
   ],
   "source": [
    "top2vec_df.shape"
   ]
  },
  {
   "cell_type": "code",
   "execution_count": 8,
   "metadata": {},
   "outputs": [
    {
     "data": {
      "text/plain": [
       "Index(['Unnamed: 0', 'brand', 'product_title', 'proxy_date', 'retailer',\n",
       "       'category', 'subcategory', 'review_text', 'star_rating', 'topic',\n",
       "       'brand_type', 'topic_number', 'top2vec_topic'],\n",
       "      dtype='object')"
      ]
     },
     "execution_count": 8,
     "metadata": {},
     "output_type": "execute_result"
    }
   ],
   "source": [
    "top2vec_df.columns"
   ]
  },
  {
   "cell_type": "code",
   "execution_count": 9,
   "metadata": {},
   "outputs": [],
   "source": [
    "# drop unnecessary cols\n",
    "top2vec_df = top2vec_df.drop(columns=['Unnamed: 0','topic_number'])"
   ]
  },
  {
   "cell_type": "code",
   "execution_count": 11,
   "metadata": {},
   "outputs": [],
   "source": [
    "lda2vec_df = pd.read_csv('../outputs/lda2vec_topics.csv')"
   ]
  },
  {
   "cell_type": "code",
   "execution_count": 12,
   "metadata": {},
   "outputs": [
    {
     "data": {
      "text/plain": [
       "(5121, 15)"
      ]
     },
     "execution_count": 12,
     "metadata": {},
     "output_type": "execute_result"
    }
   ],
   "source": [
    "lda2vec_df.shape"
   ]
  },
  {
   "cell_type": "code",
   "execution_count": 14,
   "metadata": {},
   "outputs": [
    {
     "data": {
      "text/plain": [
       "Index(['Unnamed: 0', 'brand', 'product_title', 'proxy_date', 'retailer',\n",
       "       'category', 'subcategory', 'review_text', 'star_rating', 'topic',\n",
       "       'brand_type', 'tokens', 'LDA_topic', 'topic_label',\n",
       "       'lda2vec_topic_label'],\n",
       "      dtype='object')"
      ]
     },
     "execution_count": 14,
     "metadata": {},
     "output_type": "execute_result"
    }
   ],
   "source": [
    "lda2vec_df.columns"
   ]
  },
  {
   "cell_type": "code",
   "execution_count": 27,
   "metadata": {},
   "outputs": [
    {
     "data": {
      "text/plain": [
       "5121"
      ]
     },
     "execution_count": 27,
     "metadata": {},
     "output_type": "execute_result"
    }
   ],
   "source": [
    "sum(top2vec_df['star_rating']==lda2vec_df['star_rating'])"
   ]
  },
  {
   "cell_type": "code",
   "execution_count": 15,
   "metadata": {},
   "outputs": [],
   "source": [
    "# drop unnecessary cols\n",
    "lda2vec_df = lda2vec_df.drop(columns=['Unnamed: 0','tokens', 'LDA_topic'])"
   ]
  },
  {
   "cell_type": "code",
   "execution_count": 38,
   "metadata": {},
   "outputs": [
    {
     "data": {
      "text/html": [
       "<div>\n",
       "<style scoped>\n",
       "    .dataframe tbody tr th:only-of-type {\n",
       "        vertical-align: middle;\n",
       "    }\n",
       "\n",
       "    .dataframe tbody tr th {\n",
       "        vertical-align: top;\n",
       "    }\n",
       "\n",
       "    .dataframe thead th {\n",
       "        text-align: right;\n",
       "    }\n",
       "</style>\n",
       "<table border=\"1\" class=\"dataframe\">\n",
       "  <thead>\n",
       "    <tr style=\"text-align: right;\">\n",
       "      <th></th>\n",
       "      <th>brand</th>\n",
       "      <th>product_title</th>\n",
       "      <th>proxy_date</th>\n",
       "      <th>retailer</th>\n",
       "      <th>category</th>\n",
       "      <th>subcategory</th>\n",
       "      <th>star_rating</th>\n",
       "      <th>brand_type</th>\n",
       "      <th>review_text</th>\n",
       "      <th>topic</th>\n",
       "      <th>top2vec_topic</th>\n",
       "      <th>lda2vec_topic</th>\n",
       "      <th>lsa_topic</th>\n",
       "    </tr>\n",
       "  </thead>\n",
       "  <tbody>\n",
       "    <tr>\n",
       "      <th>0</th>\n",
       "      <td>Clorox</td>\n",
       "      <td>Clorox Clean-Up All Purpose Cleaner with Bleac...</td>\n",
       "      <td>2024-07-01</td>\n",
       "      <td>Costco</td>\n",
       "      <td>CLEANING</td>\n",
       "      <td>SPRAY CLEANERS BLEACH CLEANERS</td>\n",
       "      <td>5.0</td>\n",
       "      <td>Clorox</td>\n",
       "      <td>It does the work. That is enough for me.</td>\n",
       "      <td>Finding the Perfect Product</td>\n",
       "      <td>\"Effective spray bottles never disappoint and ...</td>\n",
       "      <td>\"Effective, gentle, and reliable cleaning solu...</td>\n",
       "      <td>\"Effective and affordable cleaning product\"</td>\n",
       "    </tr>\n",
       "    <tr>\n",
       "      <th>1</th>\n",
       "      <td>Clorox</td>\n",
       "      <td>Clorox Clean-Up All Purpose Cleaner with Bleac...</td>\n",
       "      <td>2024-07-01</td>\n",
       "      <td>Costco</td>\n",
       "      <td>CLEANING</td>\n",
       "      <td>SPRAY CLEANERS BLEACH CLEANERS</td>\n",
       "      <td>5.0</td>\n",
       "      <td>Clorox</td>\n",
       "      <td>I use it in the restrooms and in the kitchen. ...</td>\n",
       "      <td>Disinfectant spray recommendations and reviews...</td>\n",
       "      <td>\"Effective and Convenient Disinfectant for Mul...</td>\n",
       "      <td>\"Essential cleaning basics for a spotless and ...</td>\n",
       "      <td>\"Effective cleaning with a great bleach product\"</td>\n",
       "    </tr>\n",
       "    <tr>\n",
       "      <th>2</th>\n",
       "      <td>CVS Total Home</td>\n",
       "      <td>Total Home Cleaner With Bleach, 32 OZ</td>\n",
       "      <td>2024-07-01</td>\n",
       "      <td>CVS</td>\n",
       "      <td>CLEANING</td>\n",
       "      <td>SPRAY CLEANERS BLEACH CLEANERS</td>\n",
       "      <td>5.0</td>\n",
       "      <td>Competitor</td>\n",
       "      <td>I used this in my shower that had pink mold, a...</td>\n",
       "      <td>Effective products for mold and mildew removal...</td>\n",
       "      <td>\"Cleaning shower and bathtub without scrubbing\"</td>\n",
       "      <td>\"Effective and Safe Cleaning Solutions for a S...</td>\n",
       "      <td>\"Effective cleaning with a great bleach product\"</td>\n",
       "    </tr>\n",
       "    <tr>\n",
       "      <th>3</th>\n",
       "      <td>Clorox</td>\n",
       "      <td>Clorox® Clean-Up® Cleaner + Bleach1 Value Pack...</td>\n",
       "      <td>2024-07-01</td>\n",
       "      <td>Amazon</td>\n",
       "      <td>CLEANING</td>\n",
       "      <td>SPRAY CLEANERS BLEACH CLEANERS</td>\n",
       "      <td>5.0</td>\n",
       "      <td>Clorox</td>\n",
       "      <td>I appreciate the value you get with this 3-pac...</td>\n",
       "      <td>Disinfectant spray recommendations and reviews...</td>\n",
       "      <td>\"Powerful toilet bowl cleaner kills bacteria, ...</td>\n",
       "      <td>\"Effective, gentle, and reliable cleaning solu...</td>\n",
       "      <td>\"Effective cleaning with a great bleach product\"</td>\n",
       "    </tr>\n",
       "    <tr>\n",
       "      <th>4</th>\n",
       "      <td>Clorox</td>\n",
       "      <td>Clorox Clean-Up All Purpose Cleaner with Bleac...</td>\n",
       "      <td>2024-07-01</td>\n",
       "      <td>Target</td>\n",
       "      <td>CLEANING</td>\n",
       "      <td>SPRAY CLEANERS BLEACH CLEANERS</td>\n",
       "      <td>5.0</td>\n",
       "      <td>Clorox</td>\n",
       "      <td>Stayed at a beach condo for several months las...</td>\n",
       "      <td>Bathroom cleaning solutions</td>\n",
       "      <td>\"Effective spray bottles never disappoint and ...</td>\n",
       "      <td>\"Bathroom cleaning and maintenance: effective ...</td>\n",
       "      <td>\"Effective cleaning with a great bleach product\"</td>\n",
       "    </tr>\n",
       "  </tbody>\n",
       "</table>\n",
       "</div>"
      ],
      "text/plain": [
       "            brand                                      product_title  \\\n",
       "0          Clorox  Clorox Clean-Up All Purpose Cleaner with Bleac...   \n",
       "1          Clorox  Clorox Clean-Up All Purpose Cleaner with Bleac...   \n",
       "2  CVS Total Home              Total Home Cleaner With Bleach, 32 OZ   \n",
       "3          Clorox  Clorox® Clean-Up® Cleaner + Bleach1 Value Pack...   \n",
       "4          Clorox  Clorox Clean-Up All Purpose Cleaner with Bleac...   \n",
       "\n",
       "   proxy_date retailer  category                     subcategory  star_rating  \\\n",
       "0  2024-07-01   Costco  CLEANING  SPRAY CLEANERS BLEACH CLEANERS          5.0   \n",
       "1  2024-07-01   Costco  CLEANING  SPRAY CLEANERS BLEACH CLEANERS          5.0   \n",
       "2  2024-07-01      CVS  CLEANING  SPRAY CLEANERS BLEACH CLEANERS          5.0   \n",
       "3  2024-07-01   Amazon  CLEANING  SPRAY CLEANERS BLEACH CLEANERS          5.0   \n",
       "4  2024-07-01   Target  CLEANING  SPRAY CLEANERS BLEACH CLEANERS          5.0   \n",
       "\n",
       "   brand_type                                        review_text  \\\n",
       "0      Clorox           It does the work. That is enough for me.   \n",
       "1      Clorox  I use it in the restrooms and in the kitchen. ...   \n",
       "2  Competitor  I used this in my shower that had pink mold, a...   \n",
       "3      Clorox  I appreciate the value you get with this 3-pac...   \n",
       "4      Clorox  Stayed at a beach condo for several months las...   \n",
       "\n",
       "                                               topic  \\\n",
       "0                        Finding the Perfect Product   \n",
       "1  Disinfectant spray recommendations and reviews...   \n",
       "2  Effective products for mold and mildew removal...   \n",
       "3  Disinfectant spray recommendations and reviews...   \n",
       "4                        Bathroom cleaning solutions   \n",
       "\n",
       "                                       top2vec_topic  \\\n",
       "0  \"Effective spray bottles never disappoint and ...   \n",
       "1  \"Effective and Convenient Disinfectant for Mul...   \n",
       "2    \"Cleaning shower and bathtub without scrubbing\"   \n",
       "3  \"Powerful toilet bowl cleaner kills bacteria, ...   \n",
       "4  \"Effective spray bottles never disappoint and ...   \n",
       "\n",
       "                                       lda2vec_topic  \\\n",
       "0  \"Effective, gentle, and reliable cleaning solu...   \n",
       "1  \"Essential cleaning basics for a spotless and ...   \n",
       "2  \"Effective and Safe Cleaning Solutions for a S...   \n",
       "3  \"Effective, gentle, and reliable cleaning solu...   \n",
       "4  \"Bathroom cleaning and maintenance: effective ...   \n",
       "\n",
       "                                          lsa_topic  \n",
       "0       \"Effective and affordable cleaning product\"  \n",
       "1  \"Effective cleaning with a great bleach product\"  \n",
       "2  \"Effective cleaning with a great bleach product\"  \n",
       "3  \"Effective cleaning with a great bleach product\"  \n",
       "4  \"Effective cleaning with a great bleach product\"  "
      ]
     },
     "execution_count": 38,
     "metadata": {},
     "output_type": "execute_result"
    }
   ],
   "source": [
    "# create final df\n",
    "final_df = top2vec_df.copy()\n",
    "# add lda2vec topic label\n",
    "final_df['lda2vec_topic'] = lda2vec_df['lda2vec_topic_label']\n",
    "# merge with lsa on review text\n",
    "final_df = pd.merge(final_df, lsa_df[['review_text', 'lsa_topic']], on='review_text', how='inner')\n",
    "# reorder columns for easier comparison\n",
    "final_df = final_df[['brand', 'product_title', 'proxy_date', 'retailer', 'category',\n",
    "                     'subcategory', 'star_rating', 'brand_type','review_text', 'topic',\n",
    "                     'top2vec_topic', 'lda2vec_topic', 'lsa_topic']]\n",
    "final_df.head()"
   ]
  },
  {
   "cell_type": "code",
   "execution_count": 39,
   "metadata": {},
   "outputs": [],
   "source": [
    "final_df.to_csv(\"../outputs/combined_clustering_results.csv\")"
   ]
  },
  {
   "cell_type": "code",
   "execution_count": 50,
   "metadata": {},
   "outputs": [
    {
     "data": {
      "text/plain": [
       "386"
      ]
     },
     "execution_count": 50,
     "metadata": {},
     "output_type": "execute_result"
    }
   ],
   "source": [
    "final_df['topic'].nunique()"
   ]
  },
  {
   "cell_type": "code",
   "execution_count": 52,
   "metadata": {},
   "outputs": [
    {
     "data": {
      "text/plain": [
       "array(['\"Effective spray bottles never disappoint and solve various problems on hand.\"',\n",
       "       '\"Effective and Convenient Disinfectant for Multiple Surfaces and Rooms\"',\n",
       "       '\"Cleaning shower and bathtub without scrubbing\"',\n",
       "       '\"Powerful toilet bowl cleaner kills bacteria, viruses, and leaves a fresh scent.\"',\n",
       "       '\"Effective Bathroom Disinfectant for Long-Lasting Fresh Scent and Cleanliness\"',\n",
       "       '\"Walmart bottle purchase experience plagued with leaking issues and satisfaction concerns\"',\n",
       "       '\"Deep cleaning removes tough stains, keeps surfaces germ-free and job done\"',\n",
       "       '\"Powerful All-Purpose Cleaner for Tough Stains and Surfaces\"',\n",
       "       '\"Germ-free home cleaning solutions for effortless results with pleasant scents.\"',\n",
       "       'Here\\'s a potential topic phrase: \"Style essentials for maintaining personal charm and confidence.\"',\n",
       "       '\"All-purpose cleaning solution for nonporous surfaces with fresh scent and affordable price.\"',\n",
       "       '\"Effective stain remover for all surfaces, highly recommended and worth the price.\"',\n",
       "       '\"Effective against germs, long-lasting and gentle on surfaces, even during Covid.\"',\n",
       "       '\"Deep Cleaning Power for a Fresh and Germ-Free Home\"',\n",
       "       '\"Cleaning bathroom surfaces and removing soap scum and mildew with ease.\"'],\n",
       "      dtype=object)"
      ]
     },
     "execution_count": 52,
     "metadata": {},
     "output_type": "execute_result"
    }
   ],
   "source": [
    "final_df['top2vec_topic'].unique()"
   ]
  },
  {
   "cell_type": "code",
   "execution_count": 53,
   "metadata": {},
   "outputs": [
    {
     "data": {
      "text/plain": [
       "array(['\"Effective and affordable cleaning product\"',\n",
       "       '\"Effective cleaning with a great bleach product\"',\n",
       "       '\"Strong and effective bathroom cleaner\"',\n",
       "       '\"Damaged or missed orders and poor customer service\"',\n",
       "       '\"Bottle leak and poor product quality at delivery\"',\n",
       "       '\"Poor packaging with occasional leakage\"',\n",
       "       '\"Defective and leaking products upon arrival\"',\n",
       "       '\"Decent cleaning product with some leakage issues\"',\n",
       "       '\"Clean and fresh with great performance\"',\n",
       "       '\"Effective nozzle for easy cleanup\"',\n",
       "       '\"Good product with occasional leak issues\"',\n",
       "       '\"Received leaking or damaged products\"',\n",
       "       '\"Unreliable spray trigger stops working after short use\"',\n",
       "       '\"Effective germ control, minimal odor\"',\n",
       "       '\"Decent cleaning product with some drawbacks\"'], dtype=object)"
      ]
     },
     "execution_count": 53,
     "metadata": {},
     "output_type": "execute_result"
    }
   ],
   "source": [
    "final_df['lsa_topic'].unique()"
   ]
  },
  {
   "cell_type": "code",
   "execution_count": 51,
   "metadata": {},
   "outputs": [
    {
     "data": {
      "text/plain": [
       "array(['\"Effective, gentle, and reliable cleaning solutions for daily household hygiene needs.\"',\n",
       "       '\"Essential cleaning basics for a spotless and hygienic home\"',\n",
       "       '\"Effective and Safe Cleaning Solutions for a Spotless Home\"',\n",
       "       '\"Bathroom cleaning and maintenance: effective solutions for tackling stains, odors, and bacteria, with a focus on safety.\"',\n",
       "       '\"Effective and Hygienic Cleaning Solutions for a Healthy Home Environment\"',\n",
       "       '\"Cleansing solutions for everyday life, with focus on effective and safe use.\"',\n",
       "       '\"Powerful bathroom essentials for easy and hygienic cleaning\"',\n",
       "       '\"Effective Disinfecting Solutions for a Spotless Home\"',\n",
       "       '\"Prolonged cleanliness maintenance and disinfectant product use for hygienic home living\"',\n",
       "       '\"Essential Janitorial Cleaning Solutions for a Spotless Home and Healthy Living\"',\n",
       "       '\"Dissatisfying experience with cleaning products, consumer concerns about quality and effectiveness\"',\n",
       "       '\"Common Cleaning Issues with Leaky Products: Frustration and Disappointment Amidst Solutions and Reviews\"',\n",
       "       '\"Bathroom Cleaning and Sanitizing: Solutions and Concerns for Germs and Odors\"',\n",
       "       '\"Efficient and effective cleaning solutions for a variety of messy and dirty situations.\"',\n",
       "       'Highly effective cleaning products and household essential for a sparkling home and good hygiene.'],\n",
       "      dtype=object)"
      ]
     },
     "execution_count": 51,
     "metadata": {},
     "output_type": "execute_result"
    }
   ],
   "source": [
    "final_df['lda2vec_topic'].unique()"
   ]
  },
  {
   "cell_type": "code",
   "execution_count": 45,
   "metadata": {},
   "outputs": [
    {
     "name": "stdout",
     "output_type": "stream",
     "text": [
      "Review Text: This is great stuff. I use it on everything just about. Ruined many shirts as well because it seriously has bleach in it. But it's great to clean bathrooms and kitchens.\n",
      "BERTopic Topic: Disinfectant spray recommendations and reviews (undetermined topic)\n",
      "Top2Vec Topic: \"Effective and Convenient Disinfectant for Multiple Surfaces and Rooms\"\n",
      "LDA2Vec Topic: \"Essential cleaning basics for a spotless and hygienic home\"\n",
      "LSA Topic: \"Effective cleaning with a great bleach product\"\n",
      "\n",
      "==================================================\n",
      "\n",
      "Review Text: Works great! This product makes me feel like I'm getting a good clean! I enjoy using it in the bathroom to really kill germs!\n",
      "BERTopic Topic: Disinfectant spray recommendations and reviews (undetermined topic)\n",
      "Top2Vec Topic: \"Effective Bathroom Disinfectant for Long-Lasting Fresh Scent and Cleanliness\"\n",
      "LDA2Vec Topic: \"Powerful bathroom essentials for easy and hygienic cleaning\"\n",
      "LSA Topic: \"Effective cleaning with a great bleach product\"\n",
      "\n",
      "==================================================\n",
      "\n",
      "Review Text: Clorox Clean-Up Cleaner + Bleach is a remarkable product that lives up to its promise of killing 99.9% of bacteria and viruses. The powerful combination of cleaning and disinfecting properties makes it a go-to solution for maintaining a germ-free environment. Following the usage instructions is key to ensuring both safety and effectiveness. Highly recommended for those seeking a reliable cleaner with added disinfecting power.\n",
      "BERTopic Topic: Review and recommendation for Clorox cleaning products\n",
      "Top2Vec Topic: \"Deep Cleaning Power for a Fresh and Germ-Free Home\"\n",
      "LDA2Vec Topic: \"Powerful bathroom essentials for easy and hygienic cleaning\"\n",
      "LSA Topic: \"Effective cleaning with a great bleach product\"\n",
      "\n",
      "==================================================\n",
      "\n",
      "Review Text: I love this stuff. Wipes away deep stains very easily!!\n",
      "BERTopic Topic: Stain removal products and techniques\n",
      "Top2Vec Topic: \"Deep cleaning removes tough stains, keeps surfaces germ-free and job done\"\n",
      "LDA2Vec Topic: \"Effective and Safe Cleaning Solutions for a Spotless Home\"\n",
      "LSA Topic: \"Effective cleaning with a great bleach product\"\n",
      "\n",
      "==================================================\n",
      "\n",
      "Review Text: If you have boys, you need this. Seriously, nothing else works.\n",
      "BERTopic Topic: Disinfectant spray recommendations and reviews (undetermined topic)\n",
      "Top2Vec Topic: \"Effective against germs, long-lasting and gentle on surfaces, even during Covid.\"\n",
      "LDA2Vec Topic: \"Effective, gentle, and reliable cleaning solutions for daily household hygiene needs.\"\n",
      "LSA Topic: \"Effective and affordable cleaning product\"\n",
      "\n",
      "==================================================\n",
      "\n",
      "Review Text: I love any Clorox product because it actually cleans up everything but be aware of the strong smell. This right here leaves my bath tub flawless. Easy convenient spraying as well, you can turn the liquids on and off so if your child accidentally tries to spray they won’t be at risk if the tube is closed.\n",
      "BERTopic Topic: Review and recommendation for Clorox cleaning products\n",
      "Top2Vec Topic: \"Cleaning bathroom surfaces and removing soap scum and mildew with ease.\"\n",
      "LDA2Vec Topic: \"Essential Janitorial Cleaning Solutions for a Spotless Home and Healthy Living\"\n",
      "LSA Topic: \"Effective cleaning with a great bleach product\"\n",
      "\n",
      "==================================================\n",
      "\n",
      "Review Text: Love the scent and the bottle lasts a while. Like how you can use it in many different parts of your home.\n",
      "BERTopic Topic: Disinfectant spray recommendations and reviews (undetermined topic)\n",
      "Top2Vec Topic: \"Cleaning bathroom surfaces and removing soap scum and mildew with ease.\"\n",
      "LDA2Vec Topic: \"Effective, gentle, and reliable cleaning solutions for daily household hygiene needs.\"\n",
      "LSA Topic: \"Effective cleaning with a great bleach product\"\n",
      "\n",
      "==================================================\n",
      "\n",
      "Review Text: i use it almost everyday, in the kitchen or the bathroom or even my room, its most helpful with stuff that can get sticky or if u just wanna clean and remove dust too, i like using it on my kitchen and bathroom countertop.\n",
      "BERTopic Topic: Household cleaning and sanitization tips\n",
      "Top2Vec Topic: \"Deep cleaning removes tough stains, keeps surfaces germ-free and job done\"\n",
      "LDA2Vec Topic: \"Essential cleaning basics for a spotless and hygienic home\"\n",
      "LSA Topic: \"Effective cleaning with a great bleach product\"\n",
      "\n",
      "==================================================\n",
      "\n",
      "Review Text: Best cleaning spray for just about everywhere in the house. In the bathroom cleans the bathtub and toilet with ease. In the kitchen it gets tough grease spots up. Overall just great product.\n",
      "BERTopic Topic: Reviews of bathroom cleaning spray\n",
      "Top2Vec Topic: \"Cleaning bathroom surfaces and removing soap scum and mildew with ease.\"\n",
      "LDA2Vec Topic: \"Prolonged cleanliness maintenance and disinfectant product use for hygienic home living\"\n",
      "LSA Topic: \"Effective cleaning with a great bleach product\"\n",
      "\n",
      "==================================================\n",
      "\n",
      "Review Text: Cleans very well and leaves the place looking spotless and smells great. Also, the spray doesn’t spray too much at once like other products!\n",
      "BERTopic Topic: Effective and Pleasant Cleaning Products\n",
      "Top2Vec Topic: \"Effective and Convenient Disinfectant for Multiple Surfaces and Rooms\"\n",
      "LDA2Vec Topic: \"Effective Disinfecting Solutions for a Spotless Home\"\n",
      "LSA Topic: \"Effective cleaning with a great bleach product\"\n",
      "\n",
      "==================================================\n",
      "\n"
     ]
    }
   ],
   "source": [
    "five_stars_df = final_df[final_df['star_rating']==5]\n",
    "\n",
    "sampled_reviews = five_stars_df[['review_text', 'topic', 'top2vec_topic', 'lda2vec_topic', 'lsa_topic']].sample(10)\n",
    "\n",
    "# Print the sampled reviews\n",
    "for index, row in sampled_reviews.iterrows():\n",
    "    print(f\"Review Text: {row['review_text']}\")\n",
    "    print(f\"BERTopic Topic: {row['topic']}\")\n",
    "    print(f\"Top2Vec Topic: {row['top2vec_topic']}\")\n",
    "    print(f\"LDA2Vec Topic: {row['lda2vec_topic']}\")\n",
    "    print(f\"LSA Topic: {row['lsa_topic']}\")\n",
    "    print(\"\\n\" + \"=\"*50 + \"\\n\")"
   ]
  },
  {
   "cell_type": "code",
   "execution_count": 46,
   "metadata": {},
   "outputs": [
    {
     "name": "stdout",
     "output_type": "stream",
     "text": [
      "Review Text: This is a great household cleaner that I think most people should have. I use it to clean my bathrooms and every now and then spray my toilet so I don’t get that scummy ring\n",
      "BERTopic Topic: Disinfectant spray recommendations and reviews (undetermined topic)\n",
      "Top2Vec Topic: \"Cleaning shower and bathtub without scrubbing\"\n",
      "LDA2Vec Topic: \"Essential cleaning basics for a spotless and hygienic home\"\n",
      "LSA Topic: \"Strong and effective bathroom cleaner\"\n",
      "\n",
      "==================================================\n",
      "\n",
      "Review Text: A must, but can be too rough for porcelain (I had a stain that won't come off), but if you read the instructions carefully I'll have a great experience.\n",
      "BERTopic Topic: Cleaning and Stain Removal for Porcelain Fixtures\n",
      "Top2Vec Topic: \"Effective against germs, long-lasting and gentle on surfaces, even during Covid.\"\n",
      "LDA2Vec Topic: \"Common Cleaning Issues with Leaky Products: Frustration and Disappointment Amidst Solutions and Reviews\"\n",
      "LSA Topic: \"Strong and effective bathroom cleaner\"\n",
      "\n",
      "==================================================\n",
      "\n",
      "Review Text: I know it's not the most natural thing but it works great for getting tough stains and sanitation. I always use it to clean my tub and sink. I would purchase\n",
      "BERTopic Topic: Disinfectant spray recommendations and reviews (undetermined topic)\n",
      "Top2Vec Topic: \"Cleaning bathroom surfaces and removing soap scum and mildew with ease.\"\n",
      "LDA2Vec Topic: \"Effective Disinfecting Solutions for a Spotless Home\"\n",
      "LSA Topic: \"Strong and effective bathroom cleaner\"\n",
      "\n",
      "==================================================\n",
      "\n",
      "Review Text: This cleaner is great for cleaning my shower tiles. It will get mold and stains off quickly with light scrubbing.\n",
      "BERTopic Topic: Bathroom cleaning solutions\n",
      "Top2Vec Topic: \"Cleaning shower and bathtub without scrubbing\"\n",
      "LDA2Vec Topic: \"Effective and Safe Cleaning Solutions for a Spotless Home\"\n",
      "LSA Topic: \"Strong and effective bathroom cleaner\"\n",
      "\n",
      "==================================================\n",
      "\n",
      "Review Text: I spray my sinks down each day with this. I will also use it on countertops. Unfortunately it’s hard to find right now.\n",
      "BERTopic Topic: Disinfectant spray recommendations and reviews (undetermined topic)\n",
      "Top2Vec Topic: \"Deep cleaning removes tough stains, keeps surfaces germ-free and job done\"\n",
      "LDA2Vec Topic: \"Effective Disinfecting Solutions for a Spotless Home\"\n",
      "LSA Topic: \"Strong and effective bathroom cleaner\"\n",
      "\n",
      "==================================================\n",
      "\n",
      "Review Text: Product is nice but spray bottle is a little tricky after refill putting tube for spray handle in correctly.\n",
      "BERTopic Topic: Leaking and damaged products upon arrival\n",
      "Top2Vec Topic: \"Effective spray bottles never disappoint and solve various problems on hand.\"\n",
      "LDA2Vec Topic: \"Common Cleaning Issues with Leaky Products: Frustration and Disappointment Amidst Solutions and Reviews\"\n",
      "LSA Topic: \"Effective nozzle for easy cleanup\"\n",
      "\n",
      "==================================================\n",
      "\n",
      "Review Text: Great value Just for gallon refill cap was loose and leaked in the shipping box\n",
      "BERTopic Topic: Disinfectant spray recommendations and reviews (undetermined topic)\n",
      "Top2Vec Topic: \"Effective spray bottles never disappoint and solve various problems on hand.\"\n",
      "LDA2Vec Topic: \"Dissatisfying experience with cleaning products, consumer concerns about quality and effectiveness\"\n",
      "LSA Topic: \"Effective nozzle for easy cleanup\"\n",
      "\n",
      "==================================================\n",
      "\n",
      "Review Text: Effective cleaning power and refreshing scent make Clorox Clean-Up Cleaner + Bleach a must-have for tackling tough messes. Impressive results!\n",
      "BERTopic Topic: Review and recommendation for Clorox cleaning products\n",
      "Top2Vec Topic: \"Deep Cleaning Power for a Fresh and Germ-Free Home\"\n",
      "LDA2Vec Topic: \"Effective and Hygienic Cleaning Solutions for a Healthy Home Environment\"\n",
      "LSA Topic: \"Strong and effective bathroom cleaner\"\n",
      "\n",
      "==================================================\n",
      "\n",
      "Review Text: Strong bleach. When using, wear gloves and a mask. Very convenient to use to clean toilets. However, it cannot remove long-term grease stains on the sink. In addition, I also use it to clean other types of stains on shoes or furniture.\n",
      "BERTopic Topic: Household Cleaning with Bleach\n",
      "Top2Vec Topic: \"Cleaning bathroom surfaces and removing soap scum and mildew with ease.\"\n",
      "LDA2Vec Topic: \"Essential Janitorial Cleaning Solutions for a Spotless Home and Healthy Living\"\n",
      "LSA Topic: \"Strong and effective bathroom cleaner\"\n",
      "\n",
      "==================================================\n",
      "\n",
      "Review Text: Kills mold fast. just spay and let it sit for a few minutes and rinse.\n",
      "BERTopic Topic: Mold removal and prevention products\n",
      "Top2Vec Topic: \"Cleaning shower and bathtub without scrubbing\"\n",
      "LDA2Vec Topic: \"Essential cleaning basics for a spotless and hygienic home\"\n",
      "LSA Topic: \"Strong and effective bathroom cleaner\"\n",
      "\n",
      "==================================================\n",
      "\n"
     ]
    }
   ],
   "source": [
    "four_stars_df = final_df[final_df['star_rating']==4]\n",
    "\n",
    "sampled_reviews = four_stars_df[['review_text', 'topic', 'top2vec_topic', 'lda2vec_topic', 'lsa_topic']].sample(10)\n",
    "\n",
    "# Print the sampled reviews\n",
    "for index, row in sampled_reviews.iterrows():\n",
    "    print(f\"Review Text: {row['review_text']}\")\n",
    "    print(f\"BERTopic Topic: {row['topic']}\")\n",
    "    print(f\"Top2Vec Topic: {row['top2vec_topic']}\")\n",
    "    print(f\"LDA2Vec Topic: {row['lda2vec_topic']}\")\n",
    "    print(f\"LSA Topic: {row['lsa_topic']}\")\n",
    "    print(\"\\n\" + \"=\"*50 + \"\\n\")"
   ]
  },
  {
   "cell_type": "code",
   "execution_count": 48,
   "metadata": {},
   "outputs": [
    {
     "name": "stdout",
     "output_type": "stream",
     "text": [
      "Review Text: the packaging was bad and the bleach leaked from bottle through the box. It could be a safety issue.\n",
      "BERTopic Topic: Leaking and damaged products upon arrival\n",
      "Top2Vec Topic: \"Walmart bottle purchase experience plagued with leaking issues and satisfaction concerns\"\n",
      "LDA2Vec Topic: \"Dissatisfying experience with cleaning products, consumer concerns about quality and effectiveness\"\n",
      "LSA Topic: \"Decent cleaning product with some leakage issues\"\n",
      "\n",
      "==================================================\n",
      "\n",
      "Review Text: This cleaner is super powerful! Love the punch of bleach in an everyday household cleaner! I enjoy using this for getting stains out of hard surfaces!\n",
      "BERTopic Topic: Disinfectant spray recommendations and reviews (undetermined topic)\n",
      "Top2Vec Topic: \"Cleaning bathroom surfaces and removing soap scum and mildew with ease.\"\n",
      "LDA2Vec Topic: \"Effective Disinfecting Solutions for a Spotless Home\"\n",
      "LSA Topic: \"Decent cleaning product with some leakage issues\"\n",
      "\n",
      "==================================================\n",
      "\n",
      "Review Text: great product and ordered the 3 pack when on sale... ordered singles this last time... product was loose packed in a larger box,,,, bottle got crushed.....one bottle survived, but a mess... asked for refund,,, still awaiting... will check forth coming statement..... use the clorox and easy purchase on amazon, but you don't know who will pack.. the 3 packed box style is way better, but if not amazon, you pay for shipping costs and extended pice...\n",
      "BERTopic Topic: Disinfectant spray recommendations and reviews (undetermined topic)\n",
      "Top2Vec Topic: \"Walmart bottle purchase experience plagued with leaking issues and satisfaction concerns\"\n",
      "LDA2Vec Topic: \"Dissatisfying experience with cleaning products, consumer concerns about quality and effectiveness\"\n",
      "LSA Topic: \"Decent cleaning product with some leakage issues\"\n",
      "\n",
      "==================================================\n",
      "\n",
      "Review Text: Product is great. The refill bottle, came with the top smashed in and could not be pulled out so every pour is a waste of liquid. Will not buy online again. Poor packaging was the issue.\n",
      "BERTopic Topic: Leaking and damaged products upon arrival\n",
      "Top2Vec Topic: \"Walmart bottle purchase experience plagued with leaking issues and satisfaction concerns\"\n",
      "LDA2Vec Topic: \"Common Cleaning Issues with Leaky Products: Frustration and Disappointment Amidst Solutions and Reviews\"\n",
      "LSA Topic: \"Decent cleaning product with some leakage issues\"\n",
      "\n",
      "==================================================\n",
      "\n",
      "Review Text: The price has been increased and they are not in stock so we need to order online and I had my Clorox leaking inside the delivered box causing a huge mess\n",
      "BERTopic Topic: Review and recommendation for Clorox cleaning products\n",
      "Top2Vec Topic: \"Walmart bottle purchase experience plagued with leaking issues and satisfaction concerns\"\n",
      "LDA2Vec Topic: \"Dissatisfying experience with cleaning products, consumer concerns about quality and effectiveness\"\n",
      "LSA Topic: \"Decent cleaning product with some leakage issues\"\n",
      "\n",
      "==================================================\n",
      "\n",
      "Review Text: Ordered for my cleaning ladies upon there request\n",
      "BERTopic Topic: Effective cleaning products recommended by grandmothers\n",
      "Top2Vec Topic: \"Walmart bottle purchase experience plagued with leaking issues and satisfaction concerns\"\n",
      "LDA2Vec Topic: Highly effective cleaning products and household essential for a sparkling home and good hygiene.\n",
      "LSA Topic: \"Decent cleaning product with some leakage issues\"\n",
      "\n",
      "==================================================\n",
      "\n",
      "Review Text: produce not good quality.\n",
      "BERTopic Topic: Disinfectant spray recommendations and reviews (undetermined topic)\n",
      "Top2Vec Topic: \"Powerful toilet bowl cleaner kills bacteria, viruses, and leaves a fresh scent.\"\n",
      "LDA2Vec Topic: \"Cleansing solutions for everyday life, with focus on effective and safe use.\"\n",
      "LSA Topic: \"Effective germ control, minimal odor\"\n",
      "\n",
      "==================================================\n",
      "\n",
      "Review Text: It makes cleaning faster, The smell is a little unpleasant.\n",
      "BERTopic Topic: Disinfectant spray recommendations and reviews (undetermined topic)\n",
      "Top2Vec Topic: \"Germ-free home cleaning solutions for effortless results with pleasant scents.\"\n",
      "LDA2Vec Topic: \"Powerful bathroom essentials for easy and hygienic cleaning\"\n",
      "LSA Topic: \"Decent cleaning product with some drawbacks\"\n",
      "\n",
      "==================================================\n",
      "\n",
      "Review Text: Not my favorite but definitely not the worst either. I got some on my hand and It like left a check I already type burn feeling. But it does clean well and leave my toilet white.\n",
      "BERTopic Topic: Toilet cleaning products\n",
      "Top2Vec Topic: \"Effective against germs, long-lasting and gentle on surfaces, even during Covid.\"\n",
      "LDA2Vec Topic: \"Effective and Safe Cleaning Solutions for a Spotless Home\"\n",
      "LSA Topic: \"Decent cleaning product with some leakage issues\"\n",
      "\n",
      "==================================================\n",
      "\n",
      "Review Text: The sprayer on these Clorox products breaks nine times out of ten! The Clorox liquid does a great job, but they seriously need to correct this sprayer issue!\n",
      "BERTopic Topic: Review and recommendation for Clorox cleaning products\n",
      "Top2Vec Topic: \"Effective spray bottles never disappoint and solve various problems on hand.\"\n",
      "LDA2Vec Topic: \"Effective, gentle, and reliable cleaning solutions for daily household hygiene needs.\"\n",
      "LSA Topic: \"Decent cleaning product with some leakage issues\"\n",
      "\n",
      "==================================================\n",
      "\n"
     ]
    }
   ],
   "source": [
    "three_stars_df = final_df[final_df['star_rating']==3]\n",
    "\n",
    "sampled_reviews = three_stars_df[['review_text', 'topic', 'top2vec_topic', 'lda2vec_topic', 'lsa_topic']].sample(10)\n",
    "\n",
    "# Print the sampled reviews\n",
    "for index, row in sampled_reviews.iterrows():\n",
    "    print(f\"Review Text: {row['review_text']}\")\n",
    "    print(f\"BERTopic Topic: {row['topic']}\")\n",
    "    print(f\"Top2Vec Topic: {row['top2vec_topic']}\")\n",
    "    print(f\"LDA2Vec Topic: {row['lda2vec_topic']}\")\n",
    "    print(f\"LSA Topic: {row['lsa_topic']}\")\n",
    "    print(\"\\n\" + \"=\"*50 + \"\\n\")"
   ]
  },
  {
   "cell_type": "code",
   "execution_count": 54,
   "metadata": {},
   "outputs": [
    {
     "name": "stdout",
     "output_type": "stream",
     "text": [
      "Review Text: Ppl don't like subs at all\n",
      "BERTopic Topic: Product Not Meeting Expectations\n",
      "Top2Vec Topic: Here's a potential topic phrase: \"Style essentials for maintaining personal charm and confidence.\"\n",
      "LDA2Vec Topic: \"Effective and Hygienic Cleaning Solutions for a Healthy Home Environment\"\n",
      "LSA Topic: \"Poor packaging with occasional leakage\"\n",
      "\n",
      "==================================================\n",
      "\n",
      "Review Text: These items were broken in Portland packed in there leaking all over the box. I would like a refund please.\n",
      "BERTopic Topic: Leaking and damaged products upon arrival\n",
      "Top2Vec Topic: \"Walmart bottle purchase experience plagued with leaking issues and satisfaction concerns\"\n",
      "LDA2Vec Topic: \"Dissatisfying experience with cleaning products, consumer concerns about quality and effectiveness\"\n",
      "LSA Topic: \"Received leaking or damaged products\"\n",
      "\n",
      "==================================================\n",
      "\n",
      "Review Text: good stuff but what good is it if the sprayer doesnt work. half the time it gives one sqeeze and sticks in back position?\n",
      "BERTopic Topic: Malfunctioning spray mechanism on cleaning products\n",
      "Top2Vec Topic: \"Effective spray bottles never disappoint and solve various problems on hand.\"\n",
      "LDA2Vec Topic: \"Efficient and effective cleaning solutions for a variety of messy and dirty situations.\"\n",
      "LSA Topic: \"Unreliable spray trigger stops working after short use\"\n",
      "\n",
      "==================================================\n",
      "\n",
      "Review Text: The great value cleaner with bleach was sold out. The Lysol brand was substituted. The extra two dollar cost was not that big of a deal. However, the Lysol brand does not apply in a mist like the great value brand does.\n",
      "BERTopic Topic: Disinfectant spray recommendations and reviews (undetermined topic)\n",
      "Top2Vec Topic: \"Walmart bottle purchase experience plagued with leaking issues and satisfaction concerns\"\n",
      "LDA2Vec Topic: \"Bathroom cleaning and maintenance: effective solutions for tackling stains, odors, and bacteria, with a focus on safety.\"\n",
      "LSA Topic: \"Poor packaging with occasional leakage\"\n",
      "\n",
      "==================================================\n",
      "\n",
      "Review Text: im not sure why someone would send a damaged bottle of bleach in a order hosme like the customer wouldnt say anything? who does that? walmart people do. its simple sad.\n",
      "BERTopic Topic: Damaged products and poor packaging in online orders\n",
      "Top2Vec Topic: \"Walmart bottle purchase experience plagued with leaking issues and satisfaction concerns\"\n",
      "LDA2Vec Topic: \"Efficient and effective cleaning solutions for a variety of messy and dirty situations.\"\n",
      "LSA Topic: \"Poor packaging with occasional leakage\"\n",
      "\n",
      "==================================================\n",
      "\n",
      "Review Text: I've used this product for years. I have started buying in bulk at my local store and the product is the same but the bottle is TRASH. Sprayed one time and no longer sprays. Now I have this product in a windex bottle WOW it sprays properly. Come on GET IT TOGETHER for the poor faithful consumers who love the product..\n",
      "BERTopic Topic: Leaking and damaged products upon arrival\n",
      "Top2Vec Topic: \"Effective spray bottles never disappoint and solve various problems on hand.\"\n",
      "LDA2Vec Topic: \"Common Cleaning Issues with Leaky Products: Frustration and Disappointment Amidst Solutions and Reviews\"\n",
      "LSA Topic: \"Poor packaging with occasional leakage\"\n",
      "\n",
      "==================================================\n",
      "\n",
      "Review Text: Great same day delivery! I did not like how the product was corroding/ damaged though upon arrival. Seems as though they were in an old warehouse rotting for years.\n",
      "BERTopic Topic: Leaking and damaged products upon arrival\n",
      "Top2Vec Topic: \"Walmart bottle purchase experience plagued with leaking issues and satisfaction concerns\"\n",
      "LDA2Vec Topic: \"Effective and Safe Cleaning Solutions for a Spotless Home\"\n",
      "LSA Topic: \"Poor packaging with occasional leakage\"\n",
      "\n",
      "==================================================\n",
      "\n",
      "Review Text: Did not like the computer problems and southern store not stocked like northern stores we are only responsible for ourselves not what ancestors did we love all people god has no respect of persons\n",
      "BERTopic Topic: Product Not Meeting Expectations\n",
      "Top2Vec Topic: \"Walmart bottle purchase experience plagued with leaking issues and satisfaction concerns\"\n",
      "LDA2Vec Topic: \"Cleansing solutions for everyday life, with focus on effective and safe use.\"\n",
      "LSA Topic: \"Poor packaging with occasional leakage\"\n",
      "\n",
      "==================================================\n",
      "\n",
      "Review Text: All the ones I buy the spray tops only work for a little while.\n",
      "BERTopic Topic: Malfunctioning spray mechanism on cleaning products\n",
      "Top2Vec Topic: \"Effective spray bottles never disappoint and solve various problems on hand.\"\n",
      "LDA2Vec Topic: \"Common Cleaning Issues with Leaky Products: Frustration and Disappointment Amidst Solutions and Reviews\"\n",
      "LSA Topic: \"Unreliable spray trigger stops working after short use\"\n",
      "\n",
      "==================================================\n",
      "\n",
      "Review Text: very surprised, looked like the bleach had destroyed the labels. must have been leaking. not happy about this\n",
      "BERTopic Topic: Leaking and damaged products upon arrival\n",
      "Top2Vec Topic: \"Walmart bottle purchase experience plagued with leaking issues and satisfaction concerns\"\n",
      "LDA2Vec Topic: \"Bathroom cleaning and maintenance: effective solutions for tackling stains, odors, and bacteria, with a focus on safety.\"\n",
      "LSA Topic: \"Poor packaging with occasional leakage\"\n",
      "\n",
      "==================================================\n",
      "\n"
     ]
    }
   ],
   "source": [
    "two_stars_df = final_df[final_df['star_rating']==2]\n",
    "\n",
    "sampled_reviews = two_stars_df[['review_text', 'topic', 'top2vec_topic', 'lda2vec_topic', 'lsa_topic']].sample(10)\n",
    "\n",
    "# Print the sampled reviews\n",
    "for index, row in sampled_reviews.iterrows():\n",
    "    print(f\"Review Text: {row['review_text']}\")\n",
    "    print(f\"BERTopic Topic: {row['topic']}\")\n",
    "    print(f\"Top2Vec Topic: {row['top2vec_topic']}\")\n",
    "    print(f\"LDA2Vec Topic: {row['lda2vec_topic']}\")\n",
    "    print(f\"LSA Topic: {row['lsa_topic']}\")\n",
    "    print(\"\\n\" + \"=\"*50 + \"\\n\")"
   ]
  },
  {
   "cell_type": "code",
   "execution_count": 55,
   "metadata": {},
   "outputs": [
    {
     "name": "stdout",
     "output_type": "stream",
     "text": [
      "Review Text: I love this product,, but the last time I ordered it was leaking. Called stated it would be replaced; never was.\n",
      "BERTopic Topic: Leaking and damaged products upon arrival\n",
      "Top2Vec Topic: \"Walmart bottle purchase experience plagued with leaking issues and satisfaction concerns\"\n",
      "LDA2Vec Topic: \"Dissatisfying experience with cleaning products, consumer concerns about quality and effectiveness\"\n",
      "LSA Topic: \"Bottle leak and poor product quality at delivery\"\n",
      "\n",
      "==================================================\n",
      "\n",
      "Review Text: The Spray Nozzle Always Breaks. Always. They need to improve it.\n",
      "BERTopic Topic: Malfunctioning spray mechanism on cleaning products\n",
      "Top2Vec Topic: \"Effective spray bottles never disappoint and solve various problems on hand.\"\n",
      "LDA2Vec Topic: \"Efficient and effective cleaning solutions for a variety of messy and dirty situations.\"\n",
      "LSA Topic: \"Bottle leak and poor product quality at delivery\"\n",
      "\n",
      "==================================================\n",
      "\n",
      "Review Text: it's not possible to let you know what I think about the product if I didn't get it. duh!\n",
      "BERTopic Topic: Product dissatisfaction and misleading advertising\n",
      "Top2Vec Topic: \"Walmart bottle purchase experience plagued with leaking issues and satisfaction concerns\"\n",
      "LDA2Vec Topic: \"Powerful bathroom essentials for easy and hygienic cleaning\"\n",
      "LSA Topic: \"Bottle leak and poor product quality at delivery\"\n",
      "\n",
      "==================================================\n",
      "\n",
      "Review Text: cost to much money for one bottle\n",
      "BERTopic Topic: Leaking and damaged products upon arrival\n",
      "Top2Vec Topic: \"Walmart bottle purchase experience plagued with leaking issues and satisfaction concerns\"\n",
      "LDA2Vec Topic: \"Common Cleaning Issues with Leaky Products: Frustration and Disappointment Amidst Solutions and Reviews\"\n",
      "LSA Topic: \"Bottle leak and poor product quality at delivery\"\n",
      "\n",
      "==================================================\n",
      "\n",
      "Review Text: I was charged for 2 clorox clean -up but I being refunded for only one . Why?\n",
      "BERTopic Topic: Review and recommendation for Clorox cleaning products\n",
      "Top2Vec Topic: \"Walmart bottle purchase experience plagued with leaking issues and satisfaction concerns\"\n",
      "LDA2Vec Topic: \"Dissatisfying experience with cleaning products, consumer concerns about quality and effectiveness\"\n",
      "LSA Topic: \"Bottle leak and poor product quality at delivery\"\n",
      "\n",
      "==================================================\n",
      "\n",
      "Review Text: Typically these products work wonders. However the bottom is not received Are not any good. See below. Every single bottle I received, A total of 6, We're leaking And the lids We're moulded out of shape For some reason. Super disappointed with the seller of this product. The risk that they put My family and I In Due to the crusty crystallized nature of the product on the outside of the bottles is extremely disappointing.\n",
      "BERTopic Topic: Leaking and damaged products upon arrival\n",
      "Top2Vec Topic: \"Walmart bottle purchase experience plagued with leaking issues and satisfaction concerns\"\n",
      "LDA2Vec Topic: \"Dissatisfying experience with cleaning products, consumer concerns about quality and effectiveness\"\n",
      "LSA Topic: \"Bottle leak and poor product quality at delivery\"\n",
      "\n",
      "==================================================\n",
      "\n",
      "Review Text: when inspection of package  today one bottle had leaked out because of loose cap.\n",
      "BERTopic Topic: Leaking and damaged products upon arrival\n",
      "Top2Vec Topic: \"Walmart bottle purchase experience plagued with leaking issues and satisfaction concerns\"\n",
      "LDA2Vec Topic: \"Dissatisfying experience with cleaning products, consumer concerns about quality and effectiveness\"\n",
      "LSA Topic: \"Bottle leak and poor product quality at delivery\"\n",
      "\n",
      "==================================================\n",
      "\n",
      "Review Text: Was so disappointed didn't have what I wanted was out ,and didn't have an equal type , now I'm having to wait for my money ..very disappointed in this order..\n",
      "BERTopic Topic: Disinfectant spray recommendations and reviews (undetermined topic)\n",
      "Top2Vec Topic: \"Walmart bottle purchase experience plagued with leaking issues and satisfaction concerns\"\n",
      "LDA2Vec Topic: \"Bathroom cleaning and maintenance: effective solutions for tackling stains, odors, and bacteria, with a focus on safety.\"\n",
      "LSA Topic: \"Damaged or missed orders and poor customer service\"\n",
      "\n",
      "==================================================\n",
      "\n",
      "Review Text: I am unable to use the bottle as every time I do it leaks all over my hand and onto the floor in any other surface. I'm sure the bottle was just defective, but not happy with it at all.\n",
      "BERTopic Topic: Leaking and damaged products upon arrival\n",
      "Top2Vec Topic: \"Effective spray bottles never disappoint and solve various problems on hand.\"\n",
      "LDA2Vec Topic: \"Common Cleaning Issues with Leaky Products: Frustration and Disappointment Amidst Solutions and Reviews\"\n",
      "LSA Topic: \"Bottle leak and poor product quality at delivery\"\n",
      "\n",
      "==================================================\n",
      "\n",
      "Review Text: Product works great but sprayer malfunctions on last two bottles since new package upgrade. Impossible to use.\n",
      "BERTopic Topic: Leaking and damaged products upon arrival\n",
      "Top2Vec Topic: \"Effective spray bottles never disappoint and solve various problems on hand.\"\n",
      "LDA2Vec Topic: \"Common Cleaning Issues with Leaky Products: Frustration and Disappointment Amidst Solutions and Reviews\"\n",
      "LSA Topic: \"Bottle leak and poor product quality at delivery\"\n",
      "\n",
      "==================================================\n",
      "\n"
     ]
    }
   ],
   "source": [
    "one_stars_df = final_df[final_df['star_rating']==1]\n",
    "\n",
    "sampled_reviews = one_stars_df[['review_text', 'topic', 'top2vec_topic', 'lda2vec_topic', 'lsa_topic']].sample(10)\n",
    "\n",
    "# Print the sampled reviews\n",
    "for index, row in sampled_reviews.iterrows():\n",
    "    print(f\"Review Text: {row['review_text']}\")\n",
    "    print(f\"BERTopic Topic: {row['topic']}\")\n",
    "    print(f\"Top2Vec Topic: {row['top2vec_topic']}\")\n",
    "    print(f\"LDA2Vec Topic: {row['lda2vec_topic']}\")\n",
    "    print(f\"LSA Topic: {row['lsa_topic']}\")\n",
    "    print(\"\\n\" + \"=\"*50 + \"\\n\")"
   ]
  },
  {
   "cell_type": "code",
   "execution_count": null,
   "metadata": {},
   "outputs": [],
   "source": []
  }
 ],
 "metadata": {
  "kernelspec": {
   "display_name": "base",
   "language": "python",
   "name": "python3"
  },
  "language_info": {
   "codemirror_mode": {
    "name": "ipython",
    "version": 3
   },
   "file_extension": ".py",
   "mimetype": "text/x-python",
   "name": "python",
   "nbconvert_exporter": "python",
   "pygments_lexer": "ipython3",
   "version": "3.9.13"
  }
 },
 "nbformat": 4,
 "nbformat_minor": 2
}
