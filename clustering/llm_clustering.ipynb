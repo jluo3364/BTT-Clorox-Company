{
 "cells": [
  {
   "cell_type": "code",
   "execution_count": 2,
   "metadata": {},
   "outputs": [],
   "source": [
    "import pandas as pd\n",
    "import numpy as np\n",
    "import os\n",
    "from groq import Groq \n",
    "from dotenv import load_dotenv\n",
    "\n",
    "load_dotenv()\n",
    "\n",
    "# Initialize the client\n",
    "client = Groq(\n",
    "    api_key=os.environ.get(\"GROQ_API_KEY\"),\n",
    ")"
   ]
  },
  {
   "cell_type": "markdown",
   "metadata": {},
   "source": [
    "# Load top_words for topics"
   ]
  },
  {
   "cell_type": "code",
   "execution_count": 4,
   "metadata": {},
   "outputs": [
    {
     "data": {
      "text/html": [
       "<div>\n",
       "<style scoped>\n",
       "    .dataframe tbody tr th:only-of-type {\n",
       "        vertical-align: middle;\n",
       "    }\n",
       "\n",
       "    .dataframe tbody tr th {\n",
       "        vertical-align: top;\n",
       "    }\n",
       "\n",
       "    .dataframe thead th {\n",
       "        text-align: right;\n",
       "    }\n",
       "</style>\n",
       "<table border=\"1\" class=\"dataframe\">\n",
       "  <thead>\n",
       "    <tr style=\"text-align: right;\">\n",
       "      <th></th>\n",
       "      <th>rating</th>\n",
       "      <th>topic_number</th>\n",
       "      <th>top_words</th>\n",
       "      <th>sample_reviews</th>\n",
       "    </tr>\n",
       "  </thead>\n",
       "  <tbody>\n",
       "    <tr>\n",
       "      <th>0</th>\n",
       "      <td>1.0</td>\n",
       "      <td>0</td>\n",
       "      <td>['bottle', 'leak', 'product', 'box', 'bleach',...</td>\n",
       "      <td>['very unsafe when i open this box of three cl...</td>\n",
       "    </tr>\n",
       "    <tr>\n",
       "      <th>1</th>\n",
       "      <td>1.0</td>\n",
       "      <td>1</td>\n",
       "      <td>['leak', 'damage', 'damage leak', 'arrive', 'b...</td>\n",
       "      <td>['arrive damage and leak' 'damage and leak'\\n ...</td>\n",
       "    </tr>\n",
       "    <tr>\n",
       "      <th>2</th>\n",
       "      <td>1.0</td>\n",
       "      <td>2</td>\n",
       "      <td>['order', 'receive', 'bleach', 'receive order'...</td>\n",
       "      <td>['this not what i order' 'i never receive the ...</td>\n",
       "    </tr>\n",
       "    <tr>\n",
       "      <th>3</th>\n",
       "      <td>1.0</td>\n",
       "      <td>3</td>\n",
       "      <td>['bleach', 'spill', 'box', 'bleach spill', 'bo...</td>\n",
       "      <td>['this be not bleach' 'bleach spill out' 'box ...</td>\n",
       "    </tr>\n",
       "    <tr>\n",
       "      <th>4</th>\n",
       "      <td>1.0</td>\n",
       "      <td>4</td>\n",
       "      <td>['didnt', 'item', 'didnt item', 'spill', 'clea...</td>\n",
       "      <td>['didnt get it' 'didnt get some of my item' 't...</td>\n",
       "    </tr>\n",
       "  </tbody>\n",
       "</table>\n",
       "</div>"
      ],
      "text/plain": [
       "   rating  topic_number                                          top_words  \\\n",
       "0     1.0             0  ['bottle', 'leak', 'product', 'box', 'bleach',...   \n",
       "1     1.0             1  ['leak', 'damage', 'damage leak', 'arrive', 'b...   \n",
       "2     1.0             2  ['order', 'receive', 'bleach', 'receive order'...   \n",
       "3     1.0             3  ['bleach', 'spill', 'box', 'bleach spill', 'bo...   \n",
       "4     1.0             4  ['didnt', 'item', 'didnt item', 'spill', 'clea...   \n",
       "\n",
       "                                      sample_reviews  \n",
       "0  ['very unsafe when i open this box of three cl...  \n",
       "1  ['arrive damage and leak' 'damage and leak'\\n ...  \n",
       "2  ['this not what i order' 'i never receive the ...  \n",
       "3  ['this be not bleach' 'bleach spill out' 'box ...  \n",
       "4  ['didnt get it' 'didnt get some of my item' 't...  "
      ]
     },
     "execution_count": 4,
     "metadata": {},
     "output_type": "execute_result"
    }
   ],
   "source": [
    "df = pd.read_csv('outputs/lsa_1-2gram_by_rating.csv')\n",
    "df.head()"
   ]
  },
  {
   "cell_type": "markdown",
   "metadata": {},
   "source": [
    "# Cluster while summarizing using LLM"
   ]
  },
  {
   "cell_type": "code",
   "execution_count": 47,
   "metadata": {},
   "outputs": [],
   "source": [
    "system_message = \"\"\"Generate coherent phrases that summarize topics of customer reviews based on provided keywords. \n",
    "\n",
    "    If there are duplicate keywords, ensure that the phrase does not repeat the same information.\n",
    "    If there are too many topics to cover in a single phrase, output as many phrases as needed to cover all topics.\n",
    "    Compare the phrases with each other and combine similar phrases into a single phrase.\n",
    "    For example, if the phrases are 'item did not arrive in proper condition' and 'order was damaged during shipping',\n",
    "    combine them into 'item was damaged during shipping'.\n",
    "\n",
    "    Do not return additional commentary beyond the requested phrases. Directly return the phrases without saying \"Here are the summarized phrases for customer reviews based on the provided keywords:\".\n",
    "\n",
    "    \"\"\"\n",
    "\n",
    "def process_input(df):\n",
    "    user_message = f'Input: \"{df}'\n",
    "    response = client.chat.completions.create(\n",
    "        messages=[\n",
    "            {\n",
    "                \"role\": \"system\",\n",
    "                \"content\": system_message\n",
    "            },\n",
    "            {\n",
    "                \"role\": \"user\",\n",
    "                \"content\": user_message\n",
    "            }\n",
    "        ],\n",
    "        model=\"llama3-8b-8192\",\n",
    "    )\n",
    "    generated_phrase = response.choices[0].message.content\n",
    "    return generated_phrase"
   ]
  },
  {
   "cell_type": "code",
   "execution_count": 16,
   "metadata": {},
   "outputs": [
    {
     "data": {
      "text/plain": [
       "[\"['didnt',\",\n",
       " \"'damage',\",\n",
       " \"['leak',\",\n",
       " \"'like',\",\n",
       " \"'return',\",\n",
       " \"'spray',\",\n",
       " \"item',\",\n",
       " \"'arrive',\",\n",
       " \"['order',\",\n",
       " \"'miss',\",\n",
       " \"clean',\",\n",
       " \"bleach',\",\n",
       " \"'watery']\",\n",
       " \"'box\",\n",
       " \"'open',\",\n",
       " \"'lysol',\",\n",
       " \"'clean',\",\n",
       " \"'product',\",\n",
       " \"'arrive\",\n",
       " \"'smell',\",\n",
       " \"'bleach',\",\n",
       " \"order',\",\n",
       " \"damage',\",\n",
       " \"'clorox',\",\n",
       " \"'damage\",\n",
       " \"'receive\",\n",
       " \"'cover']\",\n",
       " \"'miss\",\n",
       " \"'item',\",\n",
       " \"box']\",\n",
       " \"'didnt\",\n",
       " \"['bleach',\",\n",
       " \"'bottle\",\n",
       " \"'receive',\",\n",
       " \"'leak\",\n",
       " \"leak',\",\n",
       " \"'didnt',\",\n",
       " \"'ship']\",\n",
       " \"spill',\",\n",
       " \"['bottle',\",\n",
       " \"'spill',\",\n",
       " \"'place',\",\n",
       " \"'work',\",\n",
       " \"'lysol\",\n",
       " \"'work']\",\n",
       " \"'bleach\",\n",
       " \"'box',\",\n",
       " \"'leak',\"]"
      ]
     },
     "execution_count": 16,
     "metadata": {},
     "output_type": "execute_result"
    }
   ],
   "source": [
    "sample_df = df.iloc[:5, 2]\n",
    "# create a list of all the words in the dataframe\n",
    "all_words = []\n",
    "for i in range(len(sample_df)):\n",
    "    all_words.extend(sample_df[i].split())\n",
    "all_words = list(set(all_words))\n",
    "all_words"
   ]
  },
  {
   "cell_type": "code",
   "execution_count": 24,
   "metadata": {},
   "outputs": [
    {
     "data": {
      "text/plain": [
       "48"
      ]
     },
     "execution_count": 24,
     "metadata": {},
     "output_type": "execute_result"
    }
   ],
   "source": [
    "# clean out brackets and single quotes\n",
    "all_words = [word.replace('[','').replace(']','').replace(\"'\",'').replace(',', '') for word in all_words]\n",
    "len(all_words)"
   ]
  },
  {
   "cell_type": "code",
   "execution_count": 49,
   "metadata": {},
   "outputs": [
    {
     "data": {
      "text/plain": [
       "['titem did not arrive',\n",
       " ' item was damaged during shipping',\n",
       " ' product did not work properly',\n",
       " ' item was received',\n",
       " ' product did not clean well',\n",
       " ' item was received in proper condition']"
      ]
     },
     "execution_count": 49,
     "metadata": {},
     "output_type": "execute_result"
    }
   ],
   "source": [
    "results = process_input(all_words)\n",
    "results = results.split(',')\n",
    "results = [result.replace('\"','').replace(\"[\", '').replace(']', '').replace(\"'\", '') for result in results]\n",
    "results"
   ]
  },
  {
   "cell_type": "code",
   "execution_count": null,
   "metadata": {},
   "outputs": [],
   "source": []
  }
 ],
 "metadata": {
  "kernelspec": {
   "display_name": "text_processes",
   "language": "python",
   "name": "python3"
  },
  "language_info": {
   "codemirror_mode": {
    "name": "ipython",
    "version": 3
   },
   "file_extension": ".py",
   "mimetype": "text/x-python",
   "name": "python",
   "nbconvert_exporter": "python",
   "pygments_lexer": "ipython3",
   "version": "3.12.4"
  }
 },
 "nbformat": 4,
 "nbformat_minor": 2
}
