{
 "cells": [
  {
   "cell_type": "code",
   "execution_count": 2,
   "metadata": {},
   "outputs": [],
   "source": [
    "from sklearn.feature_extraction.text import CountVectorizer\n",
    "from sklearn.decomposition import LatentDirichletAllocation\n",
    "import pandas as pd\n",
    "import numpy as np\n",
    "import random"
   ]
  },
  {
   "cell_type": "markdown",
   "metadata": {},
   "source": [
    "# LDA for topic modeling"
   ]
  },
  {
   "cell_type": "code",
   "execution_count": 5,
   "metadata": {},
   "outputs": [
    {
     "data": {
      "text/plain": [
       "278              Works great for funny smell... recommended\n",
       "282                         access was easy, product superb\n",
       "311                              Only this part in the box.\n",
       "312       This stuff definitely gets rid of all the mois...\n",
       "609         Get all the moister out the air and smells good\n",
       "                                ...                        \n",
       "198602    My only complaint is I should have gotten thes...\n",
       "199257           Great product. Walmart delivered promptly.\n",
       "200056    These are excellent, definitely pulls excess m...\n",
       "200402    The bags fill up pretty quickly depending on l...\n",
       "202086    No problems with the item - it's great. Not ha...\n",
       "Name: review_text, Length: 822, dtype: object"
      ]
     },
     "execution_count": 5,
     "metadata": {},
     "output_type": "execute_result"
    }
   ],
   "source": [
    "df = pd.read_csv('../data/clorox_data.csv')\n",
    "by_subcategory = df.groupby('subcategory')['review_text']\n",
    "\n",
    "# choose 1 subcategory\n",
    "category = random.sample(list(pd.unique(df['subcategory'])), 1)[0]\n",
    "text = by_subcategory.get_group(category)\n",
    "text"
   ]
  },
  {
   "cell_type": "code",
   "execution_count": 6,
   "metadata": {},
   "outputs": [
    {
     "data": {
      "text/plain": [
       "278                 works great for funny smell recommended\n",
       "282                          access was easy product superb\n",
       "311                               only this part in the box\n",
       "312       this stuff definitely gets rid of all the mois...\n",
       "609         get all the moister out the air and smells good\n",
       "                                ...                        \n",
       "198602    my only complaint is i should have gotten thes...\n",
       "199257             great product walmart delivered promptly\n",
       "200056    these are excellent definitely pulls excess mo...\n",
       "200402    the bags fill up pretty quickly depending on l...\n",
       "202086    no problems with the item  its great not happy...\n",
       "Name: review_text, Length: 822, dtype: object"
      ]
     },
     "execution_count": 6,
     "metadata": {},
     "output_type": "execute_result"
    }
   ],
   "source": [
    "# preprocess text removing punctuation, lowercasing, and lemmitizing\n",
    "import re\n",
    "\n",
    "# use regex to remove punctuation\n",
    "text = text.apply(lambda x: re.sub(r'[^\\w\\s]', '', x))\n",
    "\n",
    "# lower case\n",
    "text = text.apply(lambda x: x.lower())\n",
    "\n",
    "# strip leading and trailing white space\n",
    "text = text.apply(lambda x: x.strip())\n",
    "\n",
    "# drop duplicates\n",
    "text = text.drop_duplicates()\n",
    "\n",
    "text"
   ]
  },
  {
   "cell_type": "code",
   "execution_count": 7,
   "metadata": {},
   "outputs": [
    {
     "name": "stdout",
     "output_type": "stream",
     "text": [
      "Topic 1:\n",
      "closet moisture product like works scent clothes smell great work\n",
      "\n",
      "\n",
      "Topic 2:\n",
      "moisture bags work bag smell water air like time hanging\n",
      "\n",
      "\n",
      "Topic 3:\n",
      "moisture love great closet smell keeps fresh really product closets\n",
      "\n",
      "\n",
      "Topic 4:\n",
      "moisture use just product hang great using works closet smell\n",
      "\n",
      "\n",
      "Topic 5:\n",
      "did home bathroom working great time problem water order price\n",
      "\n",
      "\n",
      "Topic 6:\n",
      "product smell damp areas excellent 26 rid basement moisture fulltime\n",
      "\n",
      "\n",
      "Topic 7:\n",
      "moisture damp closets works great use used closet easy room\n",
      "\n",
      "\n",
      "Topic 8:\n",
      "basement work damp smell rid use love good used product\n",
      "\n",
      "\n",
      "Topic 9:\n",
      "closet closets use moisture just product clothes room like hang\n",
      "\n",
      "\n",
      "Topic 10:\n",
      "works great moisture does product job really humidity good smell\n",
      "\n",
      "\n"
     ]
    }
   ],
   "source": [
    "# 1. Convert text to a document-term matrix using CountVectorizer\n",
    "count_vectorizer = CountVectorizer(stop_words='english')\n",
    "count_data = count_vectorizer.fit_transform(text)\n",
    "\n",
    "# 2. Fit the LDA model with a specified number of topics\n",
    "n_topics = 10\n",
    "lda = LatentDirichletAllocation(n_components=n_topics, random_state=12)\n",
    "lda.fit(count_data)\n",
    "\n",
    "# 3. Extract the top words for each topic\n",
    "num_words = 10\n",
    "feature_names = count_vectorizer.get_feature_names_out()\n",
    "\n",
    "# Display the top words for each topic\n",
    "for i, topic in enumerate(lda.components_):\n",
    "    print(f\"Topic {i + 1}:\")\n",
    "    top_words = [feature_names[i] for i in topic.argsort()[:-num_words - 1:-1]]\n",
    "    print(\" \".join(top_words))\n",
    "    print(\"\\n\")"
   ]
  },
  {
   "cell_type": "code",
   "execution_count": 8,
   "metadata": {},
   "outputs": [
    {
     "name": "stdout",
     "output_type": "stream",
     "text": [
      "Topic 1:\n",
      "it definitely pulls out the moisture i keep this in our master closet as fall starts to approach in throughout winter we live in a manufactured home where in the master closet there are vents for airing out the underside of the home in the crawlspace during the wet season i absolutely hate it because it starts to smell musty like it needs to open up this definitely helps pull out that moisture and keeps that musty smell away from our clothes this works for now until we are able to pay the money to have our crawlspace encapsulated\n",
      "there is not a way to tip of the local driver when the delivery order is split between two parties such as the local spark driver or uber and the rest comes by fedex or ups delivery trucks the local spark or uber person cannot receive a tip fix this now for although walmart pays them anyway as two representatives explained to me on tuesday andor wednesday of thos week they still deserve a partial tip for the part of the order that they delivered and fedexups delivered the rest it makes the customers look like cheap smucks i have talked to two people at the corporate call center who dont understand this concept or care\n",
      "we bought this damprid starter pack for our small walkin closet that has been the most humid part of our very humid apartment it seemed decent at first we noticed it dripping water into the container within a few hours one week later weve been driven insane thinking our cat must have peed on the carpet in the closet at some point without us ever noticing it smelled odd in there like an acrid scent that is comparable to ammonia it lingers in the back of your nose and faintly burns for the better part of an hour after leaving the closet i had never experienced such a thing after owning cats for years we cleaned the carpet several times and kept spraying febreze every few days in a vain we chalked it up to just needing to deeply clean the carpet today we smelled a shirt hanging in the closet and it had a slight acrid smell clinging to it we finally realized the smell had not existed before we cleaned out the closet last weekend and put the damprid on the shelf we smelled the damprid container and found the source even after smelling it outside the godforsaken closet the smell was emanating extremely menacingly out of the awful puck 010 do not buy unless you do not plan to ever enter the room where you put this fresh scent damprid if you have to use this specific product i hope you can at least buy the unscented version which will hopefully not burn your nose and throat 1010 if you love the scent of chemical warfare\n",
      "\n",
      "\n",
      "Topic 2:\n",
      "living in the south east coast it is extremely humid spring time is perfect weather to have fans on and windows open however it leaves my house being very muggy i have recently discovered that there is a type of mold growing in the closets and under the beds i threw one of these in each bedroom and within a couple days ive had zero issues absolutely satisfied with this purchase\n",
      "something has changed with damp rid that its not working like it used to it turns to chunks that wont melt the bags are also made of cheaper quality they leak and also fall off the hanger then bust and you have nasty mess that is hard to clean up im going with arm and hammer this time damp rid is a waste of money and because they decided to get cheap with changing the formula and manufacturing they just lost a long time customer\n",
      "these are total waste of money the humidity has been over 70 for 3 months in my room staying with relatives who refuse to set the ac at a reasonable level  the coolest the house has been is 79 degrees i bought two of these along with a refill bag then i bought two more of these in a 15 x 18 room all four of these have collect no more than a total of 1 tablespoon of water the humidity is over 60 all the time and half the time it is over 70 it is miserably hot and humid and these things arent helping at all i tried to get a refund but the wm store refused to issue it while the lady in front of my had a full cart of childrens clothes with no receipt and she got a refund for every single thing\n",
      "\n",
      "\n",
      "Topic 3:\n",
      "work just as expected started to collect water almost instantly bought these after trying the arm n hammer disposable tub which hasnt done much for the room ive left it in love that these come in a multipack so i can spread them around the house\n",
      "everyone who lives in areas where it rains a lot or if you dont have a window in your restroom get one of these helps with allergies 26 my restroom is usually 72 humid after i shower even if i have the exhaust fan on 26 in an hour it brings it down to about 52 after 5 hrs i had to empty out a lot of water because thats how much was collected\n",
      "i have this damprid hanging bag in my walkinclothes closet it is wicking the humidity out of the air as described and the shoe odor is going away thats great give it a week to really work i did not smell much difference in just a couple of days now i do and it has been 11 days since it was in the closet the fragrance it gives off is not overwhelming but is pleasantfreshclean smell\n",
      "\n",
      "\n",
      "Topic 4:\n",
      "i loved this item i have been buying this for my bathroom for years i always buy the box of 3 my bathroom keeps a wonderful smell because of the lavender vanilla the length of time each one will last will depend on how much moisture is in your air you will be surprised of the amount of moisture it can draw out your air once you take it out the package you just find a place to hang it up after it has filled up you just throw it away with a no touch mess to be cleaned up because its confined within a hanging package thats it hang the next one\n",
      "package was torn and beat up  just another example of poor handling at the store end by walmart or maybe by walmart shipping product was carefully packaged by manufacturer ive gotten it elsewhere and it is obviously not the manufacturer fault i believe this product helps humidity and odor though i have no proof i just hate the way walmart handles your purchases you pay for it and its yours but in the process of getting it to you they mistreat it like cheap toys can we please get some retail competition around here  so i can quit using walmart forever\n",
      "run do not walk away from this nasty leak prone stanky glob that does nothing i swear by damprid i buy the buckets and cups regularly welcome to the south but this is shockingly bad and surprisingly damprids csrs couldnt care less first the smell is horrific  like burnt hair the entire closet reeked when i went to grab something after approximately 78 days and it took me a couple minutes to realise what the smell was emanating from secondly the disc within a week was this molten glob of nasty gloop blocking and trapping the putrid oily substance  which i immediately cleaned up i do not know how damprid continues to sell this line as the reviews are so poor  im clearly in good company it doesnt work barely any condensation in the bottom it stinks and it melts into a grotesque glob within a week get the nags or the bucket but do not buy this\n",
      "\n",
      "\n",
      "Topic 5:\n",
      "the two boxes of damprid hanging bags are leaking quality issue and ruined a newly upholstered chair 350 to fix it and ruined several pieces of clothing with dripping liquid i am very upset and disappointed with the quality problem\n",
      "ease of shopping was great order was ready at the appointed time only problem was the total price of the order i wish you would wait until the order is picked up before you deduct an amount from my debit account by the time we got home with the order i had four 4 total amounts to work with to deduct from my debit account ps i did not reeceive a receipt at the time of pick up\n",
      "thought the idea of decorative containers a plus when ordering however content is priority first one i opened the basket that you pour the pellets into was cracked so automatically figured on returning it the next one i opened the pellets were not pourable but i managed to break the lump down to fit in the basket and hope they will still absorb moisture in our safe i poked at the third container and found the pellets to be harden as well so decided to return it along with the first container in the past i have had better experiences with damp rid\n",
      "\n",
      "\n",
      "Topic 6:\n",
      "i noticed a lot of moisture is collecting in the bag pretty quickly i was complaining to landlord about mildew growing on my boots and shoes had to throw them away because of it she suggested i use these 26 it does work\n",
      "my husband and i live in our travel trailer fulltime damprid bags are a must for fulltime rv living i almost bought a dehumidifier but when you live on 30 amps you have to keep in mind what you plug in but excess moisture is very bad for an rv i highly recommend damp rid for fulltime rv living\n",
      "i discovered damp rid about 5 years ago id been using dehumidifiers for my basement to keep it dry and free of risk of mold or mildew the cost of running dehumidifiers is pretty high and i was very pleased to find damp rid is an excellent alternative i now alternate between damp rid and humidifiers to manage cost as i keep my home free of problematic humidity\n",
      "\n",
      "\n",
      "Topic 7:\n",
      "works well on the hanging bag but do not buy the bucket waste of money if you buys the refillable bucket since it never collects moisture i used both a bucket and bag in the closet and bag filled up and the bucket never got one drop in there\n",
      "when i arrived home i found the box delivered on my front porch and it was damaged and the contents of one damprid containers the crystal beads spilled all inside the box the damprid container was cracked including the bag that contained the crystal beads\n",
      "i use the hanging damp rid bags in all of my closets and in my attic all the time and know 5 of my neighbors started using them to they say that they will always use them to keep the closest from getting damp and keeps the smell out of their clothes towels you get when things get that damp smell\n",
      "\n",
      "\n",
      "Topic 8:\n",
      "i used these a lot in the past and they worked well and smelled good picked up a box at walmart and when i got home and opened it they have absolutely no smell i bought these for the smell or i would have gotten the scent free ones that were much cheaper guess i ll wait and see if they work\n",
      "my husband found this product because he was trying to avoid humidity smell in our carafter leaving the car windows opened in a pouring rainstorm day aside drying the most of the water in the seats he hang the bag inside the car just for extra care the next day the bag had some condensation inside it seams like it sucked some humidity from the ambient so i guess it worked well\n",
      "have used these for several spring 26 summers mainly for the basement before the ac kicks in to help with the dampness in the basement the dehumidifier broke 26 didnt like it anyway so use these now instead i use 6 at a time hanging in different spots in basement 26 just received the second batch todaty so will be putting them up now 26 these should last for the rest of the season till furnace kicks in hopefully\n",
      "\n",
      "\n",
      "Topic 9:\n",
      "we have a moisture problem in my sons small bedroom closet these are so easy to use simply open package and hang it just like clothing it absorbs all the moisture in the closet and the bag fills with water when you see it at the maximum level just discard and hang a new one i love this fresh soft scent of lavender and vanilla it is not strong so dont worry if its in a boys room\n",
      "huge disappointment this is not the same product i purchased last year and so on the ones i use to buy had white and purple beads inside the plastic these two have only white flat shavings the lavender scent is there but not as prominent as it use to be in the beaded product i havent opened all the packages in both boxes i purchased but 1 out of the 3 packages i did open had a broken hangerit wasnt clamped on the buttons lastly with the lavender scent there is an underlying 1980s hair perm stenchnot sure what hair perms smell like now but definitely leaves an unpleasant stank in the air\n",
      "ive used damprid products for awhile now and will continue to use certain ones but never buy this one most damprid container style products come with a protective film over the cover and the calcium chloride already in the canister ready to go this one you have to set up the calcium chloride yourself amidst a million warnings while powders you are not meant to inhale poof in the air the moment i tried to position this thing on my bathroom floor the unstable thing fell over and now the space between my toilet and sink is just a pile of calcium chloride that i did not want to handle in the first place total mess dangerous feeling product i expected so much more from this company dangerous waste of time compared to any of their other products dont do it their bags and prefilled safe to use with a filter preventing spillage products are the way to go this is cheap for a reason again this one is cheaper for a reason enough said skip the dangers and mess and just buy a safe version that wont spill everywhere and create a toxic mess in your home\n",
      "\n",
      "\n",
      "Topic 10:\n",
      "i have a bathroom with no windows his one collect a lot of humidity and steam created for the shower and no ventilation enough to keep it out this has help tremendously to collect all that humidity and water in the air that stick to mirrors and creating rust in any metal like light fixtures i recommend this for small spaces it is worth it\n",
      "weve recently bought 2 different kinds of damprid including this one to replace ones that were done and none of them have worked in some cases the little pellets are all hardened and stuck together and in some cases not but none of them appear to be drawing any humidity out of the air up until now theyve worked great whats the deal damprid we need these to do their job\n",
      "would purchase again took out the musty smell in our basement and had an inch of standing water inside of it within a couple of days it was a very wet room we live in the pnw and the cloth diapers were drying in there since taking out the original moisture its pulling water much slower but the musty smell hasnt come back so i think its gotten the humidity to a more acceptable level and will last longer now its been a month or two since purchase\n",
      "\n",
      "\n"
     ]
    }
   ],
   "source": [
    "# display representative reviews for each topic\n",
    "n_reviews = 3\n",
    "doc_topic = lda.transform(count_data)\n",
    "for i in range(n_topics):\n",
    "    print(f\"Topic {i + 1}:\")\n",
    "    top_reviews = text.iloc[doc_topic[:, i].argsort()[-n_reviews:]]\n",
    "    for review in top_reviews:\n",
    "        print(review)\n",
    "    print(\"\\n\")"
   ]
  },
  {
   "cell_type": "code",
   "execution_count": null,
   "metadata": {},
   "outputs": [],
   "source": []
  }
 ],
 "metadata": {
  "kernelspec": {
   "display_name": "clorox_env",
   "language": "python",
   "name": "python3"
  },
  "language_info": {
   "codemirror_mode": {
    "name": "ipython",
    "version": 3
   },
   "file_extension": ".py",
   "mimetype": "text/x-python",
   "name": "python",
   "nbconvert_exporter": "python",
   "pygments_lexer": "ipython3",
   "version": "3.12.4"
  }
 },
 "nbformat": 4,
 "nbformat_minor": 2
}
