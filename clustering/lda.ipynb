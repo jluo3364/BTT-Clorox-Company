{
 "cells": [
  {
   "cell_type": "code",
   "execution_count": 1,
   "metadata": {},
   "outputs": [
    {
     "name": "stderr",
     "output_type": "stream",
     "text": [
      "C:\\Users\\melod\\AppData\\Roaming\\Python\\Python39\\site-packages\\pandas\\core\\computation\\expressions.py:21: UserWarning: Pandas requires version '2.8.4' or newer of 'numexpr' (version '2.8.3' currently installed).\n",
      "  from pandas.core.computation.check import NUMEXPR_INSTALLED\n",
      "C:\\Users\\melod\\AppData\\Roaming\\Python\\Python39\\site-packages\\pandas\\core\\arrays\\masked.py:60: UserWarning: Pandas requires version '1.3.6' or newer of 'bottleneck' (version '1.3.5' currently installed).\n",
      "  from pandas.core import (\n"
     ]
    }
   ],
   "source": [
    "from sklearn.feature_extraction.text import CountVectorizer\n",
    "from sklearn.decomposition import LatentDirichletAllocation\n",
    "import pandas as pd\n",
    "import numpy as np\n",
    "import random"
   ]
  },
  {
   "cell_type": "code",
   "execution_count": 6,
   "metadata": {},
   "outputs": [
    {
     "data": {
      "text/plain": [
       "145       I bought this to clean my hot tub and it did a...\n",
       "255                               loved the product. Strong\n",
       "261       I cannot imagine not having a Scrub Daddy. The...\n",
       "352               The scrub daddy is easier for me to hold!\n",
       "420       I love that it softens in hot water and harden...\n",
       "                                ...                        \n",
       "211066    i originally gave scrub daddy a chance because...\n",
       "211365    It’s amazing and I love using both sides to cl...\n",
       "213277    Love the scub daddy. It's my fave out of all t...\n",
       "213325    Me and my brother got one of these they clean ...\n",
       "213804                                    Best sponge ever!\n",
       "Name: review_text, Length: 2479, dtype: object"
      ]
     },
     "execution_count": 6,
     "metadata": {},
     "output_type": "execute_result"
    }
   ],
   "source": [
    "df = pd.read_csv('../data/clorox_data.csv')\n",
    "by_subcategory = df.groupby('subcategory')['review_text']\n",
    "\n",
    "# sample 20 subcategories\n",
    "random.seed(13)\n",
    "sample_subcategories = random.sample(list(pd.unique(df['subcategory'])), 20)\n",
    "sample_subcategories\n",
    "category = sample_subcategories[0]\n",
    "text = by_subcategory.get_group(category)\n",
    "text"
   ]
  },
  {
   "cell_type": "code",
   "execution_count": 3,
   "metadata": {},
   "outputs": [
    {
     "data": {
      "text/plain": [
       "145       i bought this to clean my hot tub and it did a...\n",
       "255                                loved the product strong\n",
       "261       i cannot imagine not having a scrub daddy the ...\n",
       "352                the scrub daddy is easier for me to hold\n",
       "420       i love that it softens in hot water and harden...\n",
       "                                ...                        \n",
       "211066    i originally gave scrub daddy a chance because...\n",
       "211365    its amazing and i love using both sides to cle...\n",
       "213277    love the scub daddy its my fave out of all the...\n",
       "213325    me and my brother got one of these they clean ...\n",
       "213804                                     best sponge ever\n",
       "Name: review_text, Length: 2476, dtype: object"
      ]
     },
     "execution_count": 3,
     "metadata": {},
     "output_type": "execute_result"
    }
   ],
   "source": [
    "# preprocess text removing punctuation, lowercasing, and lemmitizing\n",
    "import re\n",
    "\n",
    "# use regex to remove punctuation\n",
    "text = text.apply(lambda x: re.sub(r'[^\\w\\s]', '', x))\n",
    "\n",
    "# lower case\n",
    "text = text.apply(lambda x: x.lower())\n",
    "\n",
    "# strip leading and trailing white space\n",
    "text = text.apply(lambda x: x.strip())\n",
    "\n",
    "# drop duplicates\n",
    "text = text.drop_duplicates()\n",
    "\n",
    "text"
   ]
  },
  {
   "cell_type": "code",
   "execution_count": 4,
   "metadata": {},
   "outputs": [
    {
     "name": "stdout",
     "output_type": "stream",
     "text": [
      "Topic 1:\n",
      "best dishes cleaning sponge sponges used ive scrubber washing love\n",
      "\n",
      "\n",
      "Topic 2:\n",
      "scrub daddy love mommy products sponge sponges brand time long\n",
      "\n",
      "\n",
      "Topic 3:\n",
      "like dont water im use sponge scrubbing got great just\n",
      "\n",
      "\n",
      "Topic 4:\n",
      "long use great sponge time product scrubbing kitchen lasting bought\n",
      "\n",
      "\n",
      "Topic 5:\n",
      "love sponge dishes scrubber worth use favorite great wash item\n",
      "\n",
      "\n",
      "Topic 6:\n",
      "water soft sponge cold hot love hard scrubber scrub used\n",
      "\n",
      "\n",
      "Topic 7:\n",
      "sponge like sponges scrub love really regular daddy better using\n",
      "\n",
      "\n",
      "Topic 8:\n",
      "works great doesnt love does like smell scrubber job use\n",
      "\n",
      "\n",
      "Topic 9:\n",
      "sponge love product buy use great used best apart cleans\n",
      "\n",
      "\n",
      "Topic 10:\n",
      "love use clean sponge dishes great easy long lasts time\n",
      "\n",
      "\n"
     ]
    }
   ],
   "source": [
    "# 1. Convert text to a document-term matrix using CountVectorizer\n",
    "count_vectorizer = CountVectorizer(stop_words='english')\n",
    "count_data = count_vectorizer.fit_transform(text)\n",
    "\n",
    "# 2. Fit the LDA model with a specified number of topics\n",
    "n_topics = 10\n",
    "lda = LatentDirichletAllocation(n_components=n_topics, random_state=12)\n",
    "lda.fit(count_data)\n",
    "\n",
    "# 3. Extract the top words for each topic\n",
    "num_words = 10\n",
    "feature_names = count_vectorizer.get_feature_names_out()\n",
    "\n",
    "# Display the top words for each topic\n",
    "for i, topic in enumerate(lda.components_):\n",
    "    print(f\"Topic {i + 1}:\")\n",
    "    top_words = [feature_names[i] for i in topic.argsort()[:-num_words - 1:-1]]\n",
    "    print(\" \".join(top_words))\n",
    "    print(\"\\n\")"
   ]
  },
  {
   "cell_type": "code",
   "execution_count": 8,
   "metadata": {},
   "outputs": [
    {
     "name": "stdout",
     "output_type": "stream",
     "text": [
      "Topic 1:\n",
      "these are our favorite to sponges for washing dishes weve bought them consistently for over a year now we dont have a dishwasher so we use these sponges frequently i love their duality and they last a good while as long as theyre used properly and with care i also love that they have a recycling program so thats a huge plus\n",
      "always wanted to try this sponge for the hype and advertising i bought one and its not all that i like that it doesnt scratch my pots but its harder to get grease off i use dawn not very flexible for edges on your tupperware took me longer to wash my dishes i went back to the usual dishwashing sponges but ill keep it for surfaces shoes fabrics cleaning\n",
      "we dont have a dish washer so its all done by hand weve tried so many different types of sponges rags and scrubbers these are the ones we return to over 26 over i love they dont hold onto moisture that leads to mildew 26 mold ive never had an issue with them smelling the main issue i have is i go thru them fast i need 1 a month before they start to break down 4 a month for a sponge can get kinda expensive\n",
      "\n",
      "\n",
      "Topic 2:\n",
      "ive been using the scrub daddy for a long time but the scrub mommy is my favorite the softer side allows me to get into the nooks and crannies of storage bowl lids easier the abrasive side cuts the scrub time drastically there really is no elbow grease required try it and youll never go back i love it so much i always have a back up for when mine needs replaced so i know i wont be without\n",
      "works well but was absolutely decimated after about a month or two of normal dish washing the pink side totally fell apart may be because we were given the scrub mommy as a replacement instead of the scrub daddy though maybe the scrub mommy isnt intended for dish use a huge part of the reason i bought these is because theyre supposed to last a really long time and be sanitizable so not very impressed\n",
      "far superior to the scrub daddy in my opinion plus its pink i dont see why youd choose the scrub daddy over miss mommy the bow adds even more scrub potential to your dish washing journey just repurchased because i wore my last one down till she was a thin lifeless scrap and ill keep repurchasing until the brand itself is renamed scrub mommy in homage to this genius reinvention of the scrub daddy\n",
      "\n",
      "\n",
      "Topic 3:\n",
      "i wanted to hate this sponge why well i dont like spending much money on a simple sponge one day the winds turned and i got a wild hair and decided why the heck not well i guess i was just holding back on myself because i enjoy cleaning with this brush once its on its last life i use it for cleaning counters and my sink\n",
      "its ok but i dont like how its super hard unless u put hot water on it cause i dont reallt like hot water and i dont like when waiting for hoy water when im trying to quickly wash one dish also apparently ur supposed to change these out every two weeeks so that made me not want to use these anymore\n",
      "after years of seeing these on the market and reading such glowing reviews i finally succumbed and bought one i dont get the hype i dont find it to be very effective at scrubbing the shape and size doesnt lend itself to ease of use the positives i can find are  a its cute and b it rinses out easily thats it maybe im missing something maybe theres some magic trick i need to know but i wouldnt buy another one\n",
      "\n",
      "\n",
      "Topic 4:\n",
      "it works great especially on cast iron washed and dried every use but still got mildewy and spread bacteria to everything it touched after only a few weeks and not better with recommended sanitizing methods not worth the price\n",
      "i liked everything about the product cute little design cleans deep down rinses out clean would not recommend putting in the washer or dishwasher for cleaning can fall apart i used this product to clean my entire oven works great\n",
      "i see people using this on youtube all the time so i thought i would try it out and i was very surprised how well it cleans i use it in the kitchen inside oven door and the stovetop inside refrigerator etc and in the bathroom  toilet shower sink and the faucet and drain cover i use it dawn powerwash and comet and everything cleans up beautifully\n",
      "\n",
      "\n",
      "Topic 5:\n",
      "i love the way it holds soap and one side scrubs and the yellow side is a sponge the mouth will fit a spoon to scrub the eyes can wash the outside of anything that fits through the eyes the edges get into all the edges to wash greatest invention\n",
      "truly love this item works awesome and worth the money my nephew also loves this item worth every penny to buy and use regular i truly think it is the best and worth spending the money on to get the satisfication to use on a regular basis thanks\n",
      "where the heck has my brain been these sponges are excellent the mold into you hand grip the fit great into cups coffee mugs etc they were wonders on pans and will not take of the nonstick finish i love how clean they get my silverware even when these forked etc have dried on eggs and cheese i highly recommend these i encourage everyone to use the name brand i have not purchased any generic so i have nothing to compare it to\n",
      "\n",
      "\n",
      "Topic 6:\n",
      "i did not receive it i was told i was getting a refund and i have not got a refund yet where is my refund i want a refund or a sponge sent out i did not get my spinge it was sent to the wrong address the shipping company put the wrong address on the shipping label terrible service\n",
      "this product saved my relationship and made me a better man i no longer avoid doing dishes which always frustrated my partner in fact i am now excited to do them the features of this sponge allow for dexterous washing and the ability to sanitize it in the dishwasher has made this a total upgrade to any sponge i am a walmart employee and my review has not been sponsored or edited by walmart\n",
      "ive seen the hype around this sponge and thought surely it isnt as good as everyone says it is right well wrong it was that good at least for me it was i have one less reason to dread doing the dishes easier to grip two beautiful sides sincere service with a smile you already know the gist get one if youre curious like i was i will say your mileage may very if you have small cups or plates\n",
      "\n",
      "\n",
      "Topic 7:\n",
      "have used for 2 weeks now has great quality ergo fit the tough side pink is of great quality better than most sponges has not separated yet from the yellow which is just like any regular sponge finally the edges has useful ridges to use on small objects and uneven surfaces i have not find the wholes useful yet doest not fit small straws and utensiles snug enough but its good for large items\n",
      "the sponge only lasted a week it worked amazing while it lasted dont get me wrong but fell apart in 6 days we cook a lot hence lots of pots  pans and serving trays paying the same price for a 6 pack of scotch bright sponges would have been better and more cost effective i also dont like how it reacts with dish soap i felt like i had to use more than normal with this product live and learn dont believe the hype over this product\n",
      "i see these scrub products all over and have debated getting them in the past but have never pulled the trigger the dish scrubbies weve been using the past 30 years have over the past couple years significantly decreased in quality and just arent holding up so when we saw these in the store this time we decided to give them a try the scrub daddy is not for the faint of heart i thought it would soften more than it does when wet so if you have fragile skin on your hands this probably isnt a good choice its really more robust than what we need to wash dishes or to occasionally scrub a little scorched food off a skillet that being said i do like the products durability and ease of cleaning just throw it in the dishwasher and its great for tougher jobs like cleaning burnt on spills off the enamel stove top\n",
      "\n",
      "\n",
      "Topic 8:\n",
      "half of my produce were rotten i am not happy at all this is unacceptable i am paying for this the workersassociate should be more considerate of things like this i am pretty sure that if it was their groceries they would pay more attention and picked fresher produce\n",
      "scrubber works good and does not harm the surface my grandchildren like to use it to wash dishes so i bought them one to use at home my grandson said he likes to use the agressive side\n",
      "why do you have people to deliver to people and they afraid of dogs i am disabled and dependent on my dogs plus i buy a lot of dog food from walmart and when someone is constant buying 50 pounds of dog food with every order this should tell you they have dogs  so please do not send someone to my house that is afraid of dogs  because it makes it harder on me  thank you\n",
      "\n",
      "\n",
      "Topic 9:\n",
      "i dont understand the hype falls apart where the two sides are fused together and the rougher side has little fallout pieces and i imagine microplastics enter into the drain also rough on my arthritic hands bc its so big i think the only plus side is its less prone to stink than a standard sponge doesnt scrub off cooked on frying pans well with either side\n",
      "so i bought this because my niece said you have to try this very skeptical at first then i got one it cleans everything without scratching or removing the coating in your pans was shocked how well this cleans your stovetop after dinner with all the baked on mess  shines up my stainless sink i waited to see if it started to stink after couple of days but did not i had to come back  get a 2nd one for the bathroom too plus who doesnt like to look down at your scrubby smiling at back at you\n",
      "ive been hearing a lot of hype about this thing ive never been one to jump on any band wagon or care about whats popular so i made a point of never buying these i didnt think there could possibly be a sponge that would be worthy of all of the praise this thing got a friend of mine had purchased a 2pack so when i asked if theyre as good as their followers thought she tossed me one and said to take it home and try it im a clean freak so i spend a lot of my life scrubbing i tested a small section of my shower because i wasnt convinced that it wouldnt scratch the surface my bright sparkling shower that looked so perfect already since it had only been a few hours since i cleaned it seemed to be getting smoother the more i scrubbed it turns out that there was deep set in soap scum that i wasnt able to feel through my gloves and was so minimal that you couldnt tell it was there with a typical scrub scour sponge basically this thing made me go back and scrub my house because i realized it wasnt as clean as i thought this breaks up dirt better than my drill cleaning attachments\n",
      "\n",
      "\n",
      "Topic 10:\n",
      "i love that this scrubber is so firm in cooler water and holds up well cleaning tough burnt bits off pans but at the same time does not scratch at all it cleans pans well is easy to keep clean and does not disintegrate into bits after a couple uses\n",
      "great product gor cleaning especially in the kitchen getting baked on crud off dishespans and bakeware they last a long time routinely run them through the dishwasher or soak in bleach 26 dish soap solution to keep them smelling fresh\n",
      "in every job that must be done there is an element of fun just find the fun and  snap  the jobs a game  mary poppins this sponge puts some fun into washing dishes and has been very useful in getting my son to do his chores he especially likes washing silverware in the smile part of the sponge\n",
      "\n",
      "\n"
     ]
    }
   ],
   "source": [
    "# display representative reviews for each topic\n",
    "n_reviews = 3\n",
    "doc_topic = lda.transform(count_data)\n",
    "for i in range(n_topics):\n",
    "    print(f\"Topic {i + 1}:\")\n",
    "    top_reviews = text.iloc[doc_topic[:, i].argsort()[-n_reviews:]]\n",
    "    for review in top_reviews:\n",
    "        print(review)\n",
    "    print(\"\\n\")"
   ]
  }
 ],
 "metadata": {
  "kernelspec": {
   "display_name": "env",
   "language": "python",
   "name": "python3"
  },
  "language_info": {
   "codemirror_mode": {
    "name": "ipython",
    "version": 3
   },
   "file_extension": ".py",
   "mimetype": "text/x-python",
   "name": "python",
   "nbconvert_exporter": "python",
   "pygments_lexer": "ipython3",
   "version": "3.9.13"
  }
 },
 "nbformat": 4,
 "nbformat_minor": 2
}
