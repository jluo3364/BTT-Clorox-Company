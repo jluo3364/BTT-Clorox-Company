{
 "cells": [
  {
   "cell_type": "code",
   "execution_count": 4,
   "metadata": {},
   "outputs": [
    {
     "name": "stderr",
     "output_type": "stream",
     "text": [
      "/Users/jessicaluo/Desktop/scrap/text_processes/lib/python3.12/site-packages/sentence_transformers/cross_encoder/CrossEncoder.py:11: TqdmExperimentalWarning: Using `tqdm.autonotebook.tqdm` in notebook mode. Use `tqdm.tqdm` instead to force console mode (e.g. in jupyter console)\n",
      "  from tqdm.autonotebook import tqdm, trange\n"
     ]
    }
   ],
   "source": [
    "import pandas as pd\n",
    "import numpy as np\n",
    "import matplotlib.pyplot as plt\n",
    "import seaborn as sns\n",
    "from sentence_transformers import SentenceTransformer\n",
    "from torch.nn.functional import cosine_similarity\n"
   ]
  },
  {
   "cell_type": "markdown",
   "metadata": {},
   "source": [
    "# compute similarity scores for original bertopic topics"
   ]
  },
  {
   "cell_type": "code",
   "execution_count": 10,
   "metadata": {},
   "outputs": [
    {
     "data": {
      "text/html": [
       "<div>\n",
       "<style scoped>\n",
       "    .dataframe tbody tr th:only-of-type {\n",
       "        vertical-align: middle;\n",
       "    }\n",
       "\n",
       "    .dataframe tbody tr th {\n",
       "        vertical-align: top;\n",
       "    }\n",
       "\n",
       "    .dataframe thead th {\n",
       "        text-align: right;\n",
       "    }\n",
       "</style>\n",
       "<table border=\"1\" class=\"dataframe\">\n",
       "  <thead>\n",
       "    <tr style=\"text-align: right;\">\n",
       "      <th></th>\n",
       "      <th>brand</th>\n",
       "      <th>product_title</th>\n",
       "      <th>proxy_date</th>\n",
       "      <th>retailer</th>\n",
       "      <th>category</th>\n",
       "      <th>subcategory</th>\n",
       "      <th>review_text</th>\n",
       "      <th>star_rating</th>\n",
       "      <th>topic</th>\n",
       "      <th>brand_type</th>\n",
       "    </tr>\n",
       "  </thead>\n",
       "  <tbody>\n",
       "    <tr>\n",
       "      <th>0</th>\n",
       "      <td>Clorox</td>\n",
       "      <td>Clorox Wring Clean Cotton Mop</td>\n",
       "      <td>2024-07-08</td>\n",
       "      <td>Target</td>\n",
       "      <td>CLEANING</td>\n",
       "      <td>FLOOR CLEANERS</td>\n",
       "      <td>the mop be cheap the wringing attachment doesn...</td>\n",
       "      <td>1.0</td>\n",
       "      <td>Product review: Click n Clean multi-surface sp...</td>\n",
       "      <td>Clorox</td>\n",
       "    </tr>\n",
       "    <tr>\n",
       "      <th>1</th>\n",
       "      <td>Rapid</td>\n",
       "      <td>32 oz. Rapid Clean Remediation, Trigger Spray ...</td>\n",
       "      <td>2024-07-08</td>\n",
       "      <td>Home Depot</td>\n",
       "      <td>CLEANING</td>\n",
       "      <td>BATHROOM CLEANERS MILDEW CLEANERS</td>\n",
       "      <td>this product be recommend for a front load was...</td>\n",
       "      <td>1.0</td>\n",
       "      <td>Mold removal and prevention products</td>\n",
       "      <td>Competitor</td>\n",
       "    </tr>\n",
       "    <tr>\n",
       "      <th>2</th>\n",
       "      <td>Mrs. Meyer's Clean Day</td>\n",
       "      <td>Mrs Meyers Clean Day Cleaner Plastic Bottle Mu...</td>\n",
       "      <td>2024-07-08</td>\n",
       "      <td>Target</td>\n",
       "      <td>CLEANING</td>\n",
       "      <td>SPRAY CLEANERS ALL PURPOSE CLEANERS</td>\n",
       "      <td>smell so good definitely my favorite scent</td>\n",
       "      <td>5.0</td>\n",
       "      <td>Fall scents and their popularity</td>\n",
       "      <td>Competitor</td>\n",
       "    </tr>\n",
       "    <tr>\n",
       "      <th>3</th>\n",
       "      <td>Pourri</td>\n",
       "      <td>Poo Pourri Plastic Spray Bottle Toilet Oil Fre...</td>\n",
       "      <td>2024-07-08</td>\n",
       "      <td>Target</td>\n",
       "      <td>CLEANING</td>\n",
       "      <td>ODOR CONTROLLING AIR FRESHENERS</td>\n",
       "      <td>i keep multiple bottle in the bathroom and car...</td>\n",
       "      <td>5.0</td>\n",
       "      <td>Household cleaning and sanitization tips</td>\n",
       "      <td>Competitor</td>\n",
       "    </tr>\n",
       "    <tr>\n",
       "      <th>4</th>\n",
       "      <td>Twist &amp; Shout</td>\n",
       "      <td>Twist &amp; Shout Spin Mop &amp; Bucket System with 1 ...</td>\n",
       "      <td>2024-07-01</td>\n",
       "      <td>Costco</td>\n",
       "      <td>CLEANING</td>\n",
       "      <td>FLOOR CLEANERS</td>\n",
       "      <td>i recently just get this mop love how easy it ...</td>\n",
       "      <td>5.0</td>\n",
       "      <td>Product review: Click n Clean multi-surface sp...</td>\n",
       "      <td>Competitor</td>\n",
       "    </tr>\n",
       "  </tbody>\n",
       "</table>\n",
       "</div>"
      ],
      "text/plain": [
       "                    brand                                      product_title  \\\n",
       "0                  Clorox                      Clorox Wring Clean Cotton Mop   \n",
       "1                   Rapid  32 oz. Rapid Clean Remediation, Trigger Spray ...   \n",
       "2  Mrs. Meyer's Clean Day  Mrs Meyers Clean Day Cleaner Plastic Bottle Mu...   \n",
       "3                  Pourri  Poo Pourri Plastic Spray Bottle Toilet Oil Fre...   \n",
       "4           Twist & Shout  Twist & Shout Spin Mop & Bucket System with 1 ...   \n",
       "\n",
       "   proxy_date    retailer  category                          subcategory  \\\n",
       "0  2024-07-08      Target  CLEANING                       FLOOR CLEANERS   \n",
       "1  2024-07-08  Home Depot  CLEANING    BATHROOM CLEANERS MILDEW CLEANERS   \n",
       "2  2024-07-08      Target  CLEANING  SPRAY CLEANERS ALL PURPOSE CLEANERS   \n",
       "3  2024-07-08      Target  CLEANING      ODOR CONTROLLING AIR FRESHENERS   \n",
       "4  2024-07-01      Costco  CLEANING                       FLOOR CLEANERS   \n",
       "\n",
       "                                         review_text  star_rating  \\\n",
       "0  the mop be cheap the wringing attachment doesn...          1.0   \n",
       "1  this product be recommend for a front load was...          1.0   \n",
       "2         smell so good definitely my favorite scent          5.0   \n",
       "3  i keep multiple bottle in the bathroom and car...          5.0   \n",
       "4  i recently just get this mop love how easy it ...          5.0   \n",
       "\n",
       "                                               topic  brand_type  \n",
       "0  Product review: Click n Clean multi-surface sp...      Clorox  \n",
       "1               Mold removal and prevention products  Competitor  \n",
       "2                   Fall scents and their popularity  Competitor  \n",
       "3           Household cleaning and sanitization tips  Competitor  \n",
       "4  Product review: Click n Clean multi-surface sp...  Competitor  "
      ]
     },
     "execution_count": 10,
     "metadata": {},
     "output_type": "execute_result"
    }
   ],
   "source": [
    "path = '../data/processed_reviews.csv'\n",
    "df = pd.read_csv(path)\n",
    "df.head()"
   ]
  },
  {
   "cell_type": "code",
   "execution_count": 12,
   "metadata": {},
   "outputs": [
    {
     "data": {
      "text/plain": [
       "(25012, 10)"
      ]
     },
     "execution_count": 12,
     "metadata": {},
     "output_type": "execute_result"
    }
   ],
   "source": [
    "subcategories = ['SPRAY CLEANERS BLEACH CLEANERS', 'BODY CARE BODY LOTION']\n",
    "df_filtered = df[df['sub_category'].isin(subcategories)]\n",
    "df_filtered.shape"
   ]
  },
  {
   "cell_type": "code",
   "execution_count": 13,
   "metadata": {},
   "outputs": [],
   "source": [
    "def similarity_scores(model_name, reviews, topics):\n",
    "    \"\"\"\n",
    "    Calculate the similarity scores between reviews and topics using a pre-trained SentenceTransformer model.\n",
    "    \n",
    "    model_name: the name of the pre-trained SentenceTransformer model to use\n",
    "    reviews: a list of review texts\n",
    "    topics: a list of topic phrases\n",
    "    \n",
    "    return: a 2D numpy array of similarity scores\n",
    "    \"\"\"\n",
    "    model = SentenceTransformer(model_name)\n",
    "    review_embeddings = model.encode(reviews, convert_to_tensor=True)\n",
    "    phrase_embeddings = model.encode(topics, convert_to_tensor=True)\n",
    "    similarity_scores = cosine_similarity(review_embeddings, phrase_embeddings).cpu().numpy()\n",
    "    return similarity_scores"
   ]
  },
  {
   "cell_type": "code",
   "execution_count": 19,
   "metadata": {},
   "outputs": [],
   "source": [
    "reviews = df_filtered['review_text'].tolist()\n",
    "topics = df_filtered['topic'].tolist()\n",
    "model = 'all-MiniLM-L6-v2'"
   ]
  },
  {
   "cell_type": "code",
   "execution_count": 22,
   "metadata": {},
   "outputs": [
    {
     "name": "stdout",
     "output_type": "stream",
     "text": [
      "Processing reviews 0 to 300\n"
     ]
    },
    {
     "name": "stderr",
     "output_type": "stream",
     "text": [
      "/Users/jessicaluo/Desktop/scrap/text_processes/lib/python3.12/site-packages/transformers/tokenization_utils_base.py:1601: FutureWarning: `clean_up_tokenization_spaces` was not set. It will be set to `True` by default. This behavior will be depracted in transformers v4.45, and will be then set to `False` by default. For more details check this issue: https://github.com/huggingface/transformers/issues/31884\n",
      "  warnings.warn(\n"
     ]
    },
    {
     "name": "stdout",
     "output_type": "stream",
     "text": [
      "Processing reviews 300 to 600\n",
      "Processing reviews 600 to 900\n",
      "Processing reviews 900 to 1200\n",
      "Processing reviews 1200 to 1500\n",
      "Processing reviews 1500 to 1800\n",
      "Processing reviews 1800 to 2100\n",
      "Processing reviews 2100 to 2400\n",
      "Processing reviews 2400 to 2700\n",
      "Processing reviews 2700 to 3000\n",
      "Processing reviews 3000 to 3300\n",
      "Processing reviews 3300 to 3600\n",
      "Processing reviews 3600 to 3900\n",
      "Processing reviews 3900 to 4200\n",
      "Processing reviews 4200 to 4500\n",
      "Processing reviews 4500 to 4800\n",
      "Processing reviews 4800 to 5100\n",
      "Processing reviews 5100 to 5400\n",
      "Processing reviews 5400 to 5700\n",
      "Processing reviews 5700 to 6000\n",
      "Processing reviews 6000 to 6300\n",
      "Processing reviews 6300 to 6600\n",
      "Processing reviews 6600 to 6900\n",
      "Processing reviews 6900 to 7200\n",
      "Processing reviews 7200 to 7500\n",
      "Processing reviews 7500 to 7800\n",
      "Processing reviews 7800 to 8100\n",
      "Processing reviews 8100 to 8400\n",
      "Processing reviews 8400 to 8700\n",
      "Processing reviews 8700 to 9000\n",
      "Processing reviews 9000 to 9300\n",
      "Processing reviews 9300 to 9600\n",
      "Processing reviews 9600 to 9900\n",
      "Processing reviews 9900 to 10200\n",
      "Processing reviews 10200 to 10500\n",
      "Processing reviews 10500 to 10800\n",
      "Processing reviews 10800 to 11100\n",
      "Processing reviews 11100 to 11400\n",
      "Processing reviews 11400 to 11700\n",
      "Processing reviews 11700 to 12000\n",
      "Processing reviews 12000 to 12300\n",
      "Processing reviews 12300 to 12600\n",
      "Processing reviews 12600 to 12900\n",
      "Processing reviews 12900 to 13200\n",
      "Processing reviews 13200 to 13500\n",
      "Processing reviews 13500 to 13800\n",
      "Processing reviews 13800 to 14100\n",
      "Processing reviews 14100 to 14400\n",
      "Processing reviews 14400 to 14700\n",
      "Processing reviews 14700 to 15000\n",
      "Processing reviews 15000 to 15300\n",
      "Processing reviews 15300 to 15600\n",
      "Processing reviews 15600 to 15900\n",
      "Processing reviews 15900 to 16200\n",
      "Processing reviews 16200 to 16500\n",
      "Processing reviews 16500 to 16800\n",
      "Processing reviews 16800 to 17100\n",
      "Processing reviews 17100 to 17400\n",
      "Processing reviews 17400 to 17700\n",
      "Processing reviews 17700 to 18000\n",
      "Processing reviews 18000 to 18300\n",
      "Processing reviews 18300 to 18600\n",
      "Processing reviews 18600 to 18900\n",
      "Processing reviews 18900 to 19200\n",
      "Processing reviews 19200 to 19500\n",
      "Processing reviews 19500 to 19800\n",
      "Processing reviews 19800 to 20100\n",
      "Processing reviews 20100 to 20400\n",
      "Processing reviews 20400 to 20700\n",
      "Processing reviews 20700 to 21000\n",
      "Processing reviews 21000 to 21300\n",
      "Processing reviews 21300 to 21600\n",
      "Processing reviews 21600 to 21900\n",
      "Processing reviews 21900 to 22200\n",
      "Processing reviews 22200 to 22500\n",
      "Processing reviews 22500 to 22800\n",
      "Processing reviews 22800 to 23100\n",
      "Processing reviews 23100 to 23400\n",
      "Processing reviews 23400 to 23700\n",
      "Processing reviews 23700 to 24000\n",
      "Processing reviews 24000 to 24300\n",
      "Processing reviews 24300 to 24600\n",
      "Processing reviews 24600 to 24900\n",
      "Processing reviews 24900 to 25012\n"
     ]
    }
   ],
   "source": [
    "# run similarity_scores on chunks of reviews \n",
    "chunk_size = 300\n",
    "n = len(reviews)\n",
    "similarity_scores_list = []\n",
    "for i in range(0, n, chunk_size):\n",
    "    print(f'Processing reviews {i} to {min(i+chunk_size, n)}')\n",
    "    similarity_scores_list.extend(similarity_scores(model, reviews[i:i+chunk_size], topics[i:i+chunk_size]))"
   ]
  },
  {
   "cell_type": "code",
   "execution_count": 24,
   "metadata": {},
   "outputs": [
    {
     "data": {
      "text/plain": [
       "25012"
      ]
     },
     "execution_count": 24,
     "metadata": {},
     "output_type": "execute_result"
    }
   ],
   "source": [
    "df_filtered['similarity_score'] = similarity_scores_list"
   ]
  },
  {
   "cell_type": "code",
   "execution_count": 28,
   "metadata": {},
   "outputs": [],
   "source": [
    "# save df_filtered to csv\n",
    "df_filtered.to_csv('data/lotion+spray_bertopic_similarity_scores.csv', index=False)"
   ]
  }
 ],
 "metadata": {
  "kernelspec": {
   "display_name": "text_processes",
   "language": "python",
   "name": "python3"
  },
  "language_info": {
   "codemirror_mode": {
    "name": "ipython",
    "version": 3
   },
   "file_extension": ".py",
   "mimetype": "text/x-python",
   "name": "python",
   "nbconvert_exporter": "python",
   "pygments_lexer": "ipython3",
   "version": "3.12.4"
  }
 },
 "nbformat": 4,
 "nbformat_minor": 2
}
