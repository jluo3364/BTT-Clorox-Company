{
 "cells": [
  {
   "cell_type": "code",
   "execution_count": 1,
   "metadata": {},
   "outputs": [],
   "source": [
    "from sklearn.feature_extraction.text import TfidfVectorizer\n",
    "from sklearn.decomposition import TruncatedSVD\n",
    "import pandas as pd\n",
    "import numpy as np\n",
    "import math"
   ]
  },
  {
   "cell_type": "markdown",
   "metadata": {},
   "source": [
    "# open csv"
   ]
  },
  {
   "cell_type": "code",
   "execution_count": 2,
   "metadata": {},
   "outputs": [
    {
     "name": "stdout",
     "output_type": "stream",
     "text": [
      "(20281, 10)\n"
     ]
    },
    {
     "data": {
      "text/html": [
       "<div>\n",
       "<style scoped>\n",
       "    .dataframe tbody tr th:only-of-type {\n",
       "        vertical-align: middle;\n",
       "    }\n",
       "\n",
       "    .dataframe tbody tr th {\n",
       "        vertical-align: top;\n",
       "    }\n",
       "\n",
       "    .dataframe thead th {\n",
       "        text-align: right;\n",
       "    }\n",
       "</style>\n",
       "<table border=\"1\" class=\"dataframe\">\n",
       "  <thead>\n",
       "    <tr style=\"text-align: right;\">\n",
       "      <th></th>\n",
       "      <th>brand</th>\n",
       "      <th>product_title</th>\n",
       "      <th>proxy_date</th>\n",
       "      <th>retailer</th>\n",
       "      <th>category</th>\n",
       "      <th>subcategory</th>\n",
       "      <th>review_text</th>\n",
       "      <th>star_rating</th>\n",
       "      <th>topic</th>\n",
       "      <th>brand_type</th>\n",
       "    </tr>\n",
       "  </thead>\n",
       "  <tbody>\n",
       "    <tr>\n",
       "      <th>210565</th>\n",
       "      <td>Palmer's</td>\n",
       "      <td>Palmer's Cocoa Butter Formula Daily Skin Thera...</td>\n",
       "      <td>2024-07-01</td>\n",
       "      <td>CVS</td>\n",
       "      <td>PERSONAL CARE</td>\n",
       "      <td>BODY CARE BODY LOTION</td>\n",
       "      <td>i have use this lotion for year and love it ve...</td>\n",
       "      <td>5.0</td>\n",
       "      <td>Moisturizer preference and usage habits</td>\n",
       "      <td>Competitor</td>\n",
       "    </tr>\n",
       "    <tr>\n",
       "      <th>210757</th>\n",
       "      <td>EOS</td>\n",
       "      <td>eos Shea Better Moisture Body Lotion - Vanilla...</td>\n",
       "      <td>2024-07-01</td>\n",
       "      <td>Target</td>\n",
       "      <td>PERSONAL CARE</td>\n",
       "      <td>BODY CARE BODY LOTION</td>\n",
       "      <td>ive be look for a new body lotion from a compa...</td>\n",
       "      <td>3.0</td>\n",
       "      <td>Positive reviews for a makeup remover (undeter...</td>\n",
       "      <td>Competitor</td>\n",
       "    </tr>\n",
       "    <tr>\n",
       "      <th>210829</th>\n",
       "      <td>Eucerin</td>\n",
       "      <td>Eucerin Intensive Repair Very Dry Skin Lotion ...</td>\n",
       "      <td>2024-07-01</td>\n",
       "      <td>Amazon</td>\n",
       "      <td>PERSONAL CARE</td>\n",
       "      <td>BODY CARE BODY LOTION</td>\n",
       "      <td>this lotion be a must have if you have dry ski...</td>\n",
       "      <td>5.0</td>\n",
       "      <td>Positive reviews for a makeup remover (undeter...</td>\n",
       "      <td>Competitor</td>\n",
       "    </tr>\n",
       "    <tr>\n",
       "      <th>210925</th>\n",
       "      <td>Medix 5.5</td>\n",
       "      <td>Medix 5.5 Retinol Body Lotion Firming Moisturi...</td>\n",
       "      <td>2024-07-01</td>\n",
       "      <td>Amazon</td>\n",
       "      <td>PERSONAL CARE</td>\n",
       "      <td>BODY CARE BODY LOTION</td>\n",
       "      <td>no retinol list on ingredient list</td>\n",
       "      <td>1.0</td>\n",
       "      <td>Positive reviews for a makeup remover (undeter...</td>\n",
       "      <td>Competitor</td>\n",
       "    </tr>\n",
       "    <tr>\n",
       "      <th>211032</th>\n",
       "      <td>Medix 5.5</td>\n",
       "      <td>Medix 5.5 Retinol Body Lotion Firming Moisturi...</td>\n",
       "      <td>2024-07-01</td>\n",
       "      <td>Amazon</td>\n",
       "      <td>PERSONAL CARE</td>\n",
       "      <td>BODY CARE BODY LOTION</td>\n",
       "      <td>i love this lotion lovely scent it have bright...</td>\n",
       "      <td>5.0</td>\n",
       "      <td>Positive reviews for a makeup remover (undeter...</td>\n",
       "      <td>Competitor</td>\n",
       "    </tr>\n",
       "  </tbody>\n",
       "</table>\n",
       "</div>"
      ],
      "text/plain": [
       "            brand                                      product_title  \\\n",
       "210565   Palmer's  Palmer's Cocoa Butter Formula Daily Skin Thera...   \n",
       "210757        EOS  eos Shea Better Moisture Body Lotion - Vanilla...   \n",
       "210829    Eucerin  Eucerin Intensive Repair Very Dry Skin Lotion ...   \n",
       "210925  Medix 5.5  Medix 5.5 Retinol Body Lotion Firming Moisturi...   \n",
       "211032  Medix 5.5  Medix 5.5 Retinol Body Lotion Firming Moisturi...   \n",
       "\n",
       "        proxy_date retailer       category            subcategory  \\\n",
       "210565  2024-07-01      CVS  PERSONAL CARE  BODY CARE BODY LOTION   \n",
       "210757  2024-07-01   Target  PERSONAL CARE  BODY CARE BODY LOTION   \n",
       "210829  2024-07-01   Amazon  PERSONAL CARE  BODY CARE BODY LOTION   \n",
       "210925  2024-07-01   Amazon  PERSONAL CARE  BODY CARE BODY LOTION   \n",
       "211032  2024-07-01   Amazon  PERSONAL CARE  BODY CARE BODY LOTION   \n",
       "\n",
       "                                              review_text  star_rating  \\\n",
       "210565  i have use this lotion for year and love it ve...          5.0   \n",
       "210757  ive be look for a new body lotion from a compa...          3.0   \n",
       "210829  this lotion be a must have if you have dry ski...          5.0   \n",
       "210925                 no retinol list on ingredient list          1.0   \n",
       "211032  i love this lotion lovely scent it have bright...          5.0   \n",
       "\n",
       "                                                    topic  brand_type  \n",
       "210565            Moisturizer preference and usage habits  Competitor  \n",
       "210757  Positive reviews for a makeup remover (undeter...  Competitor  \n",
       "210829  Positive reviews for a makeup remover (undeter...  Competitor  \n",
       "210925  Positive reviews for a makeup remover (undeter...  Competitor  \n",
       "211032  Positive reviews for a makeup remover (undeter...  Competitor  "
      ]
     },
     "execution_count": 2,
     "metadata": {},
     "output_type": "execute_result"
    }
   ],
   "source": [
    "# open preprocessed data\n",
    "df = pd.read_csv('data/processed_reviews.csv')\n",
    "without_dupe = df.drop_duplicates(subset=['review_text'], inplace=False)\n",
    "# select subcategory to analyze\n",
    "# subcategory = 'BODY CARE BODY LOTION'\n",
    "subcategory = 'BODY CARE BODY LOTION'\n",
    "label = \"body_lotion\"\n",
    "df = df[df['subcategory'] == subcategory]\n",
    "print(df.shape)\n",
    "df.head()"
   ]
  },
  {
   "cell_type": "code",
   "execution_count": 3,
   "metadata": {},
   "outputs": [
    {
     "name": "stderr",
     "output_type": "stream",
     "text": [
      "/var/folders/x2/lsyflj4j07jc1sb3w3hfgmjc0000gn/T/ipykernel_20563/719716116.py:2: DeprecationWarning: DataFrameGroupBy.apply operated on the grouping columns. This behavior is deprecated, and in a future version of pandas the grouping columns will be excluded from the operation. Either pass `include_groups=False` to exclude the groupings or explicitly select the grouping columns after groupby to silence this warning.\n",
      "  grouped = df.groupby('star_rating').apply(lambda x: x['review_text'].tolist()).to_dict()\n"
     ]
    }
   ],
   "source": [
    "# group reviews by subcategory and make dictrionary with rating: review_text\n",
    "grouped = df.groupby('star_rating').apply(lambda x: x['review_text'].tolist()).to_dict()"
   ]
  },
  {
   "cell_type": "markdown",
   "metadata": {},
   "source": [
    "# LSA"
   ]
  },
  {
   "cell_type": "code",
   "execution_count": 4,
   "metadata": {},
   "outputs": [],
   "source": [
    "# create lsa pipeline\n",
    "def create_components(n_topics):\n",
    "    vectorizer = TfidfVectorizer(stop_words='english', \n",
    "                                 use_idf=True, \n",
    "                                 ngram_range=(1, 3),\n",
    "                                 smooth_idf=True)\n",
    "    svd_model = TruncatedSVD(n_components=n_topics,        \n",
    "                             algorithm='randomized',\n",
    "                             n_iter=20)\n",
    "    return vectorizer, svd_model"
   ]
  },
  {
   "cell_type": "code",
   "execution_count": 5,
   "metadata": {},
   "outputs": [
    {
     "data": {
      "text/plain": [
       "10"
      ]
     },
     "execution_count": 5,
     "metadata": {},
     "output_type": "execute_result"
    }
   ],
   "source": [
    "def get_number_topics(num_reviews):\n",
    "    if num_reviews > 50000:\n",
    "        return 20\n",
    "    if num_reviews > 25000:\n",
    "        return 15\n",
    "    if num_reviews > 10000:\n",
    "        return 10\n",
    "    if num_reviews > 5000:\n",
    "        return 8\n",
    "    if num_reviews > 1000:\n",
    "        return 6\n",
    "    if num_reviews > 500:\n",
    "        return 5\n",
    "    if num_reviews > 100:\n",
    "        return 4\n",
    "    if num_reviews > 50:\n",
    "        return 3\n",
    "    if num_reviews > 10:\n",
    "        return 2\n",
    "    return 1\n",
    "total_topics = get_number_topics(df.shape[0])\n",
    "total_topics"
   ]
  },
  {
   "cell_type": "code",
   "execution_count": 6,
   "metadata": {},
   "outputs": [],
   "source": [
    "def calculate_num_topics_star_rating(total_topics, star_rating, min_topics=1):\n",
    "    # logarithmic weighting (smooth it out)\n",
    "    weight = math.log(6 - star_rating + 1)  # Adding 1 to avoid log(0)\n",
    "\n",
    "\n",
    "    # normalize weight to ensure sum of the topics is not greater than total_topics\n",
    "    total_weight = sum(math.log(6 - r + 1) for r in range(1, 6))\n",
    "    normalized_weight = weight / total_weight\n",
    "\n",
    "\n",
    "    # number of topics for the group based on normalized weight\n",
    "    num_topics = max(min_topics, math.ceil(normalized_weight * total_topics))\n",
    "\n",
    "\n",
    "    return num_topics\n",
    "\n",
    "total = df.shape[0]\n",
    "# cur_num_topics = 0\n",
    "# for i in range(1, 6):\n",
    "#     print(f'num topics for rating {i} with {len(grouped[i])} reviews:')\n",
    "#     print(calculate_num_topics(len(grouped[i]), total, total_topics, i))\n",
    "#     cur_num_topics += calculate_num_topics(len(grouped[i]), total, total_topics, i)\n",
    "# print(cur_num_topics)\n"
   ]
  },
  {
   "cell_type": "code",
   "execution_count": 7,
   "metadata": {},
   "outputs": [
    {
     "name": "stdout",
     "output_type": "stream",
     "text": [
      "Rating 1 with 1525 reviews: 3 topics\n",
      "Rating 2 with 666 reviews: 3 topics\n",
      "Rating 3 with 1059 reviews: 3 topics\n",
      "Rating 4 with 2597 reviews: 2 topics\n",
      "Rating 5 with 14434 reviews: 2 topics\n"
     ]
    }
   ],
   "source": [
    "num_topics_per_rating = {}\n",
    "for i in range(1, 6):\n",
    "    num_topics_per_rating[i] = calculate_num_topics_star_rating(total_topics, i)\n",
    "    print(f'Rating {i} with {len(grouped[i])} reviews: {num_topics_per_rating[i]} topics')"
   ]
  },
  {
   "cell_type": "code",
   "execution_count": 8,
   "metadata": {},
   "outputs": [
    {
     "name": "stderr",
     "output_type": "stream",
     "text": [
      "/var/folders/x2/lsyflj4j07jc1sb3w3hfgmjc0000gn/T/ipykernel_20563/3842249708.py:32: FutureWarning: The behavior of DataFrame concatenation with empty or all-NA entries is deprecated. In a future version, this will no longer exclude empty or all-NA columns when determining the result dtypes. To retain the old behavior, exclude the relevant entries before the concat operation.\n",
      "  lsa_df = pd.concat([lsa_df, new_row], ignore_index=True)\n"
     ]
    },
    {
     "ename": "KeyboardInterrupt",
     "evalue": "",
     "output_type": "error",
     "traceback": [
      "\u001b[0;31m---------------------------------------------------------------------------\u001b[0m",
      "\u001b[0;31mKeyboardInterrupt\u001b[0m                         Traceback (most recent call last)",
      "Cell \u001b[0;32mIn[8], line 32\u001b[0m\n\u001b[1;32m     25\u001b[0m         most_representative_topic \u001b[38;5;241m=\u001b[39m np\u001b[38;5;241m.\u001b[39margmax(topic_matrix[j])\n\u001b[1;32m     26\u001b[0m         new_row \u001b[38;5;241m=\u001b[39m pd\u001b[38;5;241m.\u001b[39mDataFrame({\n\u001b[1;32m     27\u001b[0m             \u001b[38;5;124m'\u001b[39m\u001b[38;5;124mstar_rating\u001b[39m\u001b[38;5;124m'\u001b[39m: [rating],\n\u001b[1;32m     28\u001b[0m             \u001b[38;5;124m'\u001b[39m\u001b[38;5;124mreview_text\u001b[39m\u001b[38;5;124m'\u001b[39m: [review],\n\u001b[1;32m     29\u001b[0m             \u001b[38;5;124m'\u001b[39m\u001b[38;5;124mlsa_topic_number\u001b[39m\u001b[38;5;124m'\u001b[39m: [most_representative_topic],\n\u001b[1;32m     30\u001b[0m             \u001b[38;5;124m'\u001b[39m\u001b[38;5;124mlsa_topic_words\u001b[39m\u001b[38;5;124m'\u001b[39m: [\u001b[38;5;124m'\u001b[39m\u001b[38;5;124m, \u001b[39m\u001b[38;5;124m'\u001b[39m\u001b[38;5;241m.\u001b[39mjoin(topic_words[most_representative_topic])]\n\u001b[1;32m     31\u001b[0m         })\n\u001b[0;32m---> 32\u001b[0m         lsa_df \u001b[38;5;241m=\u001b[39m \u001b[43mpd\u001b[49m\u001b[38;5;241;43m.\u001b[39;49m\u001b[43mconcat\u001b[49m\u001b[43m(\u001b[49m\u001b[43m[\u001b[49m\u001b[43mlsa_df\u001b[49m\u001b[43m,\u001b[49m\u001b[43m \u001b[49m\u001b[43mnew_row\u001b[49m\u001b[43m]\u001b[49m\u001b[43m,\u001b[49m\u001b[43m \u001b[49m\u001b[43mignore_index\u001b[49m\u001b[38;5;241;43m=\u001b[39;49m\u001b[38;5;28;43;01mTrue\u001b[39;49;00m\u001b[43m)\u001b[49m\n\u001b[1;32m     34\u001b[0m lsa_df\n",
      "File \u001b[0;32m~/Desktop/scrap/text_processes/lib/python3.12/site-packages/pandas/core/reshape/concat.py:395\u001b[0m, in \u001b[0;36mconcat\u001b[0;34m(objs, axis, join, ignore_index, keys, levels, names, verify_integrity, sort, copy)\u001b[0m\n\u001b[1;32m    380\u001b[0m     copy \u001b[38;5;241m=\u001b[39m \u001b[38;5;28;01mFalse\u001b[39;00m\n\u001b[1;32m    382\u001b[0m op \u001b[38;5;241m=\u001b[39m _Concatenator(\n\u001b[1;32m    383\u001b[0m     objs,\n\u001b[1;32m    384\u001b[0m     axis\u001b[38;5;241m=\u001b[39maxis,\n\u001b[0;32m   (...)\u001b[0m\n\u001b[1;32m    392\u001b[0m     sort\u001b[38;5;241m=\u001b[39msort,\n\u001b[1;32m    393\u001b[0m )\n\u001b[0;32m--> 395\u001b[0m \u001b[38;5;28;01mreturn\u001b[39;00m \u001b[43mop\u001b[49m\u001b[38;5;241;43m.\u001b[39;49m\u001b[43mget_result\u001b[49m\u001b[43m(\u001b[49m\u001b[43m)\u001b[49m\n",
      "File \u001b[0;32m~/Desktop/scrap/text_processes/lib/python3.12/site-packages/pandas/core/reshape/concat.py:684\u001b[0m, in \u001b[0;36m_Concatenator.get_result\u001b[0;34m(self)\u001b[0m\n\u001b[1;32m    680\u001b[0m             indexers[ax] \u001b[38;5;241m=\u001b[39m obj_labels\u001b[38;5;241m.\u001b[39mget_indexer(new_labels)\n\u001b[1;32m    682\u001b[0m     mgrs_indexers\u001b[38;5;241m.\u001b[39mappend((obj\u001b[38;5;241m.\u001b[39m_mgr, indexers))\n\u001b[0;32m--> 684\u001b[0m new_data \u001b[38;5;241m=\u001b[39m \u001b[43mconcatenate_managers\u001b[49m\u001b[43m(\u001b[49m\n\u001b[1;32m    685\u001b[0m \u001b[43m    \u001b[49m\u001b[43mmgrs_indexers\u001b[49m\u001b[43m,\u001b[49m\u001b[43m \u001b[49m\u001b[38;5;28;43mself\u001b[39;49m\u001b[38;5;241;43m.\u001b[39;49m\u001b[43mnew_axes\u001b[49m\u001b[43m,\u001b[49m\u001b[43m \u001b[49m\u001b[43mconcat_axis\u001b[49m\u001b[38;5;241;43m=\u001b[39;49m\u001b[38;5;28;43mself\u001b[39;49m\u001b[38;5;241;43m.\u001b[39;49m\u001b[43mbm_axis\u001b[49m\u001b[43m,\u001b[49m\u001b[43m \u001b[49m\u001b[43mcopy\u001b[49m\u001b[38;5;241;43m=\u001b[39;49m\u001b[38;5;28;43mself\u001b[39;49m\u001b[38;5;241;43m.\u001b[39;49m\u001b[43mcopy\u001b[49m\n\u001b[1;32m    686\u001b[0m \u001b[43m\u001b[49m\u001b[43m)\u001b[49m\n\u001b[1;32m    687\u001b[0m \u001b[38;5;28;01mif\u001b[39;00m \u001b[38;5;129;01mnot\u001b[39;00m \u001b[38;5;28mself\u001b[39m\u001b[38;5;241m.\u001b[39mcopy \u001b[38;5;129;01mand\u001b[39;00m \u001b[38;5;129;01mnot\u001b[39;00m using_copy_on_write():\n\u001b[1;32m    688\u001b[0m     new_data\u001b[38;5;241m.\u001b[39m_consolidate_inplace()\n",
      "File \u001b[0;32m~/Desktop/scrap/text_processes/lib/python3.12/site-packages/pandas/core/internals/concat.py:193\u001b[0m, in \u001b[0;36mconcatenate_managers\u001b[0;34m(mgrs_indexers, axes, concat_axis, copy)\u001b[0m\n\u001b[1;32m    190\u001b[0m     fastpath \u001b[38;5;241m=\u001b[39m \u001b[38;5;28;01mFalse\u001b[39;00m\n\u001b[1;32m    192\u001b[0m \u001b[38;5;28;01mif\u001b[39;00m fastpath:\n\u001b[0;32m--> 193\u001b[0m     b \u001b[38;5;241m=\u001b[39m \u001b[43mblk\u001b[49m\u001b[38;5;241;43m.\u001b[39;49m\u001b[43mmake_block_same_class\u001b[49m\u001b[43m(\u001b[49m\u001b[43mvalues\u001b[49m\u001b[43m,\u001b[49m\u001b[43m \u001b[49m\u001b[43mplacement\u001b[49m\u001b[38;5;241;43m=\u001b[39;49m\u001b[43mplacement\u001b[49m\u001b[43m)\u001b[49m\n\u001b[1;32m    194\u001b[0m \u001b[38;5;28;01melse\u001b[39;00m:\n\u001b[1;32m    195\u001b[0m     b \u001b[38;5;241m=\u001b[39m new_block_2d(values, placement\u001b[38;5;241m=\u001b[39mplacement)\n",
      "File \u001b[0;32m~/Desktop/scrap/text_processes/lib/python3.12/site-packages/pandas/core/internals/blocks.py:292\u001b[0m, in \u001b[0;36mBlock.make_block_same_class\u001b[0;34m(self, values, placement, refs)\u001b[0m\n\u001b[1;32m    288\u001b[0m         values \u001b[38;5;241m=\u001b[39m ensure_block_shape(values, ndim\u001b[38;5;241m=\u001b[39m\u001b[38;5;28mself\u001b[39m\u001b[38;5;241m.\u001b[39mndim)\n\u001b[1;32m    290\u001b[0m     \u001b[38;5;28;01mreturn\u001b[39;00m new_block(values, placement\u001b[38;5;241m=\u001b[39mplacement, ndim\u001b[38;5;241m=\u001b[39m\u001b[38;5;28mself\u001b[39m\u001b[38;5;241m.\u001b[39mndim, refs\u001b[38;5;241m=\u001b[39mrefs)\n\u001b[0;32m--> 292\u001b[0m \u001b[38;5;129m@final\u001b[39m\n\u001b[1;32m    293\u001b[0m \u001b[38;5;28;01mdef\u001b[39;00m \u001b[38;5;21mmake_block_same_class\u001b[39m(\n\u001b[1;32m    294\u001b[0m     \u001b[38;5;28mself\u001b[39m,\n\u001b[1;32m    295\u001b[0m     values,\n\u001b[1;32m    296\u001b[0m     placement: BlockPlacement \u001b[38;5;241m|\u001b[39m \u001b[38;5;28;01mNone\u001b[39;00m \u001b[38;5;241m=\u001b[39m \u001b[38;5;28;01mNone\u001b[39;00m,\n\u001b[1;32m    297\u001b[0m     refs: BlockValuesRefs \u001b[38;5;241m|\u001b[39m \u001b[38;5;28;01mNone\u001b[39;00m \u001b[38;5;241m=\u001b[39m \u001b[38;5;28;01mNone\u001b[39;00m,\n\u001b[1;32m    298\u001b[0m ) \u001b[38;5;241m-\u001b[39m\u001b[38;5;241m>\u001b[39m Self:\n\u001b[1;32m    299\u001b[0m \u001b[38;5;250m    \u001b[39m\u001b[38;5;124;03m\"\"\"Wrap given values in a block of same type as self.\"\"\"\u001b[39;00m\n\u001b[1;32m    300\u001b[0m     \u001b[38;5;66;03m# Pre-2.0 we called ensure_wrapped_if_datetimelike because fastparquet\u001b[39;00m\n\u001b[1;32m    301\u001b[0m     \u001b[38;5;66;03m#  relied on it, as of 2.0 the caller is responsible for this.\u001b[39;00m\n",
      "\u001b[0;31mKeyboardInterrupt\u001b[0m: "
     ]
    }
   ],
   "source": [
    "# for each rating, fit the pipeline to the reviews and save results to lsa_df with columns: rating, topic_number, top_words, sample_reviews\n",
    "lsa_df = pd.DataFrame(columns=['star_rating', 'review_text', 'lsa_topic_number', 'lsa_topic_words',])\n",
    "# rating_topics = {} # dictionary to store topic vectors for each rating\n",
    "rating_topics_top_words = {} # dictionary to store top words for each topic for each rating\n",
    "\n",
    "for rating, reviews in grouped.items():\n",
    "    n_topics = calculate_num_topics_star_rating(total_topics, rating)\n",
    "    # if n_topics >= 2:\n",
    "    vectorizer, svd_model = create_components(n_topics)\n",
    "    X_tfidf = vectorizer.fit_transform(reviews)\n",
    "    topic_matrix = svd_model.fit_transform(X_tfidf)\n",
    "    terms = vectorizer.get_feature_names_out()\n",
    "    \n",
    "    topic_vectors = svd_model.components_\n",
    "    # rating_topics[rating] = topic_vectors\n",
    "    # Get the top words for each topic\n",
    "    topic_words = {}\n",
    "    for i in range(n_topics):\n",
    "        top_word_indices = np.argsort(topic_vectors[i])  \n",
    "        top_words = [terms[idx] for idx in top_word_indices[-15:]] # Top 15 words per topic\n",
    "        topic_words[i] = top_words\n",
    "    rating_topics_top_words[rating] = topic_words\n",
    "    # For each review in the group, assign the most representative topic and top words\n",
    "    for j, review in enumerate(reviews):\n",
    "        most_representative_topic = np.argmax(topic_matrix[j])\n",
    "        new_row = pd.DataFrame({\n",
    "            'star_rating': [rating],\n",
    "            'review_text': [review],\n",
    "            'lsa_topic_number': [most_representative_topic],\n",
    "            'lsa_topic_words': [', '.join(topic_words[most_representative_topic])]\n",
    "        })\n",
    "        lsa_df = pd.concat([lsa_df, new_row], ignore_index=True)\n",
    "\n",
    "lsa_df"
   ]
  },
  {
   "cell_type": "code",
   "execution_count": null,
   "metadata": {},
   "outputs": [
    {
     "data": {
      "text/plain": [
       "{1.0: {0: ['bottle',\n",
       "   'new formula',\n",
       "   'scent',\n",
       "   'buy',\n",
       "   'year',\n",
       "   'old',\n",
       "   'change',\n",
       "   'like',\n",
       "   'product',\n",
       "   'skin',\n",
       "   'new',\n",
       "   'lotion',\n",
       "   'smell',\n",
       "   'use',\n",
       "   'formula'],\n",
       "  1: ['return',\n",
       "   'horrible smell',\n",
       "   'strong',\n",
       "   'dont',\n",
       "   'lotion smell',\n",
       "   'bottle',\n",
       "   'smell horrible',\n",
       "   'vanilla',\n",
       "   'horrible',\n",
       "   'scent',\n",
       "   'pump',\n",
       "   'lotion',\n",
       "   'smell like',\n",
       "   'like',\n",
       "   'smell'],\n",
       "  2: ['bottle',\n",
       "   'make skin',\n",
       "   'sensitive skin',\n",
       "   'sensitive',\n",
       "   'use',\n",
       "   'face',\n",
       "   'make',\n",
       "   'lotion',\n",
       "   'dry skin',\n",
       "   'work',\n",
       "   'break',\n",
       "   'dry',\n",
       "   'product',\n",
       "   'pump',\n",
       "   'skin']},\n",
       " 2.0: {0: ['dry',\n",
       "   'work',\n",
       "   'formula',\n",
       "   'just',\n",
       "   'doesnt',\n",
       "   'scent',\n",
       "   'good',\n",
       "   'moisturize',\n",
       "   'product',\n",
       "   'feel',\n",
       "   'use',\n",
       "   'like',\n",
       "   'skin',\n",
       "   'smell',\n",
       "   'lotion'],\n",
       "  1: ['strong',\n",
       "   'good',\n",
       "   'lotion smell',\n",
       "   'sweet',\n",
       "   'smell like vanilla',\n",
       "   'like vanilla',\n",
       "   'doesnt',\n",
       "   'smell good',\n",
       "   'scent',\n",
       "   'doesnt smell like',\n",
       "   'vanilla',\n",
       "   'doesnt smell',\n",
       "   'like',\n",
       "   'smell like',\n",
       "   'smell'],\n",
       "  2: ['leave',\n",
       "   'feel sticky',\n",
       "   'doesnt moisturize',\n",
       "   'feel like',\n",
       "   'skin feel sticky',\n",
       "   'like',\n",
       "   'dry',\n",
       "   'sticky',\n",
       "   'moisturize skin',\n",
       "   'didnt',\n",
       "   'doesnt',\n",
       "   'skin feel',\n",
       "   'feel',\n",
       "   'skin',\n",
       "   'moisturize']},\n",
       " 3.0: {0: ['leave',\n",
       "   'doesnt',\n",
       "   'work',\n",
       "   'really',\n",
       "   'dry skin',\n",
       "   'scent',\n",
       "   'feel',\n",
       "   'product',\n",
       "   'good',\n",
       "   'dry',\n",
       "   'smell',\n",
       "   'use',\n",
       "   'like',\n",
       "   'lotion',\n",
       "   'skin'],\n",
       "  1: ['help dry skin',\n",
       "   'skin feel',\n",
       "   'oily skin',\n",
       "   'hydrate',\n",
       "   'help dry',\n",
       "   'make',\n",
       "   'make skin',\n",
       "   'skin dry',\n",
       "   'leave skin',\n",
       "   'leave',\n",
       "   'oily',\n",
       "   'help',\n",
       "   'dry skin',\n",
       "   'dry',\n",
       "   'skin'],\n",
       "  2: ['time',\n",
       "   'pump bottle',\n",
       "   'ive',\n",
       "   'open',\n",
       "   'pump work',\n",
       "   'break',\n",
       "   'order',\n",
       "   'face',\n",
       "   'love',\n",
       "   'come',\n",
       "   'work',\n",
       "   'use',\n",
       "   'product',\n",
       "   'bottle',\n",
       "   'pump']},\n",
       " 4.0: {0: ['moisturize',\n",
       "   'scent',\n",
       "   'dry skin',\n",
       "   'love',\n",
       "   'really',\n",
       "   'smell',\n",
       "   'great',\n",
       "   'feel',\n",
       "   'product',\n",
       "   'like',\n",
       "   'good',\n",
       "   'dry',\n",
       "   'use',\n",
       "   'lotion',\n",
       "   'skin'],\n",
       "  1: ['really good',\n",
       "   'bottle',\n",
       "   'love smell',\n",
       "   'pump',\n",
       "   'vanilla',\n",
       "   'love',\n",
       "   'nice',\n",
       "   'smell like',\n",
       "   'really',\n",
       "   'lotion',\n",
       "   'smell good',\n",
       "   'scent',\n",
       "   'like',\n",
       "   'good',\n",
       "   'smell']},\n",
       " 5.0: {0: ['moisturize',\n",
       "   'leave',\n",
       "   'make',\n",
       "   'dry skin',\n",
       "   'product',\n",
       "   'good',\n",
       "   'soft',\n",
       "   'great',\n",
       "   'feel',\n",
       "   'smell',\n",
       "   'dry',\n",
       "   'use',\n",
       "   'love',\n",
       "   'lotion',\n",
       "   'skin'],\n",
       "  1: ['love lotion',\n",
       "   'make skin soft',\n",
       "   'lotion smell',\n",
       "   'love smell',\n",
       "   'skin feel',\n",
       "   'make skin feel',\n",
       "   'skin soft',\n",
       "   'feel',\n",
       "   'love',\n",
       "   'make',\n",
       "   'soft',\n",
       "   'make skin',\n",
       "   'smell good',\n",
       "   'good',\n",
       "   'smell']}}"
      ]
     },
     "execution_count": 11,
     "metadata": {},
     "output_type": "execute_result"
    }
   ],
   "source": [
    "rating_topics_top_words"
   ]
  },
  {
   "cell_type": "code",
   "execution_count": null,
   "metadata": {},
   "outputs": [
    {
     "data": {
      "text/plain": [
       "(20281, 4)"
      ]
     },
     "execution_count": 12,
     "metadata": {},
     "output_type": "execute_result"
    }
   ],
   "source": [
    "# save lsa_df to csv\n",
    "lsa_df.to_csv(f'outputs/lsa_{label}.csv', index=False)\n",
    "lsa_df.shape"
   ]
  },
  {
   "cell_type": "markdown",
   "metadata": {},
   "source": [
    "# generate phrases for each topic"
   ]
  },
  {
   "cell_type": "code",
   "execution_count": null,
   "metadata": {},
   "outputs": [
    {
     "name": "stderr",
     "output_type": "stream",
     "text": [
      "/var/folders/x2/lsyflj4j07jc1sb3w3hfgmjc0000gn/T/ipykernel_90424/3314073776.py:59: FutureWarning: The behavior of DataFrame concatenation with empty or all-NA entries is deprecated. In a future version, this will no longer exclude empty or all-NA columns when determining the result dtypes. To retain the old behavior, exclude the relevant entries before the concat operation.\n",
      "  topic_phrases = pd.concat([topic_phrases, new_row], ignore_index=True)\n"
     ]
    },
    {
     "name": "stdout",
     "output_type": "stream",
     "text": [
      "Rating: 1.0, Topic: 0, Top Words: bottle, new formula, scent, buy, year, old, change, like, product, skin, new, lotion, smell, use, formula\n",
      "Generated phrase: Outdated formula leading to unsatisfactory scent and skin reaction.\n",
      "\n",
      "Rating: 1.0, Topic: 1, Top Words: return, horrible smell, strong, dont, lotion smell, bottle, smell horrible, vanilla, horrible, scent, pump, lotion, smell like, like, smell\n",
      "Generated phrase: \"Horrible strong scented lotion with undrinkable smell\"\n",
      "\n",
      "Rating: 1.0, Topic: 2, Top Words: bottle, make skin, sensitive skin, sensitive, use, face, make, lotion, dry skin, work, break, dry, product, pump, skin\n",
      "Generated phrase: \"Product causes skin irritation, dryness, and breakouts\"\n",
      "\n",
      "Rating: 2.0, Topic: 0, Top Words: dry, work, formula, just, doesnt, scent, good, moisturize, product, feel, use, like, skin, smell, lotion\n",
      "Generated phrase: \"Not moisturizing well, lacking good scent\"\n",
      "\n",
      "Rating: 2.0, Topic: 1, Top Words: strong, good, lotion smell, sweet, smell like vanilla, like vanilla, doesnt, smell good, scent, doesnt smell like, vanilla, doesnt smell, like, smell like, smell\n",
      "Generated phrase: \"Does not meet expectations with lackluster scent\"\n",
      "\n",
      "Rating: 2.0, Topic: 2, Top Words: leave, feel sticky, doesnt moisturize, feel like, skin feel sticky, like, dry, sticky, moisturize skin, didnt, doesnt, skin feel, feel, skin, moisturize\n",
      "Generated phrase: \"Moisturizer doesn't provide adequate hydration, leaves skin feeling sticky and dry.\"\n",
      "\n",
      "Rating: 3.0, Topic: 0, Top Words: leave, doesnt, work, really, dry skin, scent, feel, product, good, dry, smell, use, like, lotion, skin\n",
      "Generated phrase: \"Product doesn't work well for dry skin, has poor scent and smell\"\n",
      "\n",
      "Rating: 3.0, Topic: 1, Top Words: help dry skin, skin feel, oily skin, hydrate, help dry, make, make skin, skin dry, leave skin, leave, oily, help, dry skin, dry, skin\n",
      "Generated phrase: \"Hydrates skin, leaving it balanced\"\n",
      "\n",
      "Rating: 3.0, Topic: 2, Top Words: time, pump bottle, ive, open, pump work, break, order, face, love, come, work, use, product, bottle, pump\n",
      "Generated phrase: \"Pump bottle works most of the time, but occasional issues\"\n",
      "\n",
      "Rating: 4.0, Topic: 0, Top Words: moisturize, scent, dry skin, love, really, smell, great, feel, product, like, good, dry, use, lotion, skin\n",
      "Generated phrase: \"Moisturizes dry skin, great scent and feel\"\n",
      "\n",
      "Rating: 4.0, Topic: 1, Top Words: really good, bottle, love smell, pump, vanilla, love, nice, smell like, really, lotion, smell good, scent, like, good, smell\n",
      "Generated phrase: \"Nice vanilla scent pumps easily and smells great\"\n",
      "\n",
      "Rating: 5.0, Topic: 0, Top Words: moisturize, leave, make, dry skin, product, good, soft, great, feel, smell, dry, use, love, lotion, skin\n",
      "Generated phrase: \"Moisturizes effectively, leaves skin soft and great\"\n",
      "\n",
      "Rating: 5.0, Topic: 1, Top Words: love lotion, make skin soft, lotion smell, love smell, skin feel, make skin feel, skin soft, feel, love, make, soft, make skin, smell good, good, smell\n",
      "Generated phrase: \"Love the lotion's skin-softening and pleasant scent\"\n",
      "\n"
     ]
    }
   ],
   "source": [
    "import os\n",
    "from groq import Groq \n",
    "\n",
    "# Initialize the client\n",
    "client = Groq(\n",
    "    api_key=os.environ.get(\"GROQ_API_KEY\"),\n",
    ")\n",
    "\n",
    "# Define the system message\n",
    "system_message = \"\"\"\n",
    "Generate a concise and coherent phrase that summarizes topics based on provided keywords\n",
    "and associated review ratings. The keywords are ordered by relevance from the most to the least.\n",
    "\n",
    "Ensure that each phrase accurately reflects the sentiment implied by the rating and highlights key aspects of the topic. \n",
    "For example, a rating of 1 should convey dissatisfaction or issues, while a rating of 5 should express satisfaction or positive feedback. \n",
    "Omit pronouns and conjunctions to keep the phrase succinct.\n",
    "\n",
    "For reviews with low ratings (1-2) or with negative keywords, focus on problematic aspects such as defects, damages, or poor quality and \n",
    "be as detailed as possible.\n",
    "\n",
    "Output only the phrase without additional commentary.\n",
    "\n",
    "Example:\n",
    "\n",
    "Input: \"leak box, return, item, bottle leak, arrive damage, box, arrive, damage leak, damage, leak\" Rating: 1\n",
    "Output: \"Leaking or damaged items and boxes upon delivery\"\n",
    "\"\"\"\n",
    "\n",
    "def process_input(top_words, rating):\n",
    "    user_message = f'Input: \"{top_words}\" rating: {rating}'\n",
    "    response = client.chat.completions.create(\n",
    "        messages=[\n",
    "            {\n",
    "                \"role\": \"system\",\n",
    "                \"content\": system_message\n",
    "            },\n",
    "            {\n",
    "                \"role\": \"user\",\n",
    "                \"content\": user_message\n",
    "            }\n",
    "        ],\n",
    "        model=\"llama3-8b-8192\",\n",
    "    )\n",
    "    generated_phrase = response.choices[0].message.content\n",
    "    return generated_phrase\n",
    "\n",
    "topic_phrases = pd.DataFrame(columns=['star_rating', 'lsa_topic_number', 'lsa_topic_words', 'lsa_topic'])\n",
    "# generate phrases for each topic in rating_topics_top_words\n",
    "for rating, topics in rating_topics_top_words.items():\n",
    "    for topic, top_words in topics.items():\n",
    "        top_words = ', '.join(top_words)\n",
    "        result = process_input(top_words, rating)\n",
    "        new_row = pd.DataFrame({\n",
    "            'star_rating': [rating],\n",
    "            'lsa_topic_number': [topic],\n",
    "            'lsa_topic_words': [top_words],\n",
    "            'lsa_topic': [result]\n",
    "        })\n",
    "        topic_phrases = pd.concat([topic_phrases, new_row], ignore_index=True)\n",
    "        print(f\"Rating: {rating}, Topic: {topic}, Top Words: {top_words}\")\n",
    "        print(f\"Generated phrase: {result}\")\n",
    "        print()"
   ]
  },
  {
   "cell_type": "code",
   "execution_count": null,
   "metadata": {},
   "outputs": [],
   "source": [
    "# join with lsa_df\n",
    "final_df = lsa_df.merge(topic_phrases, on=['star_rating', 'lsa_topic_number', 'lsa_topic_words'])"
   ]
  },
  {
   "cell_type": "code",
   "execution_count": null,
   "metadata": {},
   "outputs": [],
   "source": [
    "# save lsa_df to csv\n",
    "final_df.to_csv(f'outputs/lsa_{label}.csv', index=False)"
   ]
  },
  {
   "cell_type": "markdown",
   "metadata": {},
   "source": [
    "## view generated phrases"
   ]
  },
  {
   "cell_type": "code",
   "execution_count": null,
   "metadata": {},
   "outputs": [
    {
     "data": {
      "text/html": [
       "<div>\n",
       "<style scoped>\n",
       "    .dataframe tbody tr th:only-of-type {\n",
       "        vertical-align: middle;\n",
       "    }\n",
       "\n",
       "    .dataframe tbody tr th {\n",
       "        vertical-align: top;\n",
       "    }\n",
       "\n",
       "    .dataframe thead th {\n",
       "        text-align: right;\n",
       "    }\n",
       "</style>\n",
       "<table border=\"1\" class=\"dataframe\">\n",
       "  <thead>\n",
       "    <tr style=\"text-align: right;\">\n",
       "      <th></th>\n",
       "      <th>star_rating</th>\n",
       "      <th>lsa_topic_number</th>\n",
       "      <th>lsa_topic_words</th>\n",
       "      <th>lsa_topic</th>\n",
       "    </tr>\n",
       "  </thead>\n",
       "  <tbody>\n",
       "    <tr>\n",
       "      <th>0</th>\n",
       "      <td>1.0</td>\n",
       "      <td>0</td>\n",
       "      <td>bottle, new formula, scent, buy, year, old, ch...</td>\n",
       "      <td>Outdated formula leading to unsatisfactory sce...</td>\n",
       "    </tr>\n",
       "    <tr>\n",
       "      <th>1</th>\n",
       "      <td>1.0</td>\n",
       "      <td>1</td>\n",
       "      <td>return, horrible smell, strong, dont, lotion s...</td>\n",
       "      <td>\"Horrible strong scented lotion with undrinkab...</td>\n",
       "    </tr>\n",
       "    <tr>\n",
       "      <th>2</th>\n",
       "      <td>1.0</td>\n",
       "      <td>2</td>\n",
       "      <td>bottle, make skin, sensitive skin, sensitive, ...</td>\n",
       "      <td>\"Product causes skin irritation, dryness, and ...</td>\n",
       "    </tr>\n",
       "    <tr>\n",
       "      <th>3</th>\n",
       "      <td>2.0</td>\n",
       "      <td>0</td>\n",
       "      <td>dry, work, formula, just, doesnt, scent, good,...</td>\n",
       "      <td>\"Not moisturizing well, lacking good scent\"</td>\n",
       "    </tr>\n",
       "    <tr>\n",
       "      <th>4</th>\n",
       "      <td>2.0</td>\n",
       "      <td>1</td>\n",
       "      <td>strong, good, lotion smell, sweet, smell like ...</td>\n",
       "      <td>\"Does not meet expectations with lackluster sc...</td>\n",
       "    </tr>\n",
       "    <tr>\n",
       "      <th>5</th>\n",
       "      <td>2.0</td>\n",
       "      <td>2</td>\n",
       "      <td>leave, feel sticky, doesnt moisturize, feel li...</td>\n",
       "      <td>\"Moisturizer doesn't provide adequate hydratio...</td>\n",
       "    </tr>\n",
       "    <tr>\n",
       "      <th>6</th>\n",
       "      <td>3.0</td>\n",
       "      <td>0</td>\n",
       "      <td>leave, doesnt, work, really, dry skin, scent, ...</td>\n",
       "      <td>\"Product doesn't work well for dry skin, has p...</td>\n",
       "    </tr>\n",
       "    <tr>\n",
       "      <th>7</th>\n",
       "      <td>3.0</td>\n",
       "      <td>1</td>\n",
       "      <td>help dry skin, skin feel, oily skin, hydrate, ...</td>\n",
       "      <td>\"Hydrates skin, leaving it balanced\"</td>\n",
       "    </tr>\n",
       "    <tr>\n",
       "      <th>8</th>\n",
       "      <td>3.0</td>\n",
       "      <td>2</td>\n",
       "      <td>time, pump bottle, ive, open, pump work, break...</td>\n",
       "      <td>\"Pump bottle works most of the time, but occas...</td>\n",
       "    </tr>\n",
       "    <tr>\n",
       "      <th>9</th>\n",
       "      <td>4.0</td>\n",
       "      <td>0</td>\n",
       "      <td>moisturize, scent, dry skin, love, really, sme...</td>\n",
       "      <td>\"Moisturizes dry skin, great scent and feel\"</td>\n",
       "    </tr>\n",
       "    <tr>\n",
       "      <th>10</th>\n",
       "      <td>4.0</td>\n",
       "      <td>1</td>\n",
       "      <td>really good, bottle, love smell, pump, vanilla...</td>\n",
       "      <td>\"Nice vanilla scent pumps easily and smells gr...</td>\n",
       "    </tr>\n",
       "    <tr>\n",
       "      <th>11</th>\n",
       "      <td>5.0</td>\n",
       "      <td>0</td>\n",
       "      <td>moisturize, leave, make, dry skin, product, go...</td>\n",
       "      <td>\"Moisturizes effectively, leaves skin soft and...</td>\n",
       "    </tr>\n",
       "    <tr>\n",
       "      <th>12</th>\n",
       "      <td>5.0</td>\n",
       "      <td>1</td>\n",
       "      <td>love lotion, make skin soft, lotion smell, lov...</td>\n",
       "      <td>\"Love the lotion's skin-softening and pleasant...</td>\n",
       "    </tr>\n",
       "  </tbody>\n",
       "</table>\n",
       "</div>"
      ],
      "text/plain": [
       "    star_rating lsa_topic_number  \\\n",
       "0           1.0                0   \n",
       "1           1.0                1   \n",
       "2           1.0                2   \n",
       "3           2.0                0   \n",
       "4           2.0                1   \n",
       "5           2.0                2   \n",
       "6           3.0                0   \n",
       "7           3.0                1   \n",
       "8           3.0                2   \n",
       "9           4.0                0   \n",
       "10          4.0                1   \n",
       "11          5.0                0   \n",
       "12          5.0                1   \n",
       "\n",
       "                                      lsa_topic_words  \\\n",
       "0   bottle, new formula, scent, buy, year, old, ch...   \n",
       "1   return, horrible smell, strong, dont, lotion s...   \n",
       "2   bottle, make skin, sensitive skin, sensitive, ...   \n",
       "3   dry, work, formula, just, doesnt, scent, good,...   \n",
       "4   strong, good, lotion smell, sweet, smell like ...   \n",
       "5   leave, feel sticky, doesnt moisturize, feel li...   \n",
       "6   leave, doesnt, work, really, dry skin, scent, ...   \n",
       "7   help dry skin, skin feel, oily skin, hydrate, ...   \n",
       "8   time, pump bottle, ive, open, pump work, break...   \n",
       "9   moisturize, scent, dry skin, love, really, sme...   \n",
       "10  really good, bottle, love smell, pump, vanilla...   \n",
       "11  moisturize, leave, make, dry skin, product, go...   \n",
       "12  love lotion, make skin soft, lotion smell, lov...   \n",
       "\n",
       "                                            lsa_topic  \n",
       "0   Outdated formula leading to unsatisfactory sce...  \n",
       "1   \"Horrible strong scented lotion with undrinkab...  \n",
       "2   \"Product causes skin irritation, dryness, and ...  \n",
       "3         \"Not moisturizing well, lacking good scent\"  \n",
       "4   \"Does not meet expectations with lackluster sc...  \n",
       "5   \"Moisturizer doesn't provide adequate hydratio...  \n",
       "6   \"Product doesn't work well for dry skin, has p...  \n",
       "7                \"Hydrates skin, leaving it balanced\"  \n",
       "8   \"Pump bottle works most of the time, but occas...  \n",
       "9        \"Moisturizes dry skin, great scent and feel\"  \n",
       "10  \"Nice vanilla scent pumps easily and smells gr...  \n",
       "11  \"Moisturizes effectively, leaves skin soft and...  \n",
       "12  \"Love the lotion's skin-softening and pleasant...  "
      ]
     },
     "execution_count": 16,
     "metadata": {},
     "output_type": "execute_result"
    }
   ],
   "source": [
    "topic_phrases"
   ]
  },
  {
   "cell_type": "code",
   "execution_count": null,
   "metadata": {},
   "outputs": [
    {
     "name": "stdout",
     "output_type": "stream",
     "text": [
      "Rating: 1.0\n",
      "Topic: 0, Top Words: bottle, new formula, scent, buy, year, old, change, like, product, skin, new, lotion, smell, use, formula\n",
      "Review: greasy oily and leave a sticky residue for far too long return and pick up shea moisture lotion much well\n",
      "Generated phrase: Outdated formula leading to unsatisfactory scent and skin reaction.\n",
      "\n",
      "Topic: 0, Top Words: bottle, new formula, scent, buy, year, old, change, like, product, skin, new, lotion, smell, use, formula\n",
      "Review: this be possibly the bad lotion ive ever try it have the potential to be amaze but as i be rub it in it start pilling off everywhere all over my bed it be horrible i have to get in the shower and rinsescrub it all off so disappointed it sound wonderful i will return this sadly\n",
      "Generated phrase: Outdated formula leading to unsatisfactory scent and skin reaction.\n",
      "\n",
      "Topic: 0, Top Words: bottle, new formula, scent, buy, year, old, change, like, product, skin, new, lotion, smell, use, formula\n",
      "Review: i use this lotion a lot in the past but something have change now it make me itch and the lotion no longer last long i wont be buy this again\n",
      "Generated phrase: Outdated formula leading to unsatisfactory scent and skin reaction.\n",
      "\n",
      "Topic: 2, Top Words: bottle, make skin, sensitive skin, sensitive, use, face, make, lotion, dry skin, work, break, dry, product, pump, skin\n",
      "Review: dry up quicklysmell be okay not really moisturize\n",
      "Generated phrase: \"Product causes skin irritation, dryness, and breakouts\"\n",
      "\n",
      "Topic: 0, Top Words: bottle, new formula, scent, buy, year, old, change, like, product, skin, new, lotion, smell, use, formula\n",
      "Review: absolutely do not like new scent and formula ive be use this for year and now i will change its disappointing why mess up a great product\n",
      "Generated phrase: Outdated formula leading to unsatisfactory scent and skin reaction.\n",
      "\n",
      "Rating: 2.0\n",
      "Topic: 0, Top Words: dry, work, formula, just, doesnt, scent, good, moisturize, product, feel, use, like, skin, smell, lotion\n",
      "Review: i really want to like miracle balm i use in currant but it be too oily and rub off easy and it wasnt buildable the pigment be mostly oily then any color pay off hop maybe in the future a reformulated miracle balm with thicker and buildable consistency thats matte and not glossy i love all your product burts bee im hop maybe a reformulation keep my finger cross\n",
      "Generated phrase: \"Not moisturizing well, lacking good scent\"\n",
      "\n",
      "Topic: 0, Top Words: dry, work, formula, just, doesnt, scent, good, moisturize, product, feel, use, like, skin, smell, lotion\n",
      "Review: i cant believe they change the formula why change a good thing new formula less moisturizing and doesnt feel as good on the skin\n",
      "Generated phrase: \"Not moisturizing well, lacking good scent\"\n",
      "\n",
      "Topic: 0, Top Words: dry, work, formula, just, doesnt, scent, good, moisturize, product, feel, use, like, skin, smell, lotion\n",
      "Review: this lotion leave a sticky residue thats flake all over my skin honestly be go to return this\n",
      "Generated phrase: \"Not moisturizing well, lacking good scent\"\n",
      "\n",
      "Topic: 0, Top Words: dry, work, formula, just, doesnt, scent, good, moisturize, product, feel, use, like, skin, smell, lotion\n",
      "Review: i like the smell of this lotion a lot i receive this product for free from influenster and suave in exchange for my honest review i give it two star for the smell only its nice and subtle smell refresh but the actual lotion be thick and sticky i could have work with the thickness but could not get over how sticky it be it didnt absorb into my skin very well i will use for my foot since they be really dry i think this would work well for people with really dry skin i would not purchase\n",
      "Generated phrase: \"Not moisturizing well, lacking good scent\"\n",
      "\n",
      "Topic: 0, Top Words: dry, work, formula, just, doesnt, scent, good, moisturize, product, feel, use, like, skin, smell, lotion\n",
      "Review: i be nervous when i saw the lotion i be use to buy be now “ new and improved ” i use to use neutraderm also from galderma lotion for close to 50 year then the cetaphil brand bring all product under one brand name and i find the light lotion work as well without leave a heavy sticky residue like another popular brand and others unfortunately this new version leave a heavy sticky residue like so many lotion on the shelf lose what make your lotion well sad\n",
      "Generated phrase: \"Not moisturizing well, lacking good scent\"\n",
      "\n",
      "Rating: 3.0\n",
      "Topic: 1, Top Words: help dry skin, skin feel, oily skin, hydrate, help dry, make, make skin, skin dry, leave skin, leave, oily, help, dry skin, dry, skin\n",
      "Review: for me personally i have normal to dry skin but this lotion leave my skin feeling greasy i would not recommend\n",
      "Generated phrase: \"Hydrates skin, leaving it balanced\"\n",
      "\n",
      "Topic: 0, Top Words: leave, doesnt, work, really, dry skin, scent, feel, product, good, dry, smell, use, like, lotion, skin\n",
      "Review: smell heavenly but the smellmoisture dont stay very long maybe use on top of another more hydrating lotion or balm\n",
      "Generated phrase: \"Product doesn't work well for dry skin, has poor scent and smell\"\n",
      "\n",
      "Topic: 0, Top Words: leave, doesnt, work, really, dry skin, scent, feel, product, good, dry, smell, use, like, lotion, skin\n",
      "Review: i love this moisturizer i put it on after i cleanse my body i have acne on my arm and my back and i see that it clear my body acne really well i definitley recommend\n",
      "Generated phrase: \"Product doesn't work well for dry skin, has poor scent and smell\"\n",
      "\n",
      "Topic: 0, Top Words: leave, doesnt, work, really, dry skin, scent, feel, product, good, dry, smell, use, like, lotion, skin\n",
      "Review: the vanilla smell be so strong you smell like a can of frost\n",
      "Generated phrase: \"Product doesn't work well for dry skin, has poor scent and smell\"\n",
      "\n",
      "Topic: 0, Top Words: leave, doesnt, work, really, dry skin, scent, feel, product, good, dry, smell, use, like, lotion, skin\n",
      "Review: lotion be average for me not sure if too many baby lotion out there but this one do the job somewhat good doesnt last as long as it should\n",
      "Generated phrase: \"Product doesn't work well for dry skin, has poor scent and smell\"\n",
      "\n"
     ]
    }
   ],
   "source": [
    "# sample reviews and print generated phrases\n",
    "for rating in final_df['star_rating'].unique():\n",
    "    if rating > 3:\n",
    "        break\n",
    "    print(f\"Rating: {rating}\")\n",
    "    for i, row in final_df[final_df['star_rating'] == rating].sample(5).iterrows():\n",
    "        print(f\"Topic: {row['lsa_topic_number']}, Top Words: {row['lsa_topic_words']}\")\n",
    "        print(f\"Review: {row['review_text']}\")\n",
    "        print(f\"Generated phrase: {row['lsa_topic']}\")\n",
    "        print()"
   ]
  },
  {
   "cell_type": "markdown",
   "metadata": {},
   "source": [
    "## distribution of topics for each rating"
   ]
  },
  {
   "cell_type": "code",
   "execution_count": null,
   "metadata": {},
   "outputs": [
    {
     "data": {
      "image/png": "[encoded data removed]",
      "text/plain": [
       "<Figure size 1000x600 with 6 Axes>"
      ]
     },
     "metadata": {},
     "output_type": "display_data"
    }
   ],
   "source": [
    "# visualize distribution of topics, one plot per rating arranged in grid with 2 rows and 3 columns\n",
    "import seaborn as sns\n",
    "import matplotlib.pyplot as plt\n",
    "\n",
    "# create grid of plots\n",
    "fig, axs = plt.subplots(2, 3, figsize=(10, 6))\n",
    "\n",
    "for rating in final_df['star_rating'].unique():\n",
    "    row = int((rating - 1) // 3)\n",
    "    col = int((rating - 1) % 3)\n",
    "    ax = axs[row][col]\n",
    "    sns.countplot(data=final_df[final_df['star_rating'] == rating], x='lsa_topic_number', ax=ax)\n",
    "    ax.set_title(f\"Rating: {rating}\")\n",
    "\n",
    "# Display all subplots together\n",
    "plt.tight_layout()\n",
    "plt.show()"
   ]
  },
  {
   "cell_type": "markdown",
   "metadata": {},
   "source": [
    "# evaluate quality of generated phrases"
   ]
  },
  {
   "cell_type": "code",
   "execution_count": null,
   "metadata": {},
   "outputs": [],
   "source": [
    "# use sentence transformers to get similarity score between reviews and generated phrases\n",
    "from sentence_transformers import SentenceTransformer\n",
    "from torch.nn.functional import cosine_similarity\n",
    "\n",
    "def similarity_scores(model_name, reviews, topics):\n",
    "    \"\"\"\n",
    "    Calculate the similarity scores between reviews and topics using a pre-trained SentenceTransformer model.\n",
    "    \n",
    "    model_name: the name of the pre-trained SentenceTransformer model to use\n",
    "    reviews: a list of review texts\n",
    "    topics: a list of topic phrases\n",
    "    \n",
    "    return: a 2D numpy array of similarity scores\n",
    "    \"\"\"\n",
    "    model = SentenceTransformer(model_name)\n",
    "    review_embeddings = model.encode(reviews, convert_to_tensor=True)\n",
    "    phrase_embeddings = model.encode(topics, convert_to_tensor=True)\n",
    "    similarity_scores = cosine_similarity(review_embeddings, phrase_embeddings).cpu().numpy()\n",
    "    return similarity_scores"
   ]
  },
  {
   "cell_type": "code",
   "execution_count": null,
   "metadata": {},
   "outputs": [
    {
     "name": "stdout",
     "output_type": "stream",
     "text": [
      "Processing reviews 0 to 1000\n"
     ]
    },
    {
     "name": "stderr",
     "output_type": "stream",
     "text": [
      "/Users/jessicaluo/Desktop/scrap/text_processes/lib/python3.12/site-packages/transformers/tokenization_utils_base.py:1601: FutureWarning: `clean_up_tokenization_spaces` was not set. It will be set to `True` by default. This behavior will be depracted in transformers v4.45, and will be then set to `False` by default. For more details check this issue: https://github.com/huggingface/transformers/issues/31884\n",
      "  warnings.warn(\n"
     ]
    },
    {
     "name": "stdout",
     "output_type": "stream",
     "text": [
      "Time taken for all-MiniLM-L6-v2: 9.48236632347107\n",
      "Processing reviews 1000 to 2000\n",
      "Time taken for all-MiniLM-L6-v2: 7.1282758712768555\n",
      "Processing reviews 2000 to 3000\n",
      "Time taken for all-MiniLM-L6-v2: 6.267889738082886\n",
      "Processing reviews 3000 to 4000\n",
      "Time taken for all-MiniLM-L6-v2: 6.551764011383057\n",
      "Processing reviews 4000 to 5000\n",
      "Time taken for all-MiniLM-L6-v2: 5.705777168273926\n",
      "Processing reviews 5000 to 6000\n",
      "Time taken for all-MiniLM-L6-v2: 6.2053070068359375\n",
      "Processing reviews 6000 to 7000\n",
      "Time taken for all-MiniLM-L6-v2: 5.390501976013184\n",
      "Processing reviews 7000 to 8000\n",
      "Time taken for all-MiniLM-L6-v2: 4.9854960441589355\n",
      "Processing reviews 8000 to 9000\n",
      "Time taken for all-MiniLM-L6-v2: 5.136966228485107\n",
      "Processing reviews 9000 to 10000\n",
      "Time taken for all-MiniLM-L6-v2: 4.465231895446777\n",
      "Processing reviews 10000 to 11000\n",
      "Time taken for all-MiniLM-L6-v2: 4.181437253952026\n",
      "Processing reviews 11000 to 12000\n",
      "Time taken for all-MiniLM-L6-v2: 4.08484411239624\n",
      "Processing reviews 12000 to 13000\n",
      "Time taken for all-MiniLM-L6-v2: 5.018935203552246\n",
      "Processing reviews 13000 to 14000\n",
      "Time taken for all-MiniLM-L6-v2: 4.771790981292725\n",
      "Processing reviews 14000 to 15000\n",
      "Time taken for all-MiniLM-L6-v2: 4.7763001918792725\n",
      "Processing reviews 15000 to 16000\n",
      "Time taken for all-MiniLM-L6-v2: 5.207959890365601\n",
      "Processing reviews 16000 to 17000\n",
      "Time taken for all-MiniLM-L6-v2: 6.73061990737915\n",
      "Processing reviews 17000 to 18000\n",
      "Time taken for all-MiniLM-L6-v2: 6.609976291656494\n",
      "Processing reviews 18000 to 19000\n",
      "Time taken for all-MiniLM-L6-v2: 5.0946550369262695\n",
      "Processing reviews 19000 to 20000\n",
      "Time taken for all-MiniLM-L6-v2: 5.567359924316406\n",
      "Processing reviews 20000 to 20281\n",
      "Time taken for all-MiniLM-L6-v2: 2.8662190437316895\n"
     ]
    }
   ],
   "source": [
    "import time\n",
    "\n",
    "model = 'all-MiniLM-L6-v2'\n",
    "reviews = final_df['review_text'].tolist()\n",
    "topics = final_df['lsa_topic'].tolist()\n",
    "# run similarity_scores on chunks of reviews \n",
    "chunk_size = 1000\n",
    "n = final_df.shape[0]\n",
    "similarity_scores_list = []\n",
    "for i in range(0, n, chunk_size):\n",
    "    print(f'Processing reviews {i} to {min(i+chunk_size, n)}')\n",
    "    start = time.time()\n",
    "    similarity_scores_list.extend(similarity_scores(model, reviews[i:i+chunk_size], topics[i:i+chunk_size]))\n",
    "    end = time.time()\n",
    "    print(f\"Time taken for {model}: {end - start}\")"
   ]
  },
  {
   "cell_type": "code",
   "execution_count": null,
   "metadata": {},
   "outputs": [],
   "source": [
    "final_df['similarity_score'] = similarity_scores_list"
   ]
  },
  {
   "cell_type": "code",
   "execution_count": null,
   "metadata": {},
   "outputs": [],
   "source": [
    "# save final_df to csv\n",
    "final_df.to_csv(f'outputs/lsa_{label}.csv', index=False)"
   ]
  },
  {
   "cell_type": "code",
   "execution_count": null,
   "metadata": {},
   "outputs": [
    {
     "name": "stdout",
     "output_type": "stream",
     "text": [
      "star_rating  lsa_topic_number\n",
      "1.0          0                   0.447943\n",
      "             1                   0.463945\n",
      "             2                   0.306810\n",
      "2.0          0                   0.359094\n",
      "             1                   0.335986\n",
      "             2                   0.570615\n",
      "3.0          0                   0.417431\n",
      "             1                   0.348373\n",
      "             2                   0.297584\n",
      "4.0          0                   0.478119\n",
      "             1                   0.391783\n",
      "5.0          0                   0.410255\n",
      "             1                   0.465901\n",
      "Name: similarity_score, dtype: float32\n"
     ]
    }
   ],
   "source": [
    "# print average similarity score for each rating/topic\n",
    "print(final_df.groupby(['star_rating', 'lsa_topic_number'])['similarity_score'].mean())"
   ]
  },
  {
   "cell_type": "markdown",
   "metadata": {},
   "source": [
    "### plot similarity score for each topic in each rating"
   ]
  },
  {
   "cell_type": "code",
   "execution_count": null,
   "metadata": {},
   "outputs": [
    {
     "data": {
      "image/png": "[encoded data removed]",
      "text/plain": [
       "<Figure size 1200x700 with 6 Axes>"
      ]
     },
     "metadata": {},
     "output_type": "display_data"
    }
   ],
   "source": [
    "# visualize average similarity scores for each rating/topic\n",
    "fig, axs = plt.subplots(2, 3, figsize=(12, 7))\n",
    "\n",
    "for rating in final_df['star_rating'].unique():\n",
    "    row = int((rating - 1) // 3)\n",
    "    col = int((rating - 1) % 3)\n",
    "    ax = axs[row][col]\n",
    "    sns.barplot(data=final_df[final_df['star_rating'] == rating], x='lsa_topic_number', y='similarity_score', ax=ax)\n",
    "    ax.set_title(f\"Rating: {rating}\")\n",
    "plt.tight_layout()"
   ]
  },
  {
   "cell_type": "markdown",
   "metadata": {},
   "source": [
    "### plot histogram of average similarity score across all reviews"
   ]
  },
  {
   "cell_type": "code",
   "execution_count": null,
   "metadata": {},
   "outputs": [
    {
     "data": {
      "image/png": "[encoded data removed]",
      "text/plain": [
       "<Figure size 800x500 with 1 Axes>"
      ]
     },
     "metadata": {},
     "output_type": "display_data"
    }
   ],
   "source": [
    "plt.figure(figsize=(8, 5))\n",
    "sns.histplot(final_df['similarity_score'], bins=10)\n",
    "plt.title(\"Histogram of Similarity Scores\")\n",
    "plt.show()"
   ]
  },
  {
   "cell_type": "markdown",
   "metadata": {},
   "source": [
    "### plot a histograms of similarity score for each rating"
   ]
  },
  {
   "cell_type": "code",
   "execution_count": null,
   "metadata": {},
   "outputs": [
    {
     "data": {
      "image/png": "[encoded data removed]",
      "text/plain": [
       "<Figure size 1200x700 with 6 Axes>"
      ]
     },
     "metadata": {},
     "output_type": "display_data"
    }
   ],
   "source": [
    "# plot a histograms of average similarity score for each rating using grid of plots\n",
    "fig, axs = plt.subplots(2, 3, figsize=(12, 7))\n",
    "\n",
    "for rating in final_df['star_rating'].unique():\n",
    "    row = int((rating - 1) // 3)\n",
    "    col = int((rating - 1) % 3)\n",
    "    ax = axs[row][col]\n",
    "    sns.histplot(final_df[final_df['star_rating'] == rating]['similarity_score'], bins=10, ax=ax)\n",
    "    ax.set_title(f\"Rating: {rating}\")\n",
    "plt.tight_layout()"
   ]
  },
  {
   "cell_type": "code",
   "execution_count": null,
   "metadata": {},
   "outputs": [
    {
     "ename": "TypeError",
     "evalue": "module() takes at most 2 arguments (3 given)",
     "output_type": "error",
     "traceback": [
      "\u001b[0;31m---------------------------------------------------------------------------\u001b[0m",
      "\u001b[0;31mTypeError\u001b[0m                                 Traceback (most recent call last)",
      "Cell \u001b[0;32mIn[22], line 4\u001b[0m\n\u001b[1;32m      2\u001b[0m \u001b[38;5;28;01mimport\u001b[39;00m \u001b[38;5;21;01msys\u001b[39;00m\n\u001b[1;32m      3\u001b[0m sys\u001b[38;5;241m.\u001b[39mpath\u001b[38;5;241m.\u001b[39mappend(\u001b[38;5;124m'\u001b[39m\u001b[38;5;124mTopicModel\u001b[39m\u001b[38;5;124m'\u001b[39m)\n\u001b[0;32m----> 4\u001b[0m \u001b[38;5;28;01mimport\u001b[39;00m \u001b[38;5;21;01mLSA\u001b[39;00m\n\u001b[1;32m      7\u001b[0m lsa_model \u001b[38;5;241m=\u001b[39m lsa\u001b[38;5;241m.\u001b[39mLSA(model_name\u001b[38;5;241m=\u001b[39m\u001b[38;5;124m'\u001b[39m\u001b[38;5;124mlsa\u001b[39m\u001b[38;5;124m'\u001b[39m, df\u001b[38;5;241m=\u001b[39mdf)\n",
      "File \u001b[0;32m~/Desktop/BTT-Clorox-Company/TopicModel/LSA.py:9\u001b[0m\n\u001b[1;32m      6\u001b[0m \u001b[38;5;28;01mfrom\u001b[39;00m \u001b[38;5;21;01msklearn\u001b[39;00m\u001b[38;5;21;01m.\u001b[39;00m\u001b[38;5;21;01mdecomposition\u001b[39;00m \u001b[38;5;28;01mimport\u001b[39;00m TruncatedSVD\n\u001b[1;32m      7\u001b[0m \u001b[38;5;28;01mfrom\u001b[39;00m \u001b[38;5;21;01msklearn\u001b[39;00m\u001b[38;5;21;01m.\u001b[39;00m\u001b[38;5;21;01mfeature_extraction\u001b[39;00m\u001b[38;5;21;01m.\u001b[39;00m\u001b[38;5;21;01mtext\u001b[39;00m \u001b[38;5;28;01mimport\u001b[39;00m TfidfVectorizer\n\u001b[0;32m----> 9\u001b[0m \u001b[38;5;28;43;01mclass\u001b[39;49;00m\u001b[43m \u001b[49m\u001b[38;5;21;43;01mLSA\u001b[39;49;00m\u001b[43m(\u001b[49m\u001b[43mTopicModel\u001b[49m\u001b[43m)\u001b[49m\u001b[43m:\u001b[49m\n\u001b[1;32m     11\u001b[0m \u001b[43m    \u001b[49m\u001b[38;5;28;43;01mdef\u001b[39;49;00m\u001b[43m \u001b[49m\u001b[38;5;21;43m__init__\u001b[39;49m\u001b[43m(\u001b[49m\u001b[38;5;28;43mself\u001b[39;49m\u001b[43m,\u001b[49m\u001b[43m \u001b[49m\u001b[43mmodel_name\u001b[49m\u001b[43m,\u001b[49m\u001b[43m \u001b[49m\u001b[43mdf\u001b[49m\u001b[43m)\u001b[49m\u001b[43m:\u001b[49m\n\u001b[1;32m     12\u001b[0m \u001b[43m        \u001b[49m\u001b[38;5;28;43msuper\u001b[39;49m\u001b[43m(\u001b[49m\u001b[43m)\u001b[49m\u001b[38;5;241;43m.\u001b[39;49m\u001b[38;5;21;43m__init__\u001b[39;49m\u001b[43m(\u001b[49m\u001b[43mmodel_name\u001b[49m\u001b[43m,\u001b[49m\u001b[43m \u001b[49m\u001b[43mdf\u001b[49m\u001b[43m)\u001b[49m\n",
      "\u001b[0;31mTypeError\u001b[0m: module() takes at most 2 arguments (3 given)"
     ]
    }
   ],
   "source": [
    "import TopicModel.LSA as lsa\n",
    "\n",
    "lsa_model = lsa.LSA(model_name='lsa', df=df)"
   ]
  },
  {
   "cell_type": "code",
   "execution_count": null,
   "metadata": {},
   "outputs": [],
   "source": []
  },
  {
   "cell_type": "code",
   "execution_count": null,
   "metadata": {},
   "outputs": [],
   "source": []
  }
 ],
 "metadata": {
  "kernelspec": {
   "display_name": "text_processes",
   "language": "python",
   "name": "python3"
  },
  "language_info": {
   "codemirror_mode": {
    "name": "ipython",
    "version": 3
   },
   "file_extension": ".py",
   "mimetype": "text/x-python",
   "name": "python",
   "nbconvert_exporter": "python",
   "pygments_lexer": "ipython3",
   "version": "3.12.4"
  }
 },
 "nbformat": 4,
 "nbformat_minor": 2
}
