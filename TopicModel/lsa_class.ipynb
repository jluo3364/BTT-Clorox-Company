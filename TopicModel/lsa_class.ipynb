{
 "cells": [
  {
   "cell_type": "code",
   "execution_count": 1,
   "metadata": {},
   "outputs": [
    {
     "name": "stderr",
     "output_type": "stream",
     "text": [
      "/Users/jessicaluo/Desktop/scrap/text_processes/lib/python3.12/site-packages/sentence_transformers/cross_encoder/CrossEncoder.py:11: TqdmExperimentalWarning: Using `tqdm.autonotebook.tqdm` in notebook mode. Use `tqdm.tqdm` instead to force console mode (e.g. in jupyter console)\n",
      "  from tqdm.autonotebook import tqdm, trange\n"
     ]
    }
   ],
   "source": [
    "from LSA import LSA\n",
    "import pandas as pd\n",
    "import importlib"
   ]
  },
  {
   "cell_type": "code",
   "execution_count": 2,
   "metadata": {},
   "outputs": [],
   "source": [
    "df = pd.read_csv('../data/processed_reviews.csv')"
   ]
  },
  {
   "cell_type": "code",
   "execution_count": 3,
   "metadata": {},
   "outputs": [],
   "source": [
    "import LSA"
   ]
  },
  {
   "cell_type": "code",
   "execution_count": 4,
   "metadata": {},
   "outputs": [],
   "source": [
    "importlib.reload(LSA)\n",
    "from LSA import LSA"
   ]
  },
  {
   "cell_type": "code",
   "execution_count": 5,
   "metadata": {},
   "outputs": [],
   "source": [
    "lsa = LSA(df)"
   ]
  },
  {
   "cell_type": "markdown",
   "metadata": {},
   "source": [
    "# run LSA on one subcategory"
   ]
  },
  {
   "cell_type": "code",
   "execution_count": 6,
   "metadata": {},
   "outputs": [],
   "source": [
    "# %%time\n",
    "# subcat = 'SPRAY CLEANERS BLEACH CLEANERS'\n",
    "# lsa_df = lsa.train_model_subcategory(subcat, verbose=2, calc_similarity=False)"
   ]
  },
  {
   "cell_type": "code",
   "execution_count": 7,
   "metadata": {},
   "outputs": [],
   "source": [
    "# subcat_filter = lsa_df['subcategory'] == subcat\n",
    "# lsa_df[subcat_filter & (lsa_df['star_rating']==1)].sample(5)"
   ]
  },
  {
   "cell_type": "code",
   "execution_count": 8,
   "metadata": {},
   "outputs": [],
   "source": [
    "# lsa_df = lsa.calculate_similarity_score(subcat)\n",
    "# lsa_df[subcat_filter & (lsa_df['star_rating']==1)].sample(5)"
   ]
  },
  {
   "cell_type": "markdown",
   "metadata": {},
   "source": [
    "# run LSA on multiple subcategories"
   ]
  },
  {
   "cell_type": "code",
   "execution_count": 48,
   "metadata": {},
   "outputs": [
    {
     "data": {
      "text/plain": [
       "{'FACE CARE FACIAL MOISTURIZERS': 81938,\n",
       " 'FACE CARE FACIAL CLEANSERS': 80514,\n",
       " 'FACE CARE ACNE TREATMENTS': 46202,\n",
       " 'FACE CARE FACIAL TOWELETTES': 43130,\n",
       " 'FACE CARE FACIAL TREATMENTS': 37345,\n",
       " 'BODY CARE BODY WASH': 28433,\n",
       " 'WIPES DISINFECTING WIPES': 22595,\n",
       " 'ODOR CONTROLLING DISINFECTING SPRAYS': 20806,\n",
       " 'BODY CARE BODY LOTION': 20281,\n",
       " 'LIP CARE LIP BALM': 19107,\n",
       " 'FLOOR CLEANERS CONVENIENCE': 17318,\n",
       " 'SPRAY CLEANERS ALL PURPOSE CLEANERS': 16896,\n",
       " 'BODY CARE': 14068,\n",
       " 'DRAIN CARE': 12212,\n",
       " 'AIR FRESHENER': 11161,\n",
       " 'DILUTABLES SCENTED/NON-DISINFECTING DILUTABLES': 10754,\n",
       " 'ODOR CONTROLLING AIR FRESHENERS': 9877,\n",
       " 'CONSUMABLE TOOLS CONSUMABLE SCRUBBERS': 8992,\n",
       " 'FACE CARE': 8873,\n",
       " 'TOILET BOWL CLEANERS MANUAL TB CLEANERS': 7972,\n",
       " 'SPRAY CLEANERS GLASS + SURFACE CLEANERS': 7312,\n",
       " 'FACE CARE FACE MASKS': 7067,\n",
       " 'LIP CARE LIP TREATMENT': 6749,\n",
       " 'BATHROOM CLEANERS GENERAL BATHROOM CLEANERS': 6271,\n",
       " 'BODY CARE BAR SOAP': 5595,\n",
       " 'FLOOR CLEANERS CARPET': 5352,\n",
       " 'SPRAY CLEANERS BLEACH CLEANERS': 4731,\n",
       " 'TOILET BOWL CLEANERS CONVENIENCE TB CLEANERS': 4578,\n",
       " 'ABRASIVE CLEANERS': 4427,\n",
       " 'TOILET BOWL CLEANERS AUTOMATIC TB CLEANERS': 4418,\n",
       " 'FACE CARE FACIAL PRIMER': 4205,\n",
       " 'BODY CARE HAND CARE': 3877,\n",
       " 'HAIR CARE HAIR TREATMENTS': 3304,\n",
       " 'BODY CARE BODY OIL': 3116,\n",
       " 'FLOOR CLEANERS SPECIALTY': 3078,\n",
       " 'DILUTABLES PINE/DISINFECTING DILUTABLES': 2794,\n",
       " 'BATHROOM CLEANERS MILDEW CLEANERS': 2633,\n",
       " 'DISH CARE': 2514,\n",
       " 'CONSUMABLE TOOLS SPONGES': 2465,\n",
       " 'SPECIALIZED SPRAYS': 2117,\n",
       " 'LIP CARE PREMIUM LIP CARE': 2084,\n",
       " 'DILUTABLES NATURAL/CONCENTRATED': 2042,\n",
       " 'SPECIALIZED SPRAYS OVEN/SPECIALTY': 1819,\n",
       " \"MEN'S CARE\": 1817,\n",
       " 'HAIR CARE': 1578,\n",
       " 'WOOD/FURNITURE/DUST WOOD/FURNITURE CLEANER': 1573,\n",
       " 'WOOD/FURNITURE/DUST POLISH': 1515,\n",
       " 'BATHROOM CLEANERS LIMESCALE/HARDWATER CLEANERS': 1472,\n",
       " 'CONSUMABLE TOOLS SOAP PADS/STEEL WOOL': 1428,\n",
       " 'SUNCARE & FIRST AID SUNCARE': 1405,\n",
       " 'WOOD/FURNITURE/DUST CONVENIENCE WOOD/FURN/DUST': 1396,\n",
       " 'HAIR CARE SHAMPOO': 1099,\n",
       " 'WIPES OTHER WIPES': 1033,\n",
       " 'CORE GIFTS EVERYDAY KITS': 1028,\n",
       " 'LIP CARE': 1019,\n",
       " 'FLOOR CLEANERS': 1012,\n",
       " 'HAIR CARE CONDITIONER': 983,\n",
       " 'BODY CARE BATH SOAP': 899,\n",
       " \"MEN'S CARE BODY WASH\": 880,\n",
       " 'MOISTURE ABSORBER': 819,\n",
       " 'ODOR CONTROLLING FABRIC REFRESHERS': 817,\n",
       " 'TOILET BOWL CLEANERS': 802,\n",
       " 'CONSUMABLE TOOLS': 635,\n",
       " 'BODY CARE FOOT CARE': 621,\n",
       " 'WIPES': 574,\n",
       " \"MEN'S CARE FACIAL CLEANSERS\": 490,\n",
       " 'CORE GIFTS HOLIDAY KITS': 479,\n",
       " 'SUNCARE & FIRST AID AFTER SUN': 462,\n",
       " 'BATHROOM CLEANERS DAILY SHOWER CLEANERS': 435,\n",
       " 'SPRAY CLEANERS': 431,\n",
       " 'DILUTABLES': 381,\n",
       " 'BODY CARE DEODORANT': 344,\n",
       " \"MEN'S CARE BEARD TREATMENT\": 276,\n",
       " 'WIPES NATURAL WIPES': 269,\n",
       " 'ODOR CONTROLLING AIR ODOR REMOVERS': 230,\n",
       " \"MEN'S CARE FACIAL MOISTURIZER & AFTERSHAVE\": 211,\n",
       " 'LIP CARE LIP BUTTERS': 180,\n",
       " 'CONSUMABLE TOOLS CLEANING CLOTHS': 120,\n",
       " 'BODY CARE BODY WIPES': 109,\n",
       " 'WOOD/FURNITURE/DUST FURNITURE WIPES': 97,\n",
       " 'WOOD/FURNITURE/DUST': 93,\n",
       " 'FACE CARE FACE CARE TOOLS': 91,\n",
       " 'WIPES COMPOSTABLE WIPES': 85,\n",
       " 'BATHROOM CLEANERS': 65,\n",
       " 'BODY CARE BODY TOOLS': 62,\n",
       " 'SUNCARE & FIRST AID FIRST AID OINTMENT': 59,\n",
       " \"MEN'S CARE SHAVE\": 58,\n",
       " 'FACE CARE HAIR REMOVAL': 53,\n",
       " 'SUNCARE & FIRST AID': 46,\n",
       " 'ODOR CONTROLLING': 26,\n",
       " 'DISH CARE LIQUID DISH DETERGENT': 14,\n",
       " 'LIP CARE LIP OILS': 7,\n",
       " 'CORE GIFTS': 5,\n",
       " 'BODY CARE HAIR REMOVAL': 1}"
      ]
     },
     "execution_count": 48,
     "metadata": {},
     "output_type": "execute_result"
    }
   ],
   "source": [
    "# create dict of subcategories and their sizes\n",
    "subcat_sizes = df['subcategory'].value_counts().to_dict()\n",
    "subcat_sizes"
   ]
  },
  {
   "cell_type": "code",
   "execution_count": null,
   "metadata": {},
   "outputs": [
    {
     "data": {
      "text/plain": [
       "['ODOR CONTROLLING DISINFECTING SPRAYS',\n",
       " 'DILUTABLES SCENTED/NON-DISINFECTING DILUTABLES',\n",
       " 'ODOR CONTROLLING AIR FRESHENERS',\n",
       " 'BODY CARE BAR SOAP',\n",
       " 'FLOOR CLEANERS CARPET',\n",
       " 'SPRAY CLEANERS BLEACH CLEANERS',\n",
       " 'TOILET BOWL CLEANERS CONVENIENCE TB CLEANERS',\n",
       " 'ABRASIVE CLEANERS',\n",
       " 'DILUTABLES PINE/DISINFECTING DILUTABLES',\n",
       " 'BATHROOM CLEANERS MILDEW CLEANERS',\n",
       " 'DISH CARE',\n",
       " 'CONSUMABLE TOOLS SPONGES',\n",
       " 'SPECIALIZED SPRAYS',\n",
       " 'LIP CARE PREMIUM LIP CARE',\n",
       " 'DILUTABLES NATURAL/CONCENTRATED',\n",
       " 'SPECIALIZED SPRAYS OVEN/SPECIALTY',\n",
       " \"MEN'S CARE\",\n",
       " 'HAIR CARE']"
      ]
     },
     "execution_count": 49,
     "metadata": {},
     "output_type": "execute_result"
    }
   ],
   "source": [
    "# pick 1 subcat with around 20k, 10k\n",
    "# pick multiple with 5k, 2k reviews\n",
    "target_sizes = [20000, 10000, 5000, 2000]\n",
    "num_subcats = [1, 2, 5, 10]\n",
    "subcats = []\n",
    "for target_size in target_sizes:\n",
    "    valid_subcats = [name for name, size in subcat_sizes.items() if abs(size - target_size) < 1000]\n",
    "    subcats.extend(valid_subcats[:num_subcats[target_sizes.index(target_size)]])\n",
    "subcats"
   ]
  },
  {
   "cell_type": "code",
   "execution_count": 50,
   "metadata": {},
   "outputs": [
    {
     "name": "stdout",
     "output_type": "stream",
     "text": [
      "Creating LSA model for 1.0 star rating with 595 reviews, 3 topics\n",
      "Finished creating LSA model for 1.0 star rating in 0.88 seconds\n",
      "\n",
      "--------------------------------------------------\n",
      "Creating LSA model for 2.0 star rating with 226 reviews, 3 topics\n",
      "Finished creating LSA model for 2.0 star rating in 0.81 seconds\n",
      "\n",
      "--------------------------------------------------\n",
      "Creating LSA model for 3.0 star rating with 700 reviews, 3 topics\n",
      "Finished creating LSA model for 3.0 star rating in 0.82 seconds\n",
      "\n",
      "--------------------------------------------------\n",
      "Creating LSA model for 4.0 star rating with 2676 reviews, 2 topics\n",
      "Finished creating LSA model for 4.0 star rating in 0.93 seconds\n",
      "\n",
      "--------------------------------------------------\n",
      "Creating LSA model for 5.0 star rating with 16609 reviews, 2 topics\n",
      "Finished creating LSA model for 5.0 star rating in 2.13 seconds\n",
      "\n",
      "--------------------------------------------------\n",
      "Finished creating LSA models for ODOR CONTROLLING DISINFECTING SPRAYS in 5.71 seconds\n",
      "--------------------------------------------------------------------------------------------------------------------------------------------------------------------------------------------------------\n",
      "Calculating similarity scores for ODOR CONTROLLING DISINFECTING SPRAYS\n"
     ]
    },
    {
     "name": "stderr",
     "output_type": "stream",
     "text": [
      "/Users/jessicaluo/Desktop/scrap/text_processes/lib/python3.12/site-packages/transformers/tokenization_utils_base.py:1601: FutureWarning: `clean_up_tokenization_spaces` was not set. It will be set to `True` by default. This behavior will be depracted in transformers v4.45, and will be then set to `False` by default. For more details check this issue: https://github.com/huggingface/transformers/issues/31884\n",
      "  warnings.warn(\n"
     ]
    },
    {
     "name": "stdout",
     "output_type": "stream",
     "text": [
      "Time to process chunk 0-1000: 3.76 seconds\n",
      "Time to process chunk 1000-2000: 3.26 seconds\n",
      "Time to process chunk 2000-3000: 3.09 seconds\n",
      "Time to process chunk 3000-4000: 3.06 seconds\n",
      "Time to process chunk 4000-5000: 4.49 seconds\n",
      "Time to process chunk 5000-6000: 4.37 seconds\n",
      "Time to process chunk 6000-7000: 4.27 seconds\n",
      "Time to process chunk 7000-8000: 4.77 seconds\n",
      "Time to process chunk 8000-9000: 4.41 seconds\n",
      "Time to process chunk 9000-10000: 3.85 seconds\n",
      "Time to process chunk 10000-11000: 3.66 seconds\n",
      "Time to process chunk 11000-12000: 5.09 seconds\n",
      "Time to process chunk 12000-13000: 3.89 seconds\n",
      "Time to process chunk 13000-14000: 4.26 seconds\n",
      "Time to process chunk 14000-15000: 3.87 seconds\n",
      "Time to process chunk 15000-16000: 3.75 seconds\n",
      "Time to process chunk 16000-17000: 3.72 seconds\n",
      "Time to process chunk 17000-18000: 3.61 seconds\n",
      "Time to process chunk 18000-19000: 3.67 seconds\n",
      "Time to process chunk 19000-20000: 3.82 seconds\n",
      "Time to process chunk 20000-21000: 3.77 seconds\n",
      "Total processing time: 82.42 seconds\n",
      "Creating LSA model for 1.0 star rating with 630 reviews, 3 topics\n",
      "Finished creating LSA model for 1.0 star rating in 0.86 seconds\n",
      "\n",
      "--------------------------------------------------\n",
      "Creating LSA model for 2.0 star rating with 213 reviews, 3 topics\n",
      "Finished creating LSA model for 2.0 star rating in 0.85 seconds\n",
      "\n",
      "--------------------------------------------------\n",
      "Creating LSA model for 3.0 star rating with 352 reviews, 3 topics\n",
      "Finished creating LSA model for 3.0 star rating in 0.70 seconds\n",
      "\n",
      "--------------------------------------------------\n",
      "Creating LSA model for 4.0 star rating with 862 reviews, 2 topics\n",
      "Finished creating LSA model for 4.0 star rating in 0.51 seconds\n",
      "\n",
      "--------------------------------------------------\n",
      "Creating LSA model for 5.0 star rating with 8697 reviews, 2 topics\n",
      "Finished creating LSA model for 5.0 star rating in 1.47 seconds\n",
      "\n",
      "--------------------------------------------------\n",
      "Finished creating LSA models for DILUTABLES SCENTED/NON-DISINFECTING DILUTABLES in 4.49 seconds\n",
      "--------------------------------------------------------------------------------------------------------------------------------------------------------------------------------------------------------\n",
      "Calculating similarity scores for DILUTABLES SCENTED/NON-DISINFECTING DILUTABLES\n"
     ]
    },
    {
     "name": "stderr",
     "output_type": "stream",
     "text": [
      "/Users/jessicaluo/Desktop/scrap/text_processes/lib/python3.12/site-packages/transformers/tokenization_utils_base.py:1601: FutureWarning: `clean_up_tokenization_spaces` was not set. It will be set to `True` by default. This behavior will be depracted in transformers v4.45, and will be then set to `False` by default. For more details check this issue: https://github.com/huggingface/transformers/issues/31884\n",
      "  warnings.warn(\n"
     ]
    },
    {
     "name": "stdout",
     "output_type": "stream",
     "text": [
      "Time to process chunk 0-1000: 3.19 seconds\n",
      "Time to process chunk 1000-2000: 4.11 seconds\n",
      "Time to process chunk 2000-3000: 4.07 seconds\n",
      "Time to process chunk 3000-4000: 3.57 seconds\n",
      "Time to process chunk 4000-5000: 5.34 seconds\n",
      "Time to process chunk 5000-6000: 4.57 seconds\n",
      "Time to process chunk 6000-7000: 3.71 seconds\n",
      "Time to process chunk 7000-8000: 3.06 seconds\n",
      "Time to process chunk 8000-9000: 3.02 seconds\n",
      "Time to process chunk 9000-10000: 3.31 seconds\n",
      "Time to process chunk 10000-11000: 3.45 seconds\n",
      "Total processing time: 41.41 seconds\n",
      "Creating LSA model for 1.0 star rating with 1334 reviews, 3 topics\n",
      "Finished creating LSA model for 1.0 star rating in 0.96 seconds\n",
      "\n",
      "--------------------------------------------------\n",
      "Creating LSA model for 2.0 star rating with 511 reviews, 2 topics\n",
      "Finished creating LSA model for 2.0 star rating in 0.48 seconds\n",
      "\n",
      "--------------------------------------------------\n",
      "Creating LSA model for 3.0 star rating with 650 reviews, 2 topics\n",
      "Finished creating LSA model for 3.0 star rating in 0.52 seconds\n",
      "\n",
      "--------------------------------------------------\n",
      "Creating LSA model for 4.0 star rating with 1109 reviews, 2 topics\n",
      "Finished creating LSA model for 4.0 star rating in 0.56 seconds\n",
      "\n",
      "--------------------------------------------------\n",
      "Creating LSA model for 5.0 star rating with 6273 reviews, 1 topics\n",
      "Finished creating LSA model for 5.0 star rating in 0.70 seconds\n",
      "\n",
      "--------------------------------------------------\n",
      "Finished creating LSA models for ODOR CONTROLLING AIR FRESHENERS in 3.34 seconds\n",
      "--------------------------------------------------------------------------------------------------------------------------------------------------------------------------------------------------------\n",
      "Calculating similarity scores for ODOR CONTROLLING AIR FRESHENERS\n"
     ]
    },
    {
     "name": "stderr",
     "output_type": "stream",
     "text": [
      "/Users/jessicaluo/Desktop/scrap/text_processes/lib/python3.12/site-packages/transformers/tokenization_utils_base.py:1601: FutureWarning: `clean_up_tokenization_spaces` was not set. It will be set to `True` by default. This behavior will be depracted in transformers v4.45, and will be then set to `False` by default. For more details check this issue: https://github.com/huggingface/transformers/issues/31884\n",
      "  warnings.warn(\n"
     ]
    },
    {
     "name": "stdout",
     "output_type": "stream",
     "text": [
      "Time to process chunk 0-1000: 3.45 seconds\n",
      "Time to process chunk 1000-2000: 3.37 seconds\n",
      "Time to process chunk 2000-3000: 4.45 seconds\n",
      "Time to process chunk 3000-4000: 4.63 seconds\n",
      "Time to process chunk 4000-5000: 3.07 seconds\n",
      "Time to process chunk 5000-6000: 3.20 seconds\n",
      "Time to process chunk 6000-7000: 3.55 seconds\n",
      "Time to process chunk 7000-8000: 4.66 seconds\n",
      "Time to process chunk 8000-9000: 4.56 seconds\n",
      "Time to process chunk 9000-10000: 4.70 seconds\n",
      "Total processing time: 39.63 seconds\n",
      "Creating LSA model for 1.0 star rating with 177 reviews, 3 topics\n",
      "Finished creating LSA model for 1.0 star rating in 0.70 seconds\n",
      "\n",
      "--------------------------------------------------\n",
      "Creating LSA model for 2.0 star rating with 125 reviews, 2 topics\n",
      "Finished creating LSA model for 2.0 star rating in 0.52 seconds\n",
      "\n",
      "--------------------------------------------------\n",
      "Creating LSA model for 3.0 star rating with 271 reviews, 2 topics\n",
      "Finished creating LSA model for 3.0 star rating in 0.50 seconds\n",
      "\n",
      "--------------------------------------------------\n",
      "Creating LSA model for 4.0 star rating with 879 reviews, 2 topics\n",
      "Finished creating LSA model for 4.0 star rating in 0.67 seconds\n",
      "\n",
      "--------------------------------------------------\n",
      "Creating LSA model for 5.0 star rating with 4143 reviews, 1 topics\n",
      "Finished creating LSA model for 5.0 star rating in 0.55 seconds\n",
      "\n",
      "--------------------------------------------------\n",
      "Finished creating LSA models for BODY CARE BAR SOAP in 3.03 seconds\n",
      "--------------------------------------------------------------------------------------------------------------------------------------------------------------------------------------------------------\n",
      "Calculating similarity scores for BODY CARE BAR SOAP\n"
     ]
    },
    {
     "name": "stderr",
     "output_type": "stream",
     "text": [
      "/Users/jessicaluo/Desktop/scrap/text_processes/lib/python3.12/site-packages/transformers/tokenization_utils_base.py:1601: FutureWarning: `clean_up_tokenization_spaces` was not set. It will be set to `True` by default. This behavior will be depracted in transformers v4.45, and will be then set to `False` by default. For more details check this issue: https://github.com/huggingface/transformers/issues/31884\n",
      "  warnings.warn(\n"
     ]
    },
    {
     "name": "stdout",
     "output_type": "stream",
     "text": [
      "Time to process chunk 0-1000: 3.46 seconds\n",
      "Time to process chunk 1000-2000: 3.14 seconds\n",
      "Time to process chunk 2000-3000: 3.42 seconds\n",
      "Time to process chunk 3000-4000: 3.52 seconds\n",
      "Time to process chunk 4000-5000: 3.56 seconds\n",
      "Time to process chunk 5000-6000: 2.72 seconds\n",
      "Total processing time: 19.81 seconds\n",
      "Creating LSA model for 1.0 star rating with 371 reviews, 3 topics\n",
      "Finished creating LSA model for 1.0 star rating in 0.88 seconds\n",
      "\n",
      "--------------------------------------------------\n",
      "Creating LSA model for 2.0 star rating with 128 reviews, 2 topics\n",
      "Finished creating LSA model for 2.0 star rating in 0.48 seconds\n",
      "\n",
      "--------------------------------------------------\n",
      "Creating LSA model for 3.0 star rating with 261 reviews, 2 topics\n",
      "Finished creating LSA model for 3.0 star rating in 0.55 seconds\n",
      "\n",
      "--------------------------------------------------\n",
      "Creating LSA model for 4.0 star rating with 485 reviews, 2 topics\n",
      "Finished creating LSA model for 4.0 star rating in 0.49 seconds\n",
      "\n",
      "--------------------------------------------------\n",
      "Creating LSA model for 5.0 star rating with 4107 reviews, 1 topics\n",
      "Finished creating LSA model for 5.0 star rating in 0.52 seconds\n",
      "\n",
      "--------------------------------------------------\n",
      "Finished creating LSA models for FLOOR CLEANERS CARPET in 2.99 seconds\n",
      "--------------------------------------------------------------------------------------------------------------------------------------------------------------------------------------------------------\n",
      "Calculating similarity scores for FLOOR CLEANERS CARPET\n"
     ]
    },
    {
     "name": "stderr",
     "output_type": "stream",
     "text": [
      "/Users/jessicaluo/Desktop/scrap/text_processes/lib/python3.12/site-packages/transformers/tokenization_utils_base.py:1601: FutureWarning: `clean_up_tokenization_spaces` was not set. It will be set to `True` by default. This behavior will be depracted in transformers v4.45, and will be then set to `False` by default. For more details check this issue: https://github.com/huggingface/transformers/issues/31884\n",
      "  warnings.warn(\n"
     ]
    },
    {
     "name": "stdout",
     "output_type": "stream",
     "text": [
      "Time to process chunk 0-1000: 2.83 seconds\n",
      "Time to process chunk 1000-2000: 2.91 seconds\n",
      "Time to process chunk 2000-3000: 3.22 seconds\n",
      "Time to process chunk 3000-4000: 3.77 seconds\n",
      "Time to process chunk 4000-5000: 3.34 seconds\n",
      "Time to process chunk 5000-6000: 3.26 seconds\n",
      "Total processing time: 19.34 seconds\n",
      "Creating LSA model for 1.0 star rating with 272 reviews, 2 topics\n",
      "Finished creating LSA model for 1.0 star rating in 0.45 seconds\n",
      "\n",
      "--------------------------------------------------\n",
      "Creating LSA model for 2.0 star rating with 97 reviews, 2 topics\n",
      "Finished creating LSA model for 2.0 star rating in 0.52 seconds\n",
      "\n",
      "--------------------------------------------------\n",
      "Creating LSA model for 3.0 star rating with 165 reviews, 2 topics\n",
      "Finished creating LSA model for 3.0 star rating in 0.48 seconds\n",
      "\n",
      "--------------------------------------------------\n",
      "Creating LSA model for 4.0 star rating with 420 reviews, 2 topics\n",
      "Finished creating LSA model for 4.0 star rating in 0.59 seconds\n",
      "\n",
      "--------------------------------------------------\n",
      "Creating LSA model for 5.0 star rating with 3777 reviews, 1 topics\n",
      "Finished creating LSA model for 5.0 star rating in 0.49 seconds\n",
      "\n",
      "--------------------------------------------------\n",
      "Finished creating LSA models for SPRAY CLEANERS BLEACH CLEANERS in 2.61 seconds\n",
      "--------------------------------------------------------------------------------------------------------------------------------------------------------------------------------------------------------\n",
      "Calculating similarity scores for SPRAY CLEANERS BLEACH CLEANERS\n"
     ]
    },
    {
     "name": "stderr",
     "output_type": "stream",
     "text": [
      "/Users/jessicaluo/Desktop/scrap/text_processes/lib/python3.12/site-packages/transformers/tokenization_utils_base.py:1601: FutureWarning: `clean_up_tokenization_spaces` was not set. It will be set to `True` by default. This behavior will be depracted in transformers v4.45, and will be then set to `False` by default. For more details check this issue: https://github.com/huggingface/transformers/issues/31884\n",
      "  warnings.warn(\n"
     ]
    },
    {
     "name": "stdout",
     "output_type": "stream",
     "text": [
      "Time to process chunk 0-1000: 3.15 seconds\n",
      "Time to process chunk 1000-2000: 3.91 seconds\n",
      "Time to process chunk 2000-3000: 3.68 seconds\n",
      "Time to process chunk 3000-4000: 4.75 seconds\n",
      "Time to process chunk 4000-5000: 4.13 seconds\n",
      "Total processing time: 19.62 seconds\n",
      "Creating LSA model for 1.0 star rating with 562 reviews, 2 topics\n",
      "Finished creating LSA model for 1.0 star rating in 1.03 seconds\n",
      "\n",
      "--------------------------------------------------\n",
      "Creating LSA model for 2.0 star rating with 165 reviews, 2 topics\n",
      "Finished creating LSA model for 2.0 star rating in 1.04 seconds\n",
      "\n",
      "--------------------------------------------------\n",
      "Creating LSA model for 3.0 star rating with 211 reviews, 2 topics\n",
      "Finished creating LSA model for 3.0 star rating in 0.93 seconds\n",
      "\n",
      "--------------------------------------------------\n",
      "Creating LSA model for 4.0 star rating with 385 reviews, 2 topics\n",
      "Finished creating LSA model for 4.0 star rating in 0.79 seconds\n",
      "\n",
      "--------------------------------------------------\n",
      "Creating LSA model for 5.0 star rating with 3255 reviews, 1 topics\n",
      "Finished creating LSA model for 5.0 star rating in 2.35 seconds\n",
      "\n",
      "--------------------------------------------------\n",
      "Finished creating LSA models for TOILET BOWL CLEANERS CONVENIENCE TB CLEANERS in 6.35 seconds\n",
      "--------------------------------------------------------------------------------------------------------------------------------------------------------------------------------------------------------\n",
      "Calculating similarity scores for TOILET BOWL CLEANERS CONVENIENCE TB CLEANERS\n"
     ]
    },
    {
     "name": "stderr",
     "output_type": "stream",
     "text": [
      "/Users/jessicaluo/Desktop/scrap/text_processes/lib/python3.12/site-packages/transformers/tokenization_utils_base.py:1601: FutureWarning: `clean_up_tokenization_spaces` was not set. It will be set to `True` by default. This behavior will be depracted in transformers v4.45, and will be then set to `False` by default. For more details check this issue: https://github.com/huggingface/transformers/issues/31884\n",
      "  warnings.warn(\n"
     ]
    },
    {
     "name": "stdout",
     "output_type": "stream",
     "text": [
      "Time to process chunk 0-1000: 8.34 seconds\n",
      "Time to process chunk 1000-2000: 5.43 seconds\n",
      "Time to process chunk 2000-3000: 3.54 seconds\n",
      "Time to process chunk 3000-4000: 3.39 seconds\n",
      "Time to process chunk 4000-5000: 2.65 seconds\n",
      "Total processing time: 23.35 seconds\n",
      "Creating LSA model for 1.0 star rating with 244 reviews, 2 topics\n",
      "Finished creating LSA model for 1.0 star rating in 0.59 seconds\n",
      "\n",
      "--------------------------------------------------\n",
      "Creating LSA model for 2.0 star rating with 78 reviews, 2 topics\n",
      "Finished creating LSA model for 2.0 star rating in 0.44 seconds\n",
      "\n",
      "--------------------------------------------------\n",
      "Creating LSA model for 3.0 star rating with 123 reviews, 2 topics\n",
      "Finished creating LSA model for 3.0 star rating in 0.51 seconds\n",
      "\n",
      "--------------------------------------------------\n",
      "Creating LSA model for 4.0 star rating with 298 reviews, 2 topics\n",
      "Finished creating LSA model for 4.0 star rating in 0.67 seconds\n",
      "\n",
      "--------------------------------------------------\n",
      "Creating LSA model for 5.0 star rating with 3684 reviews, 1 topics\n",
      "Finished creating LSA model for 5.0 star rating in 0.52 seconds\n",
      "\n",
      "--------------------------------------------------\n",
      "Finished creating LSA models for ABRASIVE CLEANERS in 2.80 seconds\n",
      "--------------------------------------------------------------------------------------------------------------------------------------------------------------------------------------------------------\n",
      "Calculating similarity scores for ABRASIVE CLEANERS\n"
     ]
    },
    {
     "name": "stderr",
     "output_type": "stream",
     "text": [
      "/Users/jessicaluo/Desktop/scrap/text_processes/lib/python3.12/site-packages/transformers/tokenization_utils_base.py:1601: FutureWarning: `clean_up_tokenization_spaces` was not set. It will be set to `True` by default. This behavior will be depracted in transformers v4.45, and will be then set to `False` by default. For more details check this issue: https://github.com/huggingface/transformers/issues/31884\n",
      "  warnings.warn(\n"
     ]
    },
    {
     "name": "stdout",
     "output_type": "stream",
     "text": [
      "Time to process chunk 0-1000: 3.18 seconds\n",
      "Time to process chunk 1000-2000: 3.42 seconds\n",
      "Time to process chunk 2000-3000: 3.41 seconds\n",
      "Time to process chunk 3000-4000: 3.41 seconds\n",
      "Time to process chunk 4000-5000: 2.00 seconds\n",
      "Total processing time: 15.42 seconds\n",
      "Creating LSA model for 1.0 star rating with 224 reviews, 2 topics\n",
      "Finished creating LSA model for 1.0 star rating in 0.44 seconds\n",
      "\n",
      "--------------------------------------------------\n",
      "Creating LSA model for 2.0 star rating with 55 reviews, 2 topics\n",
      "Finished creating LSA model for 2.0 star rating in 0.69 seconds\n",
      "\n",
      "--------------------------------------------------\n",
      "Creating LSA model for 3.0 star rating with 98 reviews, 2 topics\n",
      "Finished creating LSA model for 3.0 star rating in 0.58 seconds\n",
      "\n",
      "--------------------------------------------------\n",
      "Creating LSA model for 4.0 star rating with 222 reviews, 2 topics\n",
      "Finished creating LSA model for 4.0 star rating in 0.50 seconds\n",
      "\n",
      "--------------------------------------------------\n",
      "Creating LSA model for 5.0 star rating with 2195 reviews, 1 topics\n",
      "Finished creating LSA model for 5.0 star rating in 0.55 seconds\n",
      "\n",
      "--------------------------------------------------\n",
      "Finished creating LSA models for DILUTABLES PINE/DISINFECTING DILUTABLES in 2.82 seconds\n",
      "--------------------------------------------------------------------------------------------------------------------------------------------------------------------------------------------------------\n",
      "Calculating similarity scores for DILUTABLES PINE/DISINFECTING DILUTABLES\n"
     ]
    },
    {
     "name": "stderr",
     "output_type": "stream",
     "text": [
      "/Users/jessicaluo/Desktop/scrap/text_processes/lib/python3.12/site-packages/transformers/tokenization_utils_base.py:1601: FutureWarning: `clean_up_tokenization_spaces` was not set. It will be set to `True` by default. This behavior will be depracted in transformers v4.45, and will be then set to `False` by default. For more details check this issue: https://github.com/huggingface/transformers/issues/31884\n",
      "  warnings.warn(\n"
     ]
    },
    {
     "name": "stdout",
     "output_type": "stream",
     "text": [
      "Time to process chunk 0-1000: 3.81 seconds\n",
      "Time to process chunk 1000-2000: 3.45 seconds\n",
      "Time to process chunk 2000-3000: 3.04 seconds\n",
      "Total processing time: 10.30 seconds\n",
      "Creating LSA model for 1.0 star rating with 272 reviews, 2 topics\n",
      "Finished creating LSA model for 1.0 star rating in 0.48 seconds\n",
      "\n",
      "--------------------------------------------------\n",
      "Creating LSA model for 2.0 star rating with 71 reviews, 2 topics\n",
      "Finished creating LSA model for 2.0 star rating in 0.83 seconds\n",
      "\n",
      "--------------------------------------------------\n",
      "Creating LSA model for 3.0 star rating with 120 reviews, 2 topics\n",
      "Finished creating LSA model for 3.0 star rating in 0.57 seconds\n",
      "\n",
      "--------------------------------------------------\n",
      "Creating LSA model for 4.0 star rating with 217 reviews, 2 topics\n",
      "Finished creating LSA model for 4.0 star rating in 0.60 seconds\n",
      "\n",
      "--------------------------------------------------\n",
      "Creating LSA model for 5.0 star rating with 1953 reviews, 1 topics\n",
      "Finished creating LSA model for 5.0 star rating in 0.45 seconds\n",
      "\n",
      "--------------------------------------------------\n",
      "Finished creating LSA models for BATHROOM CLEANERS MILDEW CLEANERS in 3.03 seconds\n",
      "--------------------------------------------------------------------------------------------------------------------------------------------------------------------------------------------------------\n",
      "Calculating similarity scores for BATHROOM CLEANERS MILDEW CLEANERS\n"
     ]
    },
    {
     "name": "stderr",
     "output_type": "stream",
     "text": [
      "/Users/jessicaluo/Desktop/scrap/text_processes/lib/python3.12/site-packages/transformers/tokenization_utils_base.py:1601: FutureWarning: `clean_up_tokenization_spaces` was not set. It will be set to `True` by default. This behavior will be depracted in transformers v4.45, and will be then set to `False` by default. For more details check this issue: https://github.com/huggingface/transformers/issues/31884\n",
      "  warnings.warn(\n"
     ]
    },
    {
     "name": "stdout",
     "output_type": "stream",
     "text": [
      "Time to process chunk 0-1000: 3.16 seconds\n",
      "Time to process chunk 1000-2000: 3.15 seconds\n",
      "Time to process chunk 2000-3000: 3.23 seconds\n",
      "Total processing time: 9.54 seconds\n",
      "Creating LSA model for 1.0 star rating with 337 reviews, 2 topics\n",
      "Finished creating LSA model for 1.0 star rating in 0.50 seconds\n",
      "\n",
      "--------------------------------------------------\n",
      "Creating LSA model for 2.0 star rating with 138 reviews, 2 topics\n",
      "Finished creating LSA model for 2.0 star rating in 0.48 seconds\n",
      "\n",
      "--------------------------------------------------\n",
      "Creating LSA model for 3.0 star rating with 160 reviews, 2 topics\n",
      "Finished creating LSA model for 3.0 star rating in 0.46 seconds\n",
      "\n",
      "--------------------------------------------------\n",
      "Creating LSA model for 4.0 star rating with 283 reviews, 2 topics\n",
      "Finished creating LSA model for 4.0 star rating in 0.40 seconds\n",
      "\n",
      "--------------------------------------------------\n",
      "Creating LSA model for 5.0 star rating with 1596 reviews, 1 topics\n",
      "Finished creating LSA model for 5.0 star rating in 0.32 seconds\n",
      "\n",
      "--------------------------------------------------\n",
      "Finished creating LSA models for DISH CARE in 2.23 seconds\n",
      "--------------------------------------------------------------------------------------------------------------------------------------------------------------------------------------------------------\n",
      "Calculating similarity scores for DISH CARE\n"
     ]
    },
    {
     "name": "stderr",
     "output_type": "stream",
     "text": [
      "/Users/jessicaluo/Desktop/scrap/text_processes/lib/python3.12/site-packages/transformers/tokenization_utils_base.py:1601: FutureWarning: `clean_up_tokenization_spaces` was not set. It will be set to `True` by default. This behavior will be depracted in transformers v4.45, and will be then set to `False` by default. For more details check this issue: https://github.com/huggingface/transformers/issues/31884\n",
      "  warnings.warn(\n"
     ]
    },
    {
     "name": "stdout",
     "output_type": "stream",
     "text": [
      "Time to process chunk 0-1000: 4.37 seconds\n",
      "Time to process chunk 1000-2000: 3.59 seconds\n",
      "Time to process chunk 2000-3000: 2.42 seconds\n",
      "Total processing time: 10.38 seconds\n",
      "Creating LSA model for 1.0 star rating with 67 reviews, 2 topics\n",
      "Finished creating LSA model for 1.0 star rating in 0.48 seconds\n",
      "\n",
      "--------------------------------------------------\n",
      "Creating LSA model for 2.0 star rating with 50 reviews, 2 topics\n",
      "Finished creating LSA model for 2.0 star rating in 0.45 seconds\n",
      "\n",
      "--------------------------------------------------\n",
      "Creating LSA model for 3.0 star rating with 72 reviews, 2 topics\n",
      "Finished creating LSA model for 3.0 star rating in 0.73 seconds\n",
      "\n",
      "--------------------------------------------------\n",
      "Creating LSA model for 4.0 star rating with 115 reviews, 2 topics\n",
      "Finished creating LSA model for 4.0 star rating in 0.56 seconds\n",
      "\n",
      "--------------------------------------------------\n",
      "Creating LSA model for 5.0 star rating with 2161 reviews, 1 topics\n",
      "Finished creating LSA model for 5.0 star rating in 0.50 seconds\n",
      "\n",
      "--------------------------------------------------\n",
      "Finished creating LSA models for CONSUMABLE TOOLS SPONGES in 2.76 seconds\n",
      "--------------------------------------------------------------------------------------------------------------------------------------------------------------------------------------------------------\n",
      "Calculating similarity scores for CONSUMABLE TOOLS SPONGES\n"
     ]
    },
    {
     "name": "stderr",
     "output_type": "stream",
     "text": [
      "/Users/jessicaluo/Desktop/scrap/text_processes/lib/python3.12/site-packages/transformers/tokenization_utils_base.py:1601: FutureWarning: `clean_up_tokenization_spaces` was not set. It will be set to `True` by default. This behavior will be depracted in transformers v4.45, and will be then set to `False` by default. For more details check this issue: https://github.com/huggingface/transformers/issues/31884\n",
      "  warnings.warn(\n"
     ]
    },
    {
     "name": "stdout",
     "output_type": "stream",
     "text": [
      "Time to process chunk 0-1000: 3.21 seconds\n",
      "Time to process chunk 1000-2000: 3.11 seconds\n",
      "Time to process chunk 2000-3000: 2.18 seconds\n",
      "Total processing time: 8.50 seconds\n",
      "Creating LSA model for 1.0 star rating with 248 reviews, 2 topics\n",
      "Finished creating LSA model for 1.0 star rating in 0.43 seconds\n",
      "\n",
      "--------------------------------------------------\n",
      "Creating LSA model for 2.0 star rating with 83 reviews, 2 topics\n",
      "Finished creating LSA model for 2.0 star rating in 0.39 seconds\n",
      "\n",
      "--------------------------------------------------\n",
      "Creating LSA model for 3.0 star rating with 112 reviews, 2 topics\n",
      "Finished creating LSA model for 3.0 star rating in 0.46 seconds\n",
      "\n",
      "--------------------------------------------------\n",
      "Creating LSA model for 4.0 star rating with 214 reviews, 2 topics\n",
      "Finished creating LSA model for 4.0 star rating in 0.47 seconds\n",
      "\n",
      "--------------------------------------------------\n",
      "Creating LSA model for 5.0 star rating with 1460 reviews, 1 topics\n",
      "Finished creating LSA model for 5.0 star rating in 0.40 seconds\n",
      "\n",
      "--------------------------------------------------\n",
      "Finished creating LSA models for SPECIALIZED SPRAYS in 2.20 seconds\n",
      "--------------------------------------------------------------------------------------------------------------------------------------------------------------------------------------------------------\n",
      "Calculating similarity scores for SPECIALIZED SPRAYS\n"
     ]
    },
    {
     "name": "stderr",
     "output_type": "stream",
     "text": [
      "/Users/jessicaluo/Desktop/scrap/text_processes/lib/python3.12/site-packages/transformers/tokenization_utils_base.py:1601: FutureWarning: `clean_up_tokenization_spaces` was not set. It will be set to `True` by default. This behavior will be depracted in transformers v4.45, and will be then set to `False` by default. For more details check this issue: https://github.com/huggingface/transformers/issues/31884\n",
      "  warnings.warn(\n"
     ]
    },
    {
     "name": "stdout",
     "output_type": "stream",
     "text": [
      "Time to process chunk 0-1000: 3.35 seconds\n",
      "Time to process chunk 1000-2000: 4.02 seconds\n",
      "Time to process chunk 2000-3000: 1.28 seconds\n",
      "Total processing time: 8.65 seconds\n",
      "Creating LSA model for 1.0 star rating with 187 reviews, 2 topics\n",
      "Finished creating LSA model for 1.0 star rating in 0.52 seconds\n",
      "\n",
      "--------------------------------------------------\n",
      "Creating LSA model for 2.0 star rating with 126 reviews, 2 topics\n",
      "Finished creating LSA model for 2.0 star rating in 0.44 seconds\n",
      "\n",
      "--------------------------------------------------\n",
      "Creating LSA model for 3.0 star rating with 165 reviews, 2 topics\n",
      "Finished creating LSA model for 3.0 star rating in 0.65 seconds\n",
      "\n",
      "--------------------------------------------------\n",
      "Creating LSA model for 4.0 star rating with 198 reviews, 2 topics\n",
      "Finished creating LSA model for 4.0 star rating in 0.62 seconds\n",
      "\n",
      "--------------------------------------------------\n",
      "Creating LSA model for 5.0 star rating with 1408 reviews, 1 topics\n",
      "Finished creating LSA model for 5.0 star rating in 0.46 seconds\n",
      "\n",
      "--------------------------------------------------\n",
      "Finished creating LSA models for LIP CARE PREMIUM LIP CARE in 2.77 seconds\n",
      "--------------------------------------------------------------------------------------------------------------------------------------------------------------------------------------------------------\n",
      "Calculating similarity scores for LIP CARE PREMIUM LIP CARE\n"
     ]
    },
    {
     "name": "stderr",
     "output_type": "stream",
     "text": [
      "/Users/jessicaluo/Desktop/scrap/text_processes/lib/python3.12/site-packages/transformers/tokenization_utils_base.py:1601: FutureWarning: `clean_up_tokenization_spaces` was not set. It will be set to `True` by default. This behavior will be depracted in transformers v4.45, and will be then set to `False` by default. For more details check this issue: https://github.com/huggingface/transformers/issues/31884\n",
      "  warnings.warn(\n"
     ]
    },
    {
     "name": "stdout",
     "output_type": "stream",
     "text": [
      "Time to process chunk 0-1000: 5.95 seconds\n",
      "Time to process chunk 1000-2000: 4.83 seconds\n",
      "Time to process chunk 2000-3000: 1.27 seconds\n",
      "Total processing time: 12.05 seconds\n",
      "Creating LSA model for 1.0 star rating with 246 reviews, 2 topics\n",
      "Finished creating LSA model for 1.0 star rating in 0.45 seconds\n",
      "\n",
      "--------------------------------------------------\n",
      "Creating LSA model for 2.0 star rating with 72 reviews, 2 topics\n",
      "Finished creating LSA model for 2.0 star rating in 0.45 seconds\n",
      "\n",
      "--------------------------------------------------\n",
      "Creating LSA model for 3.0 star rating with 94 reviews, 2 topics\n",
      "Finished creating LSA model for 3.0 star rating in 0.46 seconds\n",
      "\n",
      "--------------------------------------------------\n",
      "Creating LSA model for 4.0 star rating with 123 reviews, 2 topics\n",
      "Finished creating LSA model for 4.0 star rating in 2.66 seconds\n",
      "\n",
      "--------------------------------------------------\n",
      "Creating LSA model for 5.0 star rating with 1507 reviews, 1 topics\n",
      "Finished creating LSA model for 5.0 star rating in 2.47 seconds\n",
      "\n",
      "--------------------------------------------------\n",
      "Finished creating LSA models for DILUTABLES NATURAL/CONCENTRATED in 6.58 seconds\n",
      "--------------------------------------------------------------------------------------------------------------------------------------------------------------------------------------------------------\n",
      "Calculating similarity scores for DILUTABLES NATURAL/CONCENTRATED\n"
     ]
    },
    {
     "name": "stderr",
     "output_type": "stream",
     "text": [
      "/Users/jessicaluo/Desktop/scrap/text_processes/lib/python3.12/site-packages/transformers/tokenization_utils_base.py:1601: FutureWarning: `clean_up_tokenization_spaces` was not set. It will be set to `True` by default. This behavior will be depracted in transformers v4.45, and will be then set to `False` by default. For more details check this issue: https://github.com/huggingface/transformers/issues/31884\n",
      "  warnings.warn(\n"
     ]
    },
    {
     "name": "stdout",
     "output_type": "stream",
     "text": [
      "Time to process chunk 0-1000: 3.78 seconds\n",
      "Time to process chunk 1000-2000: 3.56 seconds\n",
      "Time to process chunk 2000-3000: 1.02 seconds\n",
      "Total processing time: 8.36 seconds\n",
      "Creating LSA model for 1.0 star rating with 189 reviews, 2 topics\n",
      "Finished creating LSA model for 1.0 star rating in 0.59 seconds\n",
      "\n",
      "--------------------------------------------------\n",
      "Creating LSA model for 2.0 star rating with 70 reviews, 2 topics\n",
      "Finished creating LSA model for 2.0 star rating in 0.53 seconds\n",
      "\n",
      "--------------------------------------------------\n",
      "Creating LSA model for 3.0 star rating with 97 reviews, 2 topics\n",
      "Finished creating LSA model for 3.0 star rating in 5.24 seconds\n",
      "\n",
      "--------------------------------------------------\n",
      "Creating LSA model for 4.0 star rating with 191 reviews, 2 topics\n",
      "Finished creating LSA model for 4.0 star rating in 4.71 seconds\n",
      "\n",
      "--------------------------------------------------\n",
      "Creating LSA model for 5.0 star rating with 1272 reviews, 1 topics\n",
      "Finished creating LSA model for 5.0 star rating in 2.45 seconds\n",
      "\n",
      "--------------------------------------------------\n",
      "Finished creating LSA models for SPECIALIZED SPRAYS OVEN/SPECIALTY in 13.58 seconds\n",
      "--------------------------------------------------------------------------------------------------------------------------------------------------------------------------------------------------------\n",
      "Calculating similarity scores for SPECIALIZED SPRAYS OVEN/SPECIALTY\n"
     ]
    },
    {
     "name": "stderr",
     "output_type": "stream",
     "text": [
      "/Users/jessicaluo/Desktop/scrap/text_processes/lib/python3.12/site-packages/transformers/tokenization_utils_base.py:1601: FutureWarning: `clean_up_tokenization_spaces` was not set. It will be set to `True` by default. This behavior will be depracted in transformers v4.45, and will be then set to `False` by default. For more details check this issue: https://github.com/huggingface/transformers/issues/31884\n",
      "  warnings.warn(\n"
     ]
    },
    {
     "name": "stdout",
     "output_type": "stream",
     "text": [
      "Time to process chunk 0-1000: 5.09 seconds\n",
      "Time to process chunk 1000-2000: 3.33 seconds\n",
      "Total processing time: 8.42 seconds\n",
      "Creating LSA model for 1.0 star rating with 104 reviews, 2 topics\n",
      "Finished creating LSA model for 1.0 star rating in 0.45 seconds\n",
      "\n",
      "--------------------------------------------------\n",
      "Creating LSA model for 2.0 star rating with 36 reviews, 2 topics\n",
      "Finished creating LSA model for 2.0 star rating in 0.87 seconds\n",
      "\n",
      "--------------------------------------------------\n",
      "Creating LSA model for 3.0 star rating with 93 reviews, 2 topics\n",
      "Finished creating LSA model for 3.0 star rating in 4.61 seconds\n",
      "\n",
      "--------------------------------------------------\n",
      "Creating LSA model for 4.0 star rating with 258 reviews, 2 topics\n",
      "Finished creating LSA model for 4.0 star rating in 4.68 seconds\n",
      "\n",
      "--------------------------------------------------\n",
      "Creating LSA model for 5.0 star rating with 1326 reviews, 1 topics\n",
      "Finished creating LSA model for 5.0 star rating in 2.77 seconds\n",
      "\n",
      "--------------------------------------------------\n",
      "Finished creating LSA models for MEN'S CARE in 13.50 seconds\n",
      "--------------------------------------------------------------------------------------------------------------------------------------------------------------------------------------------------------\n",
      "Calculating similarity scores for MEN'S CARE\n"
     ]
    },
    {
     "name": "stderr",
     "output_type": "stream",
     "text": [
      "/Users/jessicaluo/Desktop/scrap/text_processes/lib/python3.12/site-packages/transformers/tokenization_utils_base.py:1601: FutureWarning: `clean_up_tokenization_spaces` was not set. It will be set to `True` by default. This behavior will be depracted in transformers v4.45, and will be then set to `False` by default. For more details check this issue: https://github.com/huggingface/transformers/issues/31884\n",
      "  warnings.warn(\n"
     ]
    },
    {
     "name": "stdout",
     "output_type": "stream",
     "text": [
      "Time to process chunk 0-1000: 3.79 seconds\n",
      "Time to process chunk 1000-2000: 3.63 seconds\n",
      "Total processing time: 7.42 seconds\n",
      "Creating LSA model for 1.0 star rating with 220 reviews, 2 topics\n",
      "Finished creating LSA model for 1.0 star rating in 0.81 seconds\n",
      "\n",
      "--------------------------------------------------\n",
      "Creating LSA model for 2.0 star rating with 86 reviews, 2 topics\n",
      "Finished creating LSA model for 2.0 star rating in 0.51 seconds\n",
      "\n",
      "--------------------------------------------------\n",
      "Creating LSA model for 3.0 star rating with 111 reviews, 2 topics\n",
      "Finished creating LSA model for 3.0 star rating in 4.65 seconds\n",
      "\n",
      "--------------------------------------------------\n",
      "Creating LSA model for 4.0 star rating with 152 reviews, 2 topics\n",
      "Finished creating LSA model for 4.0 star rating in 4.72 seconds\n",
      "\n",
      "--------------------------------------------------\n",
      "Creating LSA model for 5.0 star rating with 1009 reviews, 1 topics\n",
      "Finished creating LSA model for 5.0 star rating in 2.62 seconds\n",
      "\n",
      "--------------------------------------------------\n",
      "Finished creating LSA models for HAIR CARE in 13.39 seconds\n",
      "--------------------------------------------------------------------------------------------------------------------------------------------------------------------------------------------------------\n",
      "Calculating similarity scores for HAIR CARE\n"
     ]
    },
    {
     "name": "stderr",
     "output_type": "stream",
     "text": [
      "/Users/jessicaluo/Desktop/scrap/text_processes/lib/python3.12/site-packages/transformers/tokenization_utils_base.py:1601: FutureWarning: `clean_up_tokenization_spaces` was not set. It will be set to `True` by default. This behavior will be depracted in transformers v4.45, and will be then set to `False` by default. For more details check this issue: https://github.com/huggingface/transformers/issues/31884\n",
      "  warnings.warn(\n"
     ]
    },
    {
     "name": "stdout",
     "output_type": "stream",
     "text": [
      "Time to process chunk 0-1000: 4.08 seconds\n",
      "Time to process chunk 1000-2000: 2.85 seconds\n",
      "Total processing time: 6.93 seconds\n"
     ]
    }
   ],
   "source": [
    "lsa_df = lsa.train_model(subcats, verbose=1)"
   ]
  },
  {
   "cell_type": "markdown",
   "metadata": {},
   "source": [
    "7 min 50 s to run selected subcategories"
   ]
  },
  {
   "cell_type": "markdown",
   "metadata": {},
   "source": [
    "## look at similarity score btwn review and top words"
   ]
  },
  {
   "cell_type": "code",
   "execution_count": null,
   "metadata": {},
   "outputs": [],
   "source": [
    "# calculate similarity score btwn reviews and top 15 words\n",
    "subset = lsa_df[lsa_df['subcategory'].isin(subcats)]\n",
    "subset.to_csv('../data/18_subcats_lsa.csv', index=False)"
   ]
  },
  {
   "cell_type": "code",
   "execution_count": 52,
   "metadata": {},
   "outputs": [],
   "source": [
    "from sentence_transformers import SentenceTransformer\n",
    "from torch.nn.functional import cosine_similarity\n",
    "import os \n",
    "import time\n",
    "def similarity_scores(reviews, topics, model_name='all-MiniLM-L6-v2', chunk_size=1000):\n",
    "    \"\"\"\n",
    "    Calculate the similarity scores between reviews and topics using a pre-trained SentenceTransformer model.\n",
    "    Chunking is used to avoid memory issues when calculating similarity scores for a large number of reviews.\n",
    "  \n",
    "    model_name: the name of the pre-trained SentenceTransformer model to use\n",
    "    reviews: a list of review texts\n",
    "    topics: a list of topic phrases\n",
    "    chunk_size: the number of reviews to process at a time\n",
    "  \n",
    "    return: a 2D numpy array of similarity scores\n",
    "    \"\"\"\n",
    "    model = SentenceTransformer(model_name)\n",
    "    num_reviews = len(reviews)\n",
    "    similarity_scores = []\n",
    "    total_time = 0\n",
    "    for i in range(0, num_reviews, chunk_size):\n",
    "        start = time.time()\n",
    "        chunk_reviews = reviews[i:i + chunk_size]\n",
    "        review_embeddings = model.encode(chunk_reviews, convert_to_tensor=True)\n",
    "        chunk_topics = topics[i:i + chunk_size]\n",
    "        phrase_embeddings = model.encode(chunk_topics, convert_to_tensor=True)\n",
    "        chunk_similarity = cosine_similarity(review_embeddings, phrase_embeddings).cpu().numpy()\n",
    "        similarity_scores.extend(chunk_similarity)\n",
    "        time_i = time.time() - start\n",
    "        print(f\"Time to process chunk {i}-{i + chunk_size}: {time_i:.2f} seconds\")\n",
    "        total_time += time_i\n",
    "    print(f\"Total processing time: {total_time:.2f} seconds\")\n",
    "    return similarity_scores"
   ]
  },
  {
   "cell_type": "code",
   "execution_count": 53,
   "metadata": {},
   "outputs": [
    {
     "name": "stderr",
     "output_type": "stream",
     "text": [
      "/Users/jessicaluo/Desktop/scrap/text_processes/lib/python3.12/site-packages/transformers/tokenization_utils_base.py:1601: FutureWarning: `clean_up_tokenization_spaces` was not set. It will be set to `True` by default. This behavior will be depracted in transformers v4.45, and will be then set to `False` by default. For more details check this issue: https://github.com/huggingface/transformers/issues/31884\n",
      "  warnings.warn(\n"
     ]
    },
    {
     "name": "stdout",
     "output_type": "stream",
     "text": [
      "Time to process chunk 0-1000: 5.64 seconds\n",
      "Time to process chunk 1000-2000: 6.69 seconds\n",
      "Time to process chunk 2000-3000: 4.65 seconds\n",
      "Time to process chunk 3000-4000: 4.78 seconds\n",
      "Time to process chunk 4000-5000: 4.47 seconds\n",
      "Time to process chunk 5000-6000: 4.30 seconds\n",
      "Time to process chunk 6000-7000: 4.92 seconds\n",
      "Time to process chunk 7000-8000: 7.47 seconds\n",
      "Time to process chunk 8000-9000: 4.48 seconds\n",
      "Time to process chunk 9000-10000: 4.49 seconds\n",
      "Time to process chunk 10000-11000: 4.92 seconds\n",
      "Time to process chunk 11000-12000: 5.54 seconds\n",
      "Time to process chunk 12000-13000: 5.93 seconds\n",
      "Time to process chunk 13000-14000: 5.43 seconds\n",
      "Time to process chunk 14000-15000: 4.83 seconds\n",
      "Time to process chunk 15000-16000: 5.56 seconds\n",
      "Time to process chunk 16000-17000: 6.84 seconds\n",
      "Time to process chunk 17000-18000: 5.51 seconds\n",
      "Time to process chunk 18000-19000: 4.57 seconds\n",
      "Time to process chunk 19000-20000: 5.13 seconds\n",
      "Time to process chunk 20000-21000: 6.43 seconds\n",
      "Time to process chunk 21000-22000: 5.20 seconds\n",
      "Time to process chunk 22000-23000: 4.46 seconds\n",
      "Time to process chunk 23000-24000: 4.79 seconds\n",
      "Time to process chunk 24000-25000: 4.43 seconds\n",
      "Time to process chunk 25000-26000: 4.79 seconds\n",
      "Time to process chunk 26000-27000: 4.55 seconds\n",
      "Time to process chunk 27000-28000: 4.92 seconds\n",
      "Time to process chunk 28000-29000: 4.72 seconds\n",
      "Time to process chunk 29000-30000: 4.45 seconds\n",
      "Time to process chunk 30000-31000: 4.26 seconds\n",
      "Time to process chunk 31000-32000: 4.50 seconds\n",
      "Time to process chunk 32000-33000: 4.51 seconds\n",
      "Time to process chunk 33000-34000: 4.30 seconds\n",
      "Time to process chunk 34000-35000: 5.23 seconds\n",
      "Time to process chunk 35000-36000: 7.14 seconds\n",
      "Time to process chunk 36000-37000: 8.00 seconds\n",
      "Time to process chunk 37000-38000: 5.91 seconds\n",
      "Time to process chunk 38000-39000: 5.24 seconds\n",
      "Time to process chunk 39000-40000: 5.71 seconds\n",
      "Time to process chunk 40000-41000: 4.62 seconds\n",
      "Time to process chunk 41000-42000: 4.16 seconds\n",
      "Time to process chunk 42000-43000: 5.04 seconds\n",
      "Time to process chunk 43000-44000: 5.38 seconds\n",
      "Time to process chunk 44000-45000: 4.39 seconds\n",
      "Time to process chunk 45000-46000: 4.28 seconds\n",
      "Time to process chunk 46000-47000: 4.51 seconds\n",
      "Time to process chunk 47000-48000: 4.36 seconds\n",
      "Time to process chunk 48000-49000: 4.41 seconds\n",
      "Time to process chunk 49000-50000: 4.61 seconds\n",
      "Time to process chunk 50000-51000: 4.72 seconds\n",
      "Time to process chunk 51000-52000: 4.38 seconds\n",
      "Time to process chunk 52000-53000: 4.18 seconds\n",
      "Time to process chunk 53000-54000: 4.75 seconds\n",
      "Time to process chunk 54000-55000: 4.43 seconds\n",
      "Time to process chunk 55000-56000: 4.21 seconds\n",
      "Time to process chunk 56000-57000: 4.20 seconds\n",
      "Time to process chunk 57000-58000: 4.68 seconds\n",
      "Time to process chunk 58000-59000: 4.49 seconds\n",
      "Time to process chunk 59000-60000: 4.25 seconds\n",
      "Time to process chunk 60000-61000: 4.30 seconds\n",
      "Time to process chunk 61000-62000: 4.40 seconds\n",
      "Time to process chunk 62000-63000: 5.68 seconds\n",
      "Time to process chunk 63000-64000: 6.14 seconds\n",
      "Time to process chunk 64000-65000: 4.95 seconds\n",
      "Time to process chunk 65000-66000: 4.99 seconds\n",
      "Time to process chunk 66000-67000: 5.10 seconds\n",
      "Time to process chunk 67000-68000: 4.47 seconds\n",
      "Time to process chunk 68000-69000: 5.08 seconds\n",
      "Time to process chunk 69000-70000: 4.90 seconds\n",
      "Time to process chunk 70000-71000: 4.66 seconds\n",
      "Time to process chunk 71000-72000: 4.82 seconds\n",
      "Time to process chunk 72000-73000: 4.68 seconds\n",
      "Time to process chunk 73000-74000: 4.73 seconds\n",
      "Time to process chunk 74000-75000: 4.94 seconds\n",
      "Time to process chunk 75000-76000: 4.78 seconds\n",
      "Time to process chunk 76000-77000: 5.33 seconds\n",
      "Time to process chunk 77000-78000: 4.59 seconds\n",
      "Time to process chunk 78000-79000: 4.51 seconds\n",
      "Time to process chunk 79000-80000: 4.77 seconds\n",
      "Time to process chunk 80000-81000: 4.44 seconds\n",
      "Time to process chunk 81000-82000: 4.42 seconds\n",
      "Time to process chunk 82000-83000: 4.50 seconds\n",
      "Time to process chunk 83000-84000: 4.47 seconds\n",
      "Time to process chunk 84000-85000: 4.97 seconds\n",
      "Time to process chunk 85000-86000: 4.86 seconds\n",
      "Time to process chunk 86000-87000: 4.86 seconds\n",
      "Time to process chunk 87000-88000: 5.32 seconds\n",
      "Total processing time: 435.35 seconds\n"
     ]
    }
   ],
   "source": [
    "word_similarity_scores = similarity_scores(list(subset['review_text']), list(subset['lsa_top_15_words']))"
   ]
  },
  {
   "cell_type": "code",
   "execution_count": null,
   "metadata": {},
   "outputs": [],
   "source": [
    "lsa_df.loc[subset.index, 'top_words_similarity_score'] = word_similarity_scores"
   ]
  },
  {
   "cell_type": "code",
   "execution_count": 57,
   "metadata": {},
   "outputs": [],
   "source": [
    "lsa_df.loc[subset.index, 'topic_phrase_SS - topic_words_SS'] = lsa_df['lsa_similarity_score'] - lsa_df['top_words_similarity_score']"
   ]
  },
  {
   "cell_type": "code",
   "execution_count": 63,
   "metadata": {},
   "outputs": [
    {
     "data": {
      "text/plain": [
       "subcategory\n",
       "ODOR CONTROLLING DISINFECTING SPRAYS              20806\n",
       "DILUTABLES SCENTED/NON-DISINFECTING DILUTABLES    10754\n",
       "ODOR CONTROLLING AIR FRESHENERS                    9877\n",
       "BODY CARE BAR SOAP                                 5595\n",
       "FLOOR CLEANERS CARPET                              5352\n",
       "SPRAY CLEANERS BLEACH CLEANERS                     4731\n",
       "TOILET BOWL CLEANERS CONVENIENCE TB CLEANERS       4578\n",
       "ABRASIVE CLEANERS                                  4427\n",
       "DILUTABLES PINE/DISINFECTING DILUTABLES            2794\n",
       "BATHROOM CLEANERS MILDEW CLEANERS                  2633\n",
       "DISH CARE                                          2514\n",
       "CONSUMABLE TOOLS SPONGES                           2465\n",
       "SPECIALIZED SPRAYS                                 2117\n",
       "LIP CARE PREMIUM LIP CARE                          2084\n",
       "DILUTABLES NATURAL/CONCENTRATED                    2042\n",
       "SPECIALIZED SPRAYS OVEN/SPECIALTY                  1819\n",
       "MEN'S CARE                                         1817\n",
       "HAIR CARE                                          1578\n",
       "Name: count, dtype: int64"
      ]
     },
     "execution_count": 63,
     "metadata": {},
     "output_type": "execute_result"
    }
   ],
   "source": [
    "# print size of each subcategory in subcats\n",
    "lsa_df[lsa_df['subcategory'].isin(subcats)]['subcategory'].value_counts()"
   ]
  },
  {
   "cell_type": "markdown",
   "metadata": {},
   "source": [
    "## box plots of difference in similarity scores"
   ]
  },
  {
   "cell_type": "code",
   "execution_count": 64,
   "metadata": {},
   "outputs": [
    {
     "data": {
      "image/png": "[encoded data removed]",
      "text/plain": [
       "<Figure size 1000x1000 with 1 Axes>"
      ]
     },
     "metadata": {},
     "output_type": "display_data"
    }
   ],
   "source": [
    "# plot boxplot of similarity score differences for each subcategory\n",
    "import matplotlib.pyplot as plt\n",
    "import seaborn as sns\n",
    "\n",
    "subset = lsa_df[lsa_df['subcategory'].isin(subcats)]\n",
    "\n",
    "# Calculate the size of each subcategory\n",
    "subcategory_sizes = subset['subcategory'].value_counts()\n",
    "\n",
    "# Sort the subcategories by size\n",
    "sorted_subcategories = subcategory_sizes.index\n",
    "\n",
    "# Create a sorted subset\n",
    "sorted_subset = subset.set_index('subcategory').loc[sorted_subcategories].reset_index()\n",
    "\n",
    "plt.figure(figsize=(10, 10))\n",
    "\n",
    "# Plot the boxplots in the sorted order\n",
    "sns.boxplot(y='subcategory', x='topic_phrase_SS - topic_words_SS', data=sorted_subset, vert=False)\n",
    "plt.title('topic_phrase similarity score - topic_words similarity score')\n",
    "# show grid\n",
    "plt.grid()\n",
    "plt.show()"
   ]
  },
  {
   "cell_type": "markdown",
   "metadata": {},
   "source": [
    "# 3 small subcategories"
   ]
  },
  {
   "cell_type": "code",
   "execution_count": null,
   "metadata": {},
   "outputs": [
    {
     "name": "stdout",
     "output_type": "stream",
     "text": [
      "Creating LSA model for 1.0 star rating with 160 reviews, 2 topics\n",
      "Finished creating LSA model for 1.0 star rating in 0.60 seconds\n",
      "\n",
      "--------------------------------------------------\n",
      "Creating LSA model for 2.0 star rating with 44 reviews, 2 topics\n",
      "Finished creating LSA model for 2.0 star rating in 0.56 seconds\n",
      "\n",
      "--------------------------------------------------\n",
      "Creating LSA model for 3.0 star rating with 63 reviews, 2 topics\n",
      "Finished creating LSA model for 3.0 star rating in 0.37 seconds\n",
      "\n",
      "--------------------------------------------------\n",
      "Creating LSA model for 4.0 star rating with 95 reviews, 2 topics\n",
      "Finished creating LSA model for 4.0 star rating in 0.49 seconds\n",
      "\n",
      "--------------------------------------------------\n",
      "Creating LSA model for 5.0 star rating with 650 reviews, 1 topics\n",
      "Finished creating LSA model for 5.0 star rating in 0.25 seconds\n",
      "\n",
      "--------------------------------------------------\n",
      "Finished creating LSA models for FLOOR CLEANERS in 2.35 seconds\n",
      "--------------------------------------------------------------------------------------------------------------------------------------------------------------------------------------------------------\n",
      "Calculating similarity scores for FLOOR CLEANERS\n"
     ]
    },
    {
     "name": "stderr",
     "output_type": "stream",
     "text": [
      "/Users/jessicaluo/Desktop/scrap/text_processes/lib/python3.12/site-packages/transformers/tokenization_utils_base.py:1601: FutureWarning: `clean_up_tokenization_spaces` was not set. It will be set to `True` by default. This behavior will be depracted in transformers v4.45, and will be then set to `False` by default. For more details check this issue: https://github.com/huggingface/transformers/issues/31884\n",
      "  warnings.warn(\n"
     ]
    },
    {
     "name": "stdout",
     "output_type": "stream",
     "text": [
      "Time to process chunk 0-1000: 5.50 seconds\n",
      "Time to process chunk 1000-2000: 0.32 seconds\n",
      "Total processing time: 5.82 seconds\n",
      "Creating LSA model for 1.0 star rating with 102 reviews, 2 topics\n",
      "Finished creating LSA model for 1.0 star rating in 0.39 seconds\n",
      "\n",
      "--------------------------------------------------\n",
      "Creating LSA model for 2.0 star rating with 38 reviews, 2 topics\n",
      "Finished creating LSA model for 2.0 star rating in 0.45 seconds\n",
      "\n",
      "--------------------------------------------------\n",
      "Creating LSA model for 3.0 star rating with 57 reviews, 2 topics\n",
      "Finished creating LSA model for 3.0 star rating in 0.42 seconds\n",
      "\n",
      "--------------------------------------------------\n",
      "Creating LSA model for 4.0 star rating with 101 reviews, 1 topics\n",
      "Finished creating LSA model for 4.0 star rating in 0.22 seconds\n",
      "\n",
      "--------------------------------------------------\n",
      "Creating LSA model for 5.0 star rating with 504 reviews, 1 topics\n",
      "Finished creating LSA model for 5.0 star rating in 0.19 seconds\n",
      "\n",
      "--------------------------------------------------\n",
      "Finished creating LSA models for TOILET BOWL CLEANERS in 1.73 seconds\n",
      "--------------------------------------------------------------------------------------------------------------------------------------------------------------------------------------------------------\n",
      "Calculating similarity scores for TOILET BOWL CLEANERS\n"
     ]
    },
    {
     "name": "stderr",
     "output_type": "stream",
     "text": [
      "/Users/jessicaluo/Desktop/scrap/text_processes/lib/python3.12/site-packages/transformers/tokenization_utils_base.py:1601: FutureWarning: `clean_up_tokenization_spaces` was not set. It will be set to `True` by default. This behavior will be depracted in transformers v4.45, and will be then set to `False` by default. For more details check this issue: https://github.com/huggingface/transformers/issues/31884\n",
      "  warnings.warn(\n"
     ]
    },
    {
     "name": "stdout",
     "output_type": "stream",
     "text": [
      "Time to process chunk 0-1000: 2.71 seconds\n",
      "Total processing time: 2.71 seconds\n",
      "Creating LSA model for 1.0 star rating with 272 reviews, 2 topics\n",
      "Finished creating LSA model for 1.0 star rating in 0.62 seconds\n",
      "\n",
      "--------------------------------------------------\n",
      "Creating LSA model for 2.0 star rating with 97 reviews, 2 topics\n",
      "Finished creating LSA model for 2.0 star rating in 0.57 seconds\n",
      "\n",
      "--------------------------------------------------\n",
      "Creating LSA model for 3.0 star rating with 165 reviews, 2 topics\n",
      "Finished creating LSA model for 3.0 star rating in 0.50 seconds\n",
      "\n",
      "--------------------------------------------------\n",
      "Creating LSA model for 4.0 star rating with 420 reviews, 2 topics\n",
      "Finished creating LSA model for 4.0 star rating in 0.46 seconds\n",
      "\n",
      "--------------------------------------------------\n",
      "Creating LSA model for 5.0 star rating with 3777 reviews, 1 topics\n",
      "Finished creating LSA model for 5.0 star rating in 0.46 seconds\n",
      "\n",
      "--------------------------------------------------\n",
      "Finished creating LSA models for SPRAY CLEANERS BLEACH CLEANERS in 2.69 seconds\n",
      "--------------------------------------------------------------------------------------------------------------------------------------------------------------------------------------------------------\n",
      "Calculating similarity scores for SPRAY CLEANERS BLEACH CLEANERS\n"
     ]
    },
    {
     "name": "stderr",
     "output_type": "stream",
     "text": [
      "/Users/jessicaluo/Desktop/scrap/text_processes/lib/python3.12/site-packages/transformers/tokenization_utils_base.py:1601: FutureWarning: `clean_up_tokenization_spaces` was not set. It will be set to `True` by default. This behavior will be depracted in transformers v4.45, and will be then set to `False` by default. For more details check this issue: https://github.com/huggingface/transformers/issues/31884\n",
      "  warnings.warn(\n"
     ]
    },
    {
     "name": "stdout",
     "output_type": "stream",
     "text": [
      "Time to process chunk 0-1000: 4.03 seconds\n",
      "Time to process chunk 1000-2000: 3.70 seconds\n",
      "Time to process chunk 2000-3000: 3.80 seconds\n",
      "Time to process chunk 3000-4000: 3.65 seconds\n",
      "Time to process chunk 4000-5000: 3.12 seconds\n",
      "Total processing time: 18.29 seconds\n"
     ]
    }
   ],
   "source": [
    "subcats = ['FLOOR CLEANERS', 'TOILET BOWL CLEANERS', 'SPRAY CLEANERS BLEACH CLEANERS']\n",
    "lsa_df = lsa.train_model(subcats, verbose=1)"
   ]
  },
  {
   "cell_type": "code",
   "execution_count": 10,
   "metadata": {},
   "outputs": [
    {
     "data": {
      "text/html": [
       "<div>\n",
       "<style scoped>\n",
       "    .dataframe tbody tr th:only-of-type {\n",
       "        vertical-align: middle;\n",
       "    }\n",
       "\n",
       "    .dataframe tbody tr th {\n",
       "        vertical-align: top;\n",
       "    }\n",
       "\n",
       "    .dataframe thead th {\n",
       "        text-align: right;\n",
       "    }\n",
       "</style>\n",
       "<table border=\"1\" class=\"dataframe\">\n",
       "  <thead>\n",
       "    <tr style=\"text-align: right;\">\n",
       "      <th></th>\n",
       "      <th>brand</th>\n",
       "      <th>product_title</th>\n",
       "      <th>proxy_date</th>\n",
       "      <th>retailer</th>\n",
       "      <th>category</th>\n",
       "      <th>subcategory</th>\n",
       "      <th>review_text</th>\n",
       "      <th>star_rating</th>\n",
       "      <th>topic</th>\n",
       "      <th>brand_type</th>\n",
       "      <th>lsa_topic_number</th>\n",
       "      <th>lsa_top_15_words</th>\n",
       "      <th>lsa_topic_label</th>\n",
       "      <th>lsa_similarity_score</th>\n",
       "    </tr>\n",
       "  </thead>\n",
       "  <tbody>\n",
       "    <tr>\n",
       "      <th>60097</th>\n",
       "      <td>Clorox</td>\n",
       "      <td>Clorox® Clean-Up® All Purpose Cleaner with Ble...</td>\n",
       "      <td>2024-02-12</td>\n",
       "      <td>Office Depot</td>\n",
       "      <td>CLEANING</td>\n",
       "      <td>SPRAY CLEANERS BLEACH CLEANERS</td>\n",
       "      <td>i dont love harsh chemical but there be time a...</td>\n",
       "      <td>5.0</td>\n",
       "      <td>Review and recommendation for Clorox cleaning ...</td>\n",
       "      <td>Clorox</td>\n",
       "      <td>0.0</td>\n",
       "      <td>like, spray, kitchen, good, cleaner, work, ble...</td>\n",
       "      <td>\"Effective cleaners for kitchen and bathroom w...</td>\n",
       "      <td>0.535720</td>\n",
       "    </tr>\n",
       "    <tr>\n",
       "      <th>196228</th>\n",
       "      <td>Clorox</td>\n",
       "      <td>Clorox Clean-Up All Purpose Cleaner with Bleac...</td>\n",
       "      <td>2022-11-28</td>\n",
       "      <td>Dollar General</td>\n",
       "      <td>CLEANING</td>\n",
       "      <td>SPRAY CLEANERS BLEACH CLEANERS</td>\n",
       "      <td>this clorox clean work great i use it to clean...</td>\n",
       "      <td>5.0</td>\n",
       "      <td>Review and recommendation for Clorox cleaning ...</td>\n",
       "      <td>Clorox</td>\n",
       "      <td>0.0</td>\n",
       "      <td>like, spray, kitchen, good, cleaner, work, ble...</td>\n",
       "      <td>\"Effective cleaners for kitchen and bathroom w...</td>\n",
       "      <td>0.593171</td>\n",
       "    </tr>\n",
       "    <tr>\n",
       "      <th>132072</th>\n",
       "      <td>Scrubbing Bubbles</td>\n",
       "      <td>Scrubbing Bubbles Continuous Clean Drop-Ins - ...</td>\n",
       "      <td>2023-08-28</td>\n",
       "      <td>Walmart</td>\n",
       "      <td>CLEANING</td>\n",
       "      <td>TOILET BOWL CLEANERS</td>\n",
       "      <td>i follow the instruction and i have to clean t...</td>\n",
       "      <td>1.0</td>\n",
       "      <td>Negative experience with toilet cleaning products</td>\n",
       "      <td>Competitor</td>\n",
       "      <td>0.0</td>\n",
       "      <td>money, dont, toilet clean, bowl, thats, blue t...</td>\n",
       "      <td>\"Disappointing toilet doesn't clean properly\"</td>\n",
       "      <td>0.517743</td>\n",
       "    </tr>\n",
       "    <tr>\n",
       "      <th>68168</th>\n",
       "      <td>Clorox</td>\n",
       "      <td>Clorox Clean-Up All Purpose Cleaner with Bleac...</td>\n",
       "      <td>2024-01-22</td>\n",
       "      <td>Walmart</td>\n",
       "      <td>CLEANING</td>\n",
       "      <td>SPRAY CLEANERS BLEACH CLEANERS</td>\n",
       "      <td>this clean altho it have bleach doesnt smell o...</td>\n",
       "      <td>5.0</td>\n",
       "      <td>Disinfectant spray recommendations and reviews...</td>\n",
       "      <td>Clorox</td>\n",
       "      <td>0.0</td>\n",
       "      <td>like, spray, kitchen, good, cleaner, work, ble...</td>\n",
       "      <td>\"Effective cleaners for kitchen and bathroom w...</td>\n",
       "      <td>0.612345</td>\n",
       "    </tr>\n",
       "    <tr>\n",
       "      <th>194889</th>\n",
       "      <td>Clorox</td>\n",
       "      <td>Clorox Clean-Up All Purpose Cleaner with Bleac...</td>\n",
       "      <td>2022-12-12</td>\n",
       "      <td>Amazon</td>\n",
       "      <td>CLEANING</td>\n",
       "      <td>SPRAY CLEANERS BLEACH CLEANERS</td>\n",
       "      <td>these item be break in portland pack in there ...</td>\n",
       "      <td>2.0</td>\n",
       "      <td>Leaking and damaged products upon arrival</td>\n",
       "      <td>Clorox</td>\n",
       "      <td>0.0</td>\n",
       "      <td>like, buy bottle, use, clean, sprayer, bleach,...</td>\n",
       "      <td>\"Product leaks issues with boxes and bottles\"</td>\n",
       "      <td>0.534986</td>\n",
       "    </tr>\n",
       "  </tbody>\n",
       "</table>\n",
       "</div>"
      ],
      "text/plain": [
       "                    brand                                      product_title  \\\n",
       "60097              Clorox  Clorox® Clean-Up® All Purpose Cleaner with Ble...   \n",
       "196228             Clorox  Clorox Clean-Up All Purpose Cleaner with Bleac...   \n",
       "132072  Scrubbing Bubbles  Scrubbing Bubbles Continuous Clean Drop-Ins - ...   \n",
       "68168              Clorox  Clorox Clean-Up All Purpose Cleaner with Bleac...   \n",
       "194889             Clorox  Clorox Clean-Up All Purpose Cleaner with Bleac...   \n",
       "\n",
       "        proxy_date        retailer  category                     subcategory  \\\n",
       "60097   2024-02-12    Office Depot  CLEANING  SPRAY CLEANERS BLEACH CLEANERS   \n",
       "196228  2022-11-28  Dollar General  CLEANING  SPRAY CLEANERS BLEACH CLEANERS   \n",
       "132072  2023-08-28         Walmart  CLEANING            TOILET BOWL CLEANERS   \n",
       "68168   2024-01-22         Walmart  CLEANING  SPRAY CLEANERS BLEACH CLEANERS   \n",
       "194889  2022-12-12          Amazon  CLEANING  SPRAY CLEANERS BLEACH CLEANERS   \n",
       "\n",
       "                                              review_text  star_rating  \\\n",
       "60097   i dont love harsh chemical but there be time a...          5.0   \n",
       "196228  this clorox clean work great i use it to clean...          5.0   \n",
       "132072  i follow the instruction and i have to clean t...          1.0   \n",
       "68168   this clean altho it have bleach doesnt smell o...          5.0   \n",
       "194889  these item be break in portland pack in there ...          2.0   \n",
       "\n",
       "                                                    topic  brand_type  \\\n",
       "60097   Review and recommendation for Clorox cleaning ...      Clorox   \n",
       "196228  Review and recommendation for Clorox cleaning ...      Clorox   \n",
       "132072  Negative experience with toilet cleaning products  Competitor   \n",
       "68168   Disinfectant spray recommendations and reviews...      Clorox   \n",
       "194889          Leaking and damaged products upon arrival      Clorox   \n",
       "\n",
       "        lsa_topic_number                                   lsa_top_15_words  \\\n",
       "60097                0.0  like, spray, kitchen, good, cleaner, work, ble...   \n",
       "196228               0.0  like, spray, kitchen, good, cleaner, work, ble...   \n",
       "132072               0.0  money, dont, toilet clean, bowl, thats, blue t...   \n",
       "68168                0.0  like, spray, kitchen, good, cleaner, work, ble...   \n",
       "194889               0.0  like, buy bottle, use, clean, sprayer, bleach,...   \n",
       "\n",
       "                                          lsa_topic_label  \\\n",
       "60097   \"Effective cleaners for kitchen and bathroom w...   \n",
       "196228  \"Effective cleaners for kitchen and bathroom w...   \n",
       "132072      \"Disappointing toilet doesn't clean properly\"   \n",
       "68168   \"Effective cleaners for kitchen and bathroom w...   \n",
       "194889      \"Product leaks issues with boxes and bottles\"   \n",
       "\n",
       "        lsa_similarity_score  \n",
       "60097               0.535720  \n",
       "196228              0.593171  \n",
       "132072              0.517743  \n",
       "68168               0.612345  \n",
       "194889              0.534986  "
      ]
     },
     "execution_count": 10,
     "metadata": {},
     "output_type": "execute_result"
    }
   ],
   "source": [
    "lsa_df[lsa_df['subcategory'].isin(subcats)].sample(5)"
   ]
  },
  {
   "cell_type": "code",
   "execution_count": 11,
   "metadata": {},
   "outputs": [
    {
     "name": "stdout",
     "output_type": "stream",
     "text": [
      "Topic information for FLOOR CLEANERS\n"
     ]
    },
    {
     "data": {
      "text/html": [
       "<div>\n",
       "<style scoped>\n",
       "    .dataframe tbody tr th:only-of-type {\n",
       "        vertical-align: middle;\n",
       "    }\n",
       "\n",
       "    .dataframe tbody tr th {\n",
       "        vertical-align: top;\n",
       "    }\n",
       "\n",
       "    .dataframe thead th {\n",
       "        text-align: right;\n",
       "    }\n",
       "</style>\n",
       "<table border=\"1\" class=\"dataframe\">\n",
       "  <thead>\n",
       "    <tr style=\"text-align: right;\">\n",
       "      <th></th>\n",
       "      <th>star_rating</th>\n",
       "      <th>lsa_topic_label</th>\n",
       "      <th>lsa_similarity_score</th>\n",
       "      <th>count</th>\n",
       "    </tr>\n",
       "  </thead>\n",
       "  <tbody>\n",
       "    <tr>\n",
       "      <th>0</th>\n",
       "      <td>1.0</td>\n",
       "      <td>\"Don't waste money on ineffective cleaning products\"</td>\n",
       "      <td>0.294661</td>\n",
       "      <td>16</td>\n",
       "    </tr>\n",
       "    <tr>\n",
       "      <th>1</th>\n",
       "      <td>1.0</td>\n",
       "      <td>\"Waste money on a bad mop that doesn't work\"</td>\n",
       "      <td>0.290455</td>\n",
       "      <td>144</td>\n",
       "    </tr>\n",
       "    <tr>\n",
       "      <th>2</th>\n",
       "      <td>2.0</td>\n",
       "      <td>\"Doesn't clean effectively or work as expected\"</td>\n",
       "      <td>0.291556</td>\n",
       "      <td>39</td>\n",
       "    </tr>\n",
       "    <tr>\n",
       "      <th>3</th>\n",
       "      <td>2.0</td>\n",
       "      <td>\"Product information lacks clarity on faulty car seat functioning and pet stain issues\"</td>\n",
       "      <td>0.266910</td>\n",
       "      <td>5</td>\n",
       "    </tr>\n",
       "    <tr>\n",
       "      <th>4</th>\n",
       "      <td>3.0</td>\n",
       "      <td>\"Good smell and clean carpet, decent results\"</td>\n",
       "      <td>0.336057</td>\n",
       "      <td>45</td>\n",
       "    </tr>\n",
       "    <tr>\n",
       "      <th>5</th>\n",
       "      <td>3.0</td>\n",
       "      <td>\"Snap product often breaks, good in office use.\"</td>\n",
       "      <td>0.210181</td>\n",
       "      <td>18</td>\n",
       "    </tr>\n",
       "    <tr>\n",
       "      <th>6</th>\n",
       "      <td>4.0</td>\n",
       "      <td>\"Easy good clean job with great results and pleasant smell\"</td>\n",
       "      <td>0.291992</td>\n",
       "      <td>83</td>\n",
       "    </tr>\n",
       "    <tr>\n",
       "      <th>7</th>\n",
       "      <td>4.0</td>\n",
       "      <td>\"Mopping with Oceadr mop head is easy and love using it\"</td>\n",
       "      <td>0.476742</td>\n",
       "      <td>12</td>\n",
       "    </tr>\n",
       "    <tr>\n",
       "      <th>8</th>\n",
       "      <td>5.0</td>\n",
       "      <td>\"Easy-to-use, great working carpet cleaner with no stain or smell issues\"</td>\n",
       "      <td>0.391185</td>\n",
       "      <td>650</td>\n",
       "    </tr>\n",
       "  </tbody>\n",
       "</table>\n",
       "</div>"
      ],
      "text/plain": [
       "   star_rating  \\\n",
       "0          1.0   \n",
       "1          1.0   \n",
       "2          2.0   \n",
       "3          2.0   \n",
       "4          3.0   \n",
       "5          3.0   \n",
       "6          4.0   \n",
       "7          4.0   \n",
       "8          5.0   \n",
       "\n",
       "                                                                           lsa_topic_label  \\\n",
       "0                                     \"Don't waste money on ineffective cleaning products\"   \n",
       "1                                             \"Waste money on a bad mop that doesn't work\"   \n",
       "2                                          \"Doesn't clean effectively or work as expected\"   \n",
       "3  \"Product information lacks clarity on faulty car seat functioning and pet stain issues\"   \n",
       "4                                            \"Good smell and clean carpet, decent results\"   \n",
       "5                                         \"Snap product often breaks, good in office use.\"   \n",
       "6                              \"Easy good clean job with great results and pleasant smell\"   \n",
       "7                                 \"Mopping with Oceadr mop head is easy and love using it\"   \n",
       "8                \"Easy-to-use, great working carpet cleaner with no stain or smell issues\"   \n",
       "\n",
       "   lsa_similarity_score  count  \n",
       "0              0.294661     16  \n",
       "1              0.290455    144  \n",
       "2              0.291556     39  \n",
       "3              0.266910      5  \n",
       "4              0.336057     45  \n",
       "5              0.210181     18  \n",
       "6              0.291992     83  \n",
       "7              0.476742     12  \n",
       "8              0.391185    650  "
      ]
     },
     "execution_count": 11,
     "metadata": {},
     "output_type": "execute_result"
    }
   ],
   "source": [
    "pd.set_option('display.max_colwidth', None)\n",
    "print('Topic information for', subcats[0])\n",
    "lsa.get_topic_information(subcats[0])"
   ]
  },
  {
   "cell_type": "code",
   "execution_count": 14,
   "metadata": {},
   "outputs": [
    {
     "name": "stderr",
     "output_type": "stream",
     "text": [
      "/Users/jessicaluo/Desktop/scrap/text_processes/lib/python3.12/site-packages/transformers/tokenization_utils_base.py:1601: FutureWarning: `clean_up_tokenization_spaces` was not set. It will be set to `True` by default. This behavior will be depracted in transformers v4.45, and will be then set to `False` by default. For more details check this issue: https://github.com/huggingface/transformers/issues/31884\n",
      "  warnings.warn(\n"
     ]
    },
    {
     "name": "stdout",
     "output_type": "stream",
     "text": [
      "Time to process chunk 0-1000: 4.53 seconds\n",
      "Time to process chunk 1000-2000: 4.17 seconds\n",
      "Time to process chunk 2000-3000: 4.22 seconds\n",
      "Time to process chunk 3000-4000: 4.09 seconds\n",
      "Time to process chunk 4000-5000: 3.90 seconds\n",
      "Time to process chunk 5000-6000: 4.76 seconds\n",
      "Time to process chunk 6000-7000: 2.86 seconds\n",
      "Total processing time: 28.53 seconds\n"
     ]
    }
   ],
   "source": [
    "# calculate similarity score btwn reviews and top 15 words\n",
    "subset = lsa_df[lsa_df['subcategory'].isin(subcats)]\n",
    "word_similarity_scores = similarity_scores(list(subset['review_text']), list(subset['lsa_top_15_words']))"
   ]
  },
  {
   "cell_type": "code",
   "execution_count": 22,
   "metadata": {},
   "outputs": [],
   "source": [
    "lsa_df.loc[subset.index, 'top_words_similarity_scores'] = word_similarity_scores"
   ]
  },
  {
   "cell_type": "code",
   "execution_count": 28,
   "metadata": {},
   "outputs": [
    {
     "data": {
      "text/html": [
       "<div>\n",
       "<style scoped>\n",
       "    .dataframe tbody tr th:only-of-type {\n",
       "        vertical-align: middle;\n",
       "    }\n",
       "\n",
       "    .dataframe tbody tr th {\n",
       "        vertical-align: top;\n",
       "    }\n",
       "\n",
       "    .dataframe thead th {\n",
       "        text-align: right;\n",
       "    }\n",
       "</style>\n",
       "<table border=\"1\" class=\"dataframe\">\n",
       "  <thead>\n",
       "    <tr style=\"text-align: right;\">\n",
       "      <th></th>\n",
       "      <th>brand</th>\n",
       "      <th>product_title</th>\n",
       "      <th>proxy_date</th>\n",
       "      <th>retailer</th>\n",
       "      <th>category</th>\n",
       "      <th>subcategory</th>\n",
       "      <th>review_text</th>\n",
       "      <th>star_rating</th>\n",
       "      <th>topic</th>\n",
       "      <th>brand_type</th>\n",
       "      <th>lsa_topic_number</th>\n",
       "      <th>lsa_top_15_words</th>\n",
       "      <th>lsa_topic_label</th>\n",
       "      <th>lsa_similarity_score</th>\n",
       "      <th>top_words_similarity_scores</th>\n",
       "    </tr>\n",
       "  </thead>\n",
       "  <tbody>\n",
       "    <tr>\n",
       "      <th>191592</th>\n",
       "      <td>Clorox</td>\n",
       "      <td>Clorox Clean-Up All Purpose Cleaner with Bleach, Spray Bottle, Fresh Scent, 32 Ounces</td>\n",
       "      <td>2023-01-09</td>\n",
       "      <td>Target</td>\n",
       "      <td>CLEANING</td>\n",
       "      <td>SPRAY CLEANERS BLEACH CLEANERS</td>\n",
       "      <td>it be tap all over to prevent leak but it be leak all over though it do the job i be disappoint that the bleach be all over the place</td>\n",
       "      <td>3.0</td>\n",
       "      <td>Leaking and damaged products upon arrival</td>\n",
       "      <td>Clorox</td>\n",
       "      <td>0.0</td>\n",
       "      <td>great, clorox, box, sprayer, good, like, work, smell, bleach, use, leak, clean, spray, product, bottle</td>\n",
       "      <td>A reliable Clorox bleach box with a great spray bottle, good for cleaning and use.</td>\n",
       "      <td>0.317915</td>\n",
       "      <td>0.149802</td>\n",
       "    </tr>\n",
       "    <tr>\n",
       "      <th>40258</th>\n",
       "      <td>Clorox</td>\n",
       "      <td>Clorox Clean-Up All Purpose Cleaner with Bleach, Spray Bottle, Original, 32 Ounces</td>\n",
       "      <td>2024-03-25</td>\n",
       "      <td>Walmart</td>\n",
       "      <td>CLEANING</td>\n",
       "      <td>SPRAY CLEANERS BLEACH CLEANERS</td>\n",
       "      <td>it have take every stain out of the counter top</td>\n",
       "      <td>5.0</td>\n",
       "      <td>Stain removal products and techniques</td>\n",
       "      <td>Clorox</td>\n",
       "      <td>0.0</td>\n",
       "      <td>like, spray, kitchen, good, cleaner, work, bleach, clorox, smell, bathroom, great, love, product, use, clean</td>\n",
       "      <td>\"Effective cleaners for kitchen and bathroom with great smell and ease of use\"</td>\n",
       "      <td>0.285538</td>\n",
       "      <td>0.239423</td>\n",
       "    </tr>\n",
       "  </tbody>\n",
       "</table>\n",
       "</div>"
      ],
      "text/plain": [
       "         brand  \\\n",
       "191592  Clorox   \n",
       "40258   Clorox   \n",
       "\n",
       "                                                                                product_title  \\\n",
       "191592  Clorox Clean-Up All Purpose Cleaner with Bleach, Spray Bottle, Fresh Scent, 32 Ounces   \n",
       "40258      Clorox Clean-Up All Purpose Cleaner with Bleach, Spray Bottle, Original, 32 Ounces   \n",
       "\n",
       "        proxy_date retailer  category                     subcategory  \\\n",
       "191592  2023-01-09   Target  CLEANING  SPRAY CLEANERS BLEACH CLEANERS   \n",
       "40258   2024-03-25  Walmart  CLEANING  SPRAY CLEANERS BLEACH CLEANERS   \n",
       "\n",
       "                                                                                                                                  review_text  \\\n",
       "191592  it be tap all over to prevent leak but it be leak all over though it do the job i be disappoint that the bleach be all over the place   \n",
       "40258                                                                                         it have take every stain out of the counter top   \n",
       "\n",
       "        star_rating                                      topic brand_type  \\\n",
       "191592          3.0  Leaking and damaged products upon arrival     Clorox   \n",
       "40258           5.0      Stain removal products and techniques     Clorox   \n",
       "\n",
       "        lsa_topic_number  \\\n",
       "191592               0.0   \n",
       "40258                0.0   \n",
       "\n",
       "                                                                                                    lsa_top_15_words  \\\n",
       "191592        great, clorox, box, sprayer, good, like, work, smell, bleach, use, leak, clean, spray, product, bottle   \n",
       "40258   like, spray, kitchen, good, cleaner, work, bleach, clorox, smell, bathroom, great, love, product, use, clean   \n",
       "\n",
       "                                                                           lsa_topic_label  \\\n",
       "191592  A reliable Clorox bleach box with a great spray bottle, good for cleaning and use.   \n",
       "40258       \"Effective cleaners for kitchen and bathroom with great smell and ease of use\"   \n",
       "\n",
       "        lsa_similarity_score  top_words_similarity_scores  \n",
       "191592              0.317915                     0.149802  \n",
       "40258               0.285538                     0.239423  "
      ]
     },
     "execution_count": 28,
     "metadata": {},
     "output_type": "execute_result"
    }
   ],
   "source": [
    "subset = lsa_df[lsa_df['subcategory'].isin(subcats)]\n",
    "lsa_df[lsa_df['subcategory'].isin(subcats)].sample(2)"
   ]
  },
  {
   "cell_type": "code",
   "execution_count": 35,
   "metadata": {},
   "outputs": [
    {
     "name": "stdout",
     "output_type": "stream",
     "text": [
      "topic_phrase_SS - topic_words_SS for subcategory: FLOOR CLEANERS\n",
      "                 0\n",
      "count  1012.000000\n",
      "mean      0.053116\n",
      "std       0.100971\n",
      "min      -0.266543\n",
      "25%      -0.015518\n",
      "50%       0.055064\n",
      "75%       0.123545\n",
      "max       0.285169\n",
      "topic_phrase_SS - topic_words_SS for subcategory: TOILET BOWL CLEANERS\n",
      "                0\n",
      "count  802.000000\n",
      "mean     0.031563\n",
      "std      0.106760\n",
      "min     -0.278897\n",
      "25%     -0.049200\n",
      "50%      0.042281\n",
      "75%      0.107484\n",
      "max      0.292874\n",
      "topic_phrase_SS - topic_words_SS for subcategory: SPRAY CLEANERS BLEACH CLEANERS\n",
      "                 0\n",
      "count  4731.000000\n",
      "mean      0.027781\n",
      "std       0.093199\n",
      "min      -0.330104\n",
      "25%      -0.034923\n",
      "50%       0.030206\n",
      "75%       0.092309\n",
      "max       0.347309\n"
     ]
    },
    {
     "name": "stderr",
     "output_type": "stream",
     "text": [
      "/var/folders/x2/lsyflj4j07jc1sb3w3hfgmjc0000gn/T/ipykernel_33477/2037968194.py:8: SettingWithCopyWarning: \n",
      "A value is trying to be set on a copy of a slice from a DataFrame.\n",
      "Try using .loc[row_indexer,col_indexer] = value instead\n",
      "\n",
      "See the caveats in the documentation: https://pandas.pydata.org/pandas-docs/stable/user_guide/indexing.html#returning-a-view-versus-a-copy\n",
      "  subset.loc[subcat_filter, 'topic_phrase_SS - topic_words_SS'] = similarity_diff\n"
     ]
    }
   ],
   "source": [
    "# for each subcategory, compare the word_similarity_scores with the similarity scores from LSA\n",
    "for subcat in subcats:\n",
    "    subcat_filter = subset['subcategory'] == subcat\n",
    "    subcat_df = subset[subcat_filter]\n",
    "    lsa_similarity_scores = subcat_df['lsa_similarity_score'].values\n",
    "    word_similarity_scores_subcat = subcat_df['top_words_similarity_scores'].values\n",
    "    similarity_diff = lsa_similarity_scores - word_similarity_scores_subcat\n",
    "    subset.loc[subcat_filter, 'topic_phrase_SS - topic_words_SS'] = similarity_diff\n",
    "    print(f\"topic_phrase_SS - topic_words_SS for subcategory: {subcat}\")\n",
    "    print(pd.DataFrame(similarity_diff).describe())"
   ]
  },
  {
   "cell_type": "code",
   "execution_count": 42,
   "metadata": {},
   "outputs": [
    {
     "data": {
      "image/png": "[encoded data removed]",
      "text/plain": [
       "<Figure size 1000x600 with 1 Axes>"
      ]
     },
     "metadata": {},
     "output_type": "display_data"
    }
   ],
   "source": [
    "# plot boxplot of similarity score differences for each subcategory\n",
    "import matplotlib.pyplot as plt\n",
    "import seaborn as sns\n",
    "plt.figure(figsize=(10, 6))\n",
    "\n",
    "sns.boxplot(y='subcategory', x='topic_phrase_SS - topic_words_SS', data=subset, vert=False)\n",
    "plt.title('topic_phrase similarity score - topic_words similarity score')\n",
    "plt.show()"
   ]
  },
  {
   "cell_type": "code",
   "execution_count": null,
   "metadata": {},
   "outputs": [],
   "source": []
  }
 ],
 "metadata": {
  "kernelspec": {
   "display_name": "text_processes",
   "language": "python",
   "name": "python3"
  },
  "language_info": {
   "codemirror_mode": {
    "name": "ipython",
    "version": 3
   },
   "file_extension": ".py",
   "mimetype": "text/x-python",
   "name": "python",
   "nbconvert_exporter": "python",
   "pygments_lexer": "ipython3",
   "version": "3.12.4"
  }
 },
 "nbformat": 4,
 "nbformat_minor": 2
}
