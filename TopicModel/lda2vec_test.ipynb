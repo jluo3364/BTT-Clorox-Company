{
 "cells": [
  {
   "cell_type": "code",
   "execution_count": 1,
   "metadata": {},
   "outputs": [
    {
     "name": "stderr",
     "output_type": "stream",
     "text": [
      "C:\\Users\\melod\\AppData\\Roaming\\Python\\Python39\\site-packages\\pandas\\core\\computation\\expressions.py:21: UserWarning: Pandas requires version '2.8.4' or newer of 'numexpr' (version '2.8.3' currently installed).\n",
      "  from pandas.core.computation.check import NUMEXPR_INSTALLED\n",
      "C:\\Users\\melod\\AppData\\Roaming\\Python\\Python39\\site-packages\\pandas\\core\\arrays\\masked.py:60: UserWarning: Pandas requires version '1.3.6' or newer of 'bottleneck' (version '1.3.5' currently installed).\n",
      "  from pandas.core import (\n"
     ]
    }
   ],
   "source": [
    "import pandas as pd\n",
    "import matplotlib.pyplot as plt\n",
    "import seaborn as sns\n",
    "import warnings\n",
    "warnings.filterwarnings(\"ignore\")"
   ]
  },
  {
   "cell_type": "code",
   "execution_count": 2,
   "metadata": {},
   "outputs": [
    {
     "name": "stderr",
     "output_type": "stream",
     "text": [
      "c:\\Users\\melod\\anaconda3\\lib\\site-packages\\sentence_transformers\\cross_encoder\\CrossEncoder.py:11: TqdmExperimentalWarning: Using `tqdm.autonotebook.tqdm` in notebook mode. Use `tqdm.tqdm` instead to force console mode (e.g. in jupyter console)\n",
      "  from tqdm.autonotebook import tqdm, trange\n"
     ]
    },
    {
     "name": "stdout",
     "output_type": "stream",
     "text": [
      "WARNING:tensorflow:From c:\\Users\\melod\\anaconda3\\lib\\site-packages\\tf_keras\\src\\losses.py:2976: The name tf.losses.sparse_softmax_cross_entropy is deprecated. Please use tf.compat.v1.losses.sparse_softmax_cross_entropy instead.\n",
      "\n"
     ]
    }
   ],
   "source": [
    "from LDA2Vec import LDA2Vec"
   ]
  },
  {
   "cell_type": "code",
   "execution_count": 3,
   "metadata": {},
   "outputs": [],
   "source": [
    "df = pd.read_csv('../data/processed_reviews.csv')"
   ]
  },
  {
   "cell_type": "code",
   "execution_count": 4,
   "metadata": {},
   "outputs": [],
   "source": [
    "lda2vec_model = LDA2Vec(df)"
   ]
  },
  {
   "cell_type": "code",
   "execution_count": 5,
   "metadata": {},
   "outputs": [
    {
     "name": "stdout",
     "output_type": "stream",
     "text": [
      "Creating LDA2Vec Model with 2 topics for 272 reviews (star rating 1.0) in subcategory SPRAY CLEANERS BLEACH CLEANERS\n",
      "Finished creating LDA2Vec model for 1.0 star rating in 4.00 seconds\n",
      "\n",
      "--------------------------------------------------\n",
      "Creating LDA2Vec Model with 2 topics for 97 reviews (star rating 2.0) in subcategory SPRAY CLEANERS BLEACH CLEANERS\n",
      "Finished creating LDA2Vec model for 2.0 star rating in 1.55 seconds\n",
      "\n",
      "--------------------------------------------------\n",
      "Creating LDA2Vec Model with 2 topics for 165 reviews (star rating 3.0) in subcategory SPRAY CLEANERS BLEACH CLEANERS\n",
      "Finished creating LDA2Vec model for 3.0 star rating in 2.54 seconds\n",
      "\n",
      "--------------------------------------------------\n",
      "Creating LDA2Vec Model with 2 topics for 420 reviews (star rating 4.0) in subcategory SPRAY CLEANERS BLEACH CLEANERS\n",
      "Finished creating LDA2Vec model for 4.0 star rating in 5.53 seconds\n",
      "\n",
      "--------------------------------------------------\n",
      "Creating LDA2Vec Model with 1 topics for 3777 reviews (star rating 5.0) in subcategory SPRAY CLEANERS BLEACH CLEANERS\n",
      "Finished creating LDA2Vec model for 5.0 star rating in 23.00 seconds\n",
      "\n",
      "--------------------------------------------------\n",
      "Finished creating LDA2Vec model for subcategory SPRAY CLEANERS BLEACH CLEANERS in 36.68 seconds\n",
      "\n",
      "--------------------------------------------------------------------------------------------------------------------------------------------------------------------------------------------------------\n",
      "Creating LDA2Vec Model with 1 topics for 39 reviews (star rating 1.0) in subcategory WOOD/FURNITURE/DUST\n",
      "Finished creating LDA2Vec model for 1.0 star rating in 0.82 seconds\n",
      "\n",
      "--------------------------------------------------\n",
      "Creating LDA2Vec Model with 1 topics for 8 reviews (star rating 2.0) in subcategory WOOD/FURNITURE/DUST\n",
      "Finished creating LDA2Vec model for 2.0 star rating in 0.36 seconds\n",
      "\n",
      "--------------------------------------------------\n",
      "Creating LDA2Vec Model with 1 topics for 9 reviews (star rating 3.0) in subcategory WOOD/FURNITURE/DUST\n",
      "Finished creating LDA2Vec model for 3.0 star rating in 0.40 seconds\n",
      "\n",
      "--------------------------------------------------\n",
      "Creating LDA2Vec Model with 1 topics for 7 reviews (star rating 4.0) in subcategory WOOD/FURNITURE/DUST\n",
      "Finished creating LDA2Vec model for 4.0 star rating in 0.45 seconds\n",
      "\n",
      "--------------------------------------------------\n",
      "Creating LDA2Vec Model with 1 topics for 30 reviews (star rating 5.0) in subcategory WOOD/FURNITURE/DUST\n",
      "Finished creating LDA2Vec model for 5.0 star rating in 0.49 seconds\n",
      "\n",
      "--------------------------------------------------\n",
      "Finished creating LDA2Vec model for subcategory WOOD/FURNITURE/DUST in 2.55 seconds\n",
      "\n",
      "--------------------------------------------------------------------------------------------------------------------------------------------------------------------------------------------------------\n"
     ]
    }
   ],
   "source": [
    "subcategories = ['SPRAY CLEANERS BLEACH CLEANERS', 'WOOD/FURNITURE/DUST']\n",
    "result_df = lda2vec_model.train_model(subcategories)"
   ]
  },
  {
   "cell_type": "code",
   "execution_count": null,
   "metadata": {},
   "outputs": [],
   "source": []
  }
 ],
 "metadata": {
  "kernelspec": {
   "display_name": "base",
   "language": "python",
   "name": "python3"
  },
  "language_info": {
   "codemirror_mode": {
    "name": "ipython",
    "version": 3
   },
   "file_extension": ".py",
   "mimetype": "text/x-python",
   "name": "python",
   "nbconvert_exporter": "python",
   "pygments_lexer": "ipython3",
   "version": "3.9.13"
  }
 },
 "nbformat": 4,
 "nbformat_minor": 2
}
