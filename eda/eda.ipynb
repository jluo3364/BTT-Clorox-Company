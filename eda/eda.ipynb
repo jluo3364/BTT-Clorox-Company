{
 "cells": [
  {
   "cell_type": "code",
   "execution_count": 1,
   "metadata": {},
   "outputs": [
    {
     "ename": "FileNotFoundError",
     "evalue": "[Errno 2] No such file or directory: '/Users/jessicaluo/Desktop/BTT-Clorox-Company/eda/data/clorox_data.csv'",
     "output_type": "error",
     "traceback": [
      "\u001b[0;31m---------------------------------------------------------------------------\u001b[0m",
      "\u001b[0;31mFileNotFoundError\u001b[0m                         Traceback (most recent call last)",
      "Cell \u001b[0;32mIn[1], line 5\u001b[0m\n\u001b[1;32m      2\u001b[0m \u001b[38;5;28;01mimport\u001b[39;00m \u001b[38;5;21;01mos\u001b[39;00m \n\u001b[1;32m      4\u001b[0m path \u001b[38;5;241m=\u001b[39m os\u001b[38;5;241m.\u001b[39mpath\u001b[38;5;241m.\u001b[39mjoin(os\u001b[38;5;241m.\u001b[39mgetcwd(), \u001b[38;5;124m'\u001b[39m\u001b[38;5;124mdata\u001b[39m\u001b[38;5;124m'\u001b[39m, \u001b[38;5;124m'\u001b[39m\u001b[38;5;124mclorox_data.csv\u001b[39m\u001b[38;5;124m'\u001b[39m)\n\u001b[0;32m----> 5\u001b[0m df \u001b[38;5;241m=\u001b[39m \u001b[43mpd\u001b[49m\u001b[38;5;241;43m.\u001b[39;49m\u001b[43mread_csv\u001b[49m\u001b[43m(\u001b[49m\u001b[43mpath\u001b[49m\u001b[43m)\u001b[49m\n",
      "File \u001b[0;32m~/Desktop/BTT-Clorox-Company/clorox_env/lib/python3.12/site-packages/pandas/io/parsers/readers.py:1026\u001b[0m, in \u001b[0;36mread_csv\u001b[0;34m(filepath_or_buffer, sep, delimiter, header, names, index_col, usecols, dtype, engine, converters, true_values, false_values, skipinitialspace, skiprows, skipfooter, nrows, na_values, keep_default_na, na_filter, verbose, skip_blank_lines, parse_dates, infer_datetime_format, keep_date_col, date_parser, date_format, dayfirst, cache_dates, iterator, chunksize, compression, thousands, decimal, lineterminator, quotechar, quoting, doublequote, escapechar, comment, encoding, encoding_errors, dialect, on_bad_lines, delim_whitespace, low_memory, memory_map, float_precision, storage_options, dtype_backend)\u001b[0m\n\u001b[1;32m   1013\u001b[0m kwds_defaults \u001b[38;5;241m=\u001b[39m _refine_defaults_read(\n\u001b[1;32m   1014\u001b[0m     dialect,\n\u001b[1;32m   1015\u001b[0m     delimiter,\n\u001b[0;32m   (...)\u001b[0m\n\u001b[1;32m   1022\u001b[0m     dtype_backend\u001b[38;5;241m=\u001b[39mdtype_backend,\n\u001b[1;32m   1023\u001b[0m )\n\u001b[1;32m   1024\u001b[0m kwds\u001b[38;5;241m.\u001b[39mupdate(kwds_defaults)\n\u001b[0;32m-> 1026\u001b[0m \u001b[38;5;28;01mreturn\u001b[39;00m \u001b[43m_read\u001b[49m\u001b[43m(\u001b[49m\u001b[43mfilepath_or_buffer\u001b[49m\u001b[43m,\u001b[49m\u001b[43m \u001b[49m\u001b[43mkwds\u001b[49m\u001b[43m)\u001b[49m\n",
      "File \u001b[0;32m~/Desktop/BTT-Clorox-Company/clorox_env/lib/python3.12/site-packages/pandas/io/parsers/readers.py:620\u001b[0m, in \u001b[0;36m_read\u001b[0;34m(filepath_or_buffer, kwds)\u001b[0m\n\u001b[1;32m    617\u001b[0m _validate_names(kwds\u001b[38;5;241m.\u001b[39mget(\u001b[38;5;124m\"\u001b[39m\u001b[38;5;124mnames\u001b[39m\u001b[38;5;124m\"\u001b[39m, \u001b[38;5;28;01mNone\u001b[39;00m))\n\u001b[1;32m    619\u001b[0m \u001b[38;5;66;03m# Create the parser.\u001b[39;00m\n\u001b[0;32m--> 620\u001b[0m parser \u001b[38;5;241m=\u001b[39m \u001b[43mTextFileReader\u001b[49m\u001b[43m(\u001b[49m\u001b[43mfilepath_or_buffer\u001b[49m\u001b[43m,\u001b[49m\u001b[43m \u001b[49m\u001b[38;5;241;43m*\u001b[39;49m\u001b[38;5;241;43m*\u001b[39;49m\u001b[43mkwds\u001b[49m\u001b[43m)\u001b[49m\n\u001b[1;32m    622\u001b[0m \u001b[38;5;28;01mif\u001b[39;00m chunksize \u001b[38;5;129;01mor\u001b[39;00m iterator:\n\u001b[1;32m    623\u001b[0m     \u001b[38;5;28;01mreturn\u001b[39;00m parser\n",
      "File \u001b[0;32m~/Desktop/BTT-Clorox-Company/clorox_env/lib/python3.12/site-packages/pandas/io/parsers/readers.py:1620\u001b[0m, in \u001b[0;36mTextFileReader.__init__\u001b[0;34m(self, f, engine, **kwds)\u001b[0m\n\u001b[1;32m   1617\u001b[0m     \u001b[38;5;28mself\u001b[39m\u001b[38;5;241m.\u001b[39moptions[\u001b[38;5;124m\"\u001b[39m\u001b[38;5;124mhas_index_names\u001b[39m\u001b[38;5;124m\"\u001b[39m] \u001b[38;5;241m=\u001b[39m kwds[\u001b[38;5;124m\"\u001b[39m\u001b[38;5;124mhas_index_names\u001b[39m\u001b[38;5;124m\"\u001b[39m]\n\u001b[1;32m   1619\u001b[0m \u001b[38;5;28mself\u001b[39m\u001b[38;5;241m.\u001b[39mhandles: IOHandles \u001b[38;5;241m|\u001b[39m \u001b[38;5;28;01mNone\u001b[39;00m \u001b[38;5;241m=\u001b[39m \u001b[38;5;28;01mNone\u001b[39;00m\n\u001b[0;32m-> 1620\u001b[0m \u001b[38;5;28mself\u001b[39m\u001b[38;5;241m.\u001b[39m_engine \u001b[38;5;241m=\u001b[39m \u001b[38;5;28;43mself\u001b[39;49m\u001b[38;5;241;43m.\u001b[39;49m\u001b[43m_make_engine\u001b[49m\u001b[43m(\u001b[49m\u001b[43mf\u001b[49m\u001b[43m,\u001b[49m\u001b[43m \u001b[49m\u001b[38;5;28;43mself\u001b[39;49m\u001b[38;5;241;43m.\u001b[39;49m\u001b[43mengine\u001b[49m\u001b[43m)\u001b[49m\n",
      "File \u001b[0;32m~/Desktop/BTT-Clorox-Company/clorox_env/lib/python3.12/site-packages/pandas/io/parsers/readers.py:1880\u001b[0m, in \u001b[0;36mTextFileReader._make_engine\u001b[0;34m(self, f, engine)\u001b[0m\n\u001b[1;32m   1878\u001b[0m     \u001b[38;5;28;01mif\u001b[39;00m \u001b[38;5;124m\"\u001b[39m\u001b[38;5;124mb\u001b[39m\u001b[38;5;124m\"\u001b[39m \u001b[38;5;129;01mnot\u001b[39;00m \u001b[38;5;129;01min\u001b[39;00m mode:\n\u001b[1;32m   1879\u001b[0m         mode \u001b[38;5;241m+\u001b[39m\u001b[38;5;241m=\u001b[39m \u001b[38;5;124m\"\u001b[39m\u001b[38;5;124mb\u001b[39m\u001b[38;5;124m\"\u001b[39m\n\u001b[0;32m-> 1880\u001b[0m \u001b[38;5;28mself\u001b[39m\u001b[38;5;241m.\u001b[39mhandles \u001b[38;5;241m=\u001b[39m \u001b[43mget_handle\u001b[49m\u001b[43m(\u001b[49m\n\u001b[1;32m   1881\u001b[0m \u001b[43m    \u001b[49m\u001b[43mf\u001b[49m\u001b[43m,\u001b[49m\n\u001b[1;32m   1882\u001b[0m \u001b[43m    \u001b[49m\u001b[43mmode\u001b[49m\u001b[43m,\u001b[49m\n\u001b[1;32m   1883\u001b[0m \u001b[43m    \u001b[49m\u001b[43mencoding\u001b[49m\u001b[38;5;241;43m=\u001b[39;49m\u001b[38;5;28;43mself\u001b[39;49m\u001b[38;5;241;43m.\u001b[39;49m\u001b[43moptions\u001b[49m\u001b[38;5;241;43m.\u001b[39;49m\u001b[43mget\u001b[49m\u001b[43m(\u001b[49m\u001b[38;5;124;43m\"\u001b[39;49m\u001b[38;5;124;43mencoding\u001b[39;49m\u001b[38;5;124;43m\"\u001b[39;49m\u001b[43m,\u001b[49m\u001b[43m \u001b[49m\u001b[38;5;28;43;01mNone\u001b[39;49;00m\u001b[43m)\u001b[49m\u001b[43m,\u001b[49m\n\u001b[1;32m   1884\u001b[0m \u001b[43m    \u001b[49m\u001b[43mcompression\u001b[49m\u001b[38;5;241;43m=\u001b[39;49m\u001b[38;5;28;43mself\u001b[39;49m\u001b[38;5;241;43m.\u001b[39;49m\u001b[43moptions\u001b[49m\u001b[38;5;241;43m.\u001b[39;49m\u001b[43mget\u001b[49m\u001b[43m(\u001b[49m\u001b[38;5;124;43m\"\u001b[39;49m\u001b[38;5;124;43mcompression\u001b[39;49m\u001b[38;5;124;43m\"\u001b[39;49m\u001b[43m,\u001b[49m\u001b[43m \u001b[49m\u001b[38;5;28;43;01mNone\u001b[39;49;00m\u001b[43m)\u001b[49m\u001b[43m,\u001b[49m\n\u001b[1;32m   1885\u001b[0m \u001b[43m    \u001b[49m\u001b[43mmemory_map\u001b[49m\u001b[38;5;241;43m=\u001b[39;49m\u001b[38;5;28;43mself\u001b[39;49m\u001b[38;5;241;43m.\u001b[39;49m\u001b[43moptions\u001b[49m\u001b[38;5;241;43m.\u001b[39;49m\u001b[43mget\u001b[49m\u001b[43m(\u001b[49m\u001b[38;5;124;43m\"\u001b[39;49m\u001b[38;5;124;43mmemory_map\u001b[39;49m\u001b[38;5;124;43m\"\u001b[39;49m\u001b[43m,\u001b[49m\u001b[43m \u001b[49m\u001b[38;5;28;43;01mFalse\u001b[39;49;00m\u001b[43m)\u001b[49m\u001b[43m,\u001b[49m\n\u001b[1;32m   1886\u001b[0m \u001b[43m    \u001b[49m\u001b[43mis_text\u001b[49m\u001b[38;5;241;43m=\u001b[39;49m\u001b[43mis_text\u001b[49m\u001b[43m,\u001b[49m\n\u001b[1;32m   1887\u001b[0m \u001b[43m    \u001b[49m\u001b[43merrors\u001b[49m\u001b[38;5;241;43m=\u001b[39;49m\u001b[38;5;28;43mself\u001b[39;49m\u001b[38;5;241;43m.\u001b[39;49m\u001b[43moptions\u001b[49m\u001b[38;5;241;43m.\u001b[39;49m\u001b[43mget\u001b[49m\u001b[43m(\u001b[49m\u001b[38;5;124;43m\"\u001b[39;49m\u001b[38;5;124;43mencoding_errors\u001b[39;49m\u001b[38;5;124;43m\"\u001b[39;49m\u001b[43m,\u001b[49m\u001b[43m \u001b[49m\u001b[38;5;124;43m\"\u001b[39;49m\u001b[38;5;124;43mstrict\u001b[39;49m\u001b[38;5;124;43m\"\u001b[39;49m\u001b[43m)\u001b[49m\u001b[43m,\u001b[49m\n\u001b[1;32m   1888\u001b[0m \u001b[43m    \u001b[49m\u001b[43mstorage_options\u001b[49m\u001b[38;5;241;43m=\u001b[39;49m\u001b[38;5;28;43mself\u001b[39;49m\u001b[38;5;241;43m.\u001b[39;49m\u001b[43moptions\u001b[49m\u001b[38;5;241;43m.\u001b[39;49m\u001b[43mget\u001b[49m\u001b[43m(\u001b[49m\u001b[38;5;124;43m\"\u001b[39;49m\u001b[38;5;124;43mstorage_options\u001b[39;49m\u001b[38;5;124;43m\"\u001b[39;49m\u001b[43m,\u001b[49m\u001b[43m \u001b[49m\u001b[38;5;28;43;01mNone\u001b[39;49;00m\u001b[43m)\u001b[49m\u001b[43m,\u001b[49m\n\u001b[1;32m   1889\u001b[0m \u001b[43m\u001b[49m\u001b[43m)\u001b[49m\n\u001b[1;32m   1890\u001b[0m \u001b[38;5;28;01massert\u001b[39;00m \u001b[38;5;28mself\u001b[39m\u001b[38;5;241m.\u001b[39mhandles \u001b[38;5;129;01mis\u001b[39;00m \u001b[38;5;129;01mnot\u001b[39;00m \u001b[38;5;28;01mNone\u001b[39;00m\n\u001b[1;32m   1891\u001b[0m f \u001b[38;5;241m=\u001b[39m \u001b[38;5;28mself\u001b[39m\u001b[38;5;241m.\u001b[39mhandles\u001b[38;5;241m.\u001b[39mhandle\n",
      "File \u001b[0;32m~/Desktop/BTT-Clorox-Company/clorox_env/lib/python3.12/site-packages/pandas/io/common.py:873\u001b[0m, in \u001b[0;36mget_handle\u001b[0;34m(path_or_buf, mode, encoding, compression, memory_map, is_text, errors, storage_options)\u001b[0m\n\u001b[1;32m    868\u001b[0m \u001b[38;5;28;01melif\u001b[39;00m \u001b[38;5;28misinstance\u001b[39m(handle, \u001b[38;5;28mstr\u001b[39m):\n\u001b[1;32m    869\u001b[0m     \u001b[38;5;66;03m# Check whether the filename is to be opened in binary mode.\u001b[39;00m\n\u001b[1;32m    870\u001b[0m     \u001b[38;5;66;03m# Binary mode does not support 'encoding' and 'newline'.\u001b[39;00m\n\u001b[1;32m    871\u001b[0m     \u001b[38;5;28;01mif\u001b[39;00m ioargs\u001b[38;5;241m.\u001b[39mencoding \u001b[38;5;129;01mand\u001b[39;00m \u001b[38;5;124m\"\u001b[39m\u001b[38;5;124mb\u001b[39m\u001b[38;5;124m\"\u001b[39m \u001b[38;5;129;01mnot\u001b[39;00m \u001b[38;5;129;01min\u001b[39;00m ioargs\u001b[38;5;241m.\u001b[39mmode:\n\u001b[1;32m    872\u001b[0m         \u001b[38;5;66;03m# Encoding\u001b[39;00m\n\u001b[0;32m--> 873\u001b[0m         handle \u001b[38;5;241m=\u001b[39m \u001b[38;5;28;43mopen\u001b[39;49m\u001b[43m(\u001b[49m\n\u001b[1;32m    874\u001b[0m \u001b[43m            \u001b[49m\u001b[43mhandle\u001b[49m\u001b[43m,\u001b[49m\n\u001b[1;32m    875\u001b[0m \u001b[43m            \u001b[49m\u001b[43mioargs\u001b[49m\u001b[38;5;241;43m.\u001b[39;49m\u001b[43mmode\u001b[49m\u001b[43m,\u001b[49m\n\u001b[1;32m    876\u001b[0m \u001b[43m            \u001b[49m\u001b[43mencoding\u001b[49m\u001b[38;5;241;43m=\u001b[39;49m\u001b[43mioargs\u001b[49m\u001b[38;5;241;43m.\u001b[39;49m\u001b[43mencoding\u001b[49m\u001b[43m,\u001b[49m\n\u001b[1;32m    877\u001b[0m \u001b[43m            \u001b[49m\u001b[43merrors\u001b[49m\u001b[38;5;241;43m=\u001b[39;49m\u001b[43merrors\u001b[49m\u001b[43m,\u001b[49m\n\u001b[1;32m    878\u001b[0m \u001b[43m            \u001b[49m\u001b[43mnewline\u001b[49m\u001b[38;5;241;43m=\u001b[39;49m\u001b[38;5;124;43m\"\u001b[39;49m\u001b[38;5;124;43m\"\u001b[39;49m\u001b[43m,\u001b[49m\n\u001b[1;32m    879\u001b[0m \u001b[43m        \u001b[49m\u001b[43m)\u001b[49m\n\u001b[1;32m    880\u001b[0m     \u001b[38;5;28;01melse\u001b[39;00m:\n\u001b[1;32m    881\u001b[0m         \u001b[38;5;66;03m# Binary mode\u001b[39;00m\n\u001b[1;32m    882\u001b[0m         handle \u001b[38;5;241m=\u001b[39m \u001b[38;5;28mopen\u001b[39m(handle, ioargs\u001b[38;5;241m.\u001b[39mmode)\n",
      "\u001b[0;31mFileNotFoundError\u001b[0m: [Errno 2] No such file or directory: '/Users/jessicaluo/Desktop/BTT-Clorox-Company/eda/data/clorox_data.csv'"
     ]
    }
   ],
   "source": [
    "import pandas as pd\n",
    "import os \n",
    "\n",
    "path = os.path.join(os.getcwd(), 'data', 'clorox_data.csv')\n",
    "df = pd.read_csv(path)"
   ]
  },
  {
   "cell_type": "code",
   "execution_count": null,
   "metadata": {},
   "outputs": [
    {
     "data": {
      "text/html": [
       "<div>\n",
       "<style scoped>\n",
       "    .dataframe tbody tr th:only-of-type {\n",
       "        vertical-align: middle;\n",
       "    }\n",
       "\n",
       "    .dataframe tbody tr th {\n",
       "        vertical-align: top;\n",
       "    }\n",
       "\n",
       "    .dataframe thead th {\n",
       "        text-align: right;\n",
       "    }\n",
       "</style>\n",
       "<table border=\"1\" class=\"dataframe\">\n",
       "  <thead>\n",
       "    <tr style=\"text-align: right;\">\n",
       "      <th></th>\n",
       "      <th>brand</th>\n",
       "      <th>product_title</th>\n",
       "      <th>proxy_date</th>\n",
       "      <th>retailer</th>\n",
       "      <th>category</th>\n",
       "      <th>subcategory</th>\n",
       "      <th>review_text</th>\n",
       "      <th>star_rating</th>\n",
       "      <th>topic</th>\n",
       "      <th>brand_type</th>\n",
       "    </tr>\n",
       "  </thead>\n",
       "  <tbody>\n",
       "    <tr>\n",
       "      <th>0</th>\n",
       "      <td>Clorox</td>\n",
       "      <td>Clorox Wring Clean Cotton Mop</td>\n",
       "      <td>2024-07-08</td>\n",
       "      <td>Target</td>\n",
       "      <td>CLEANING</td>\n",
       "      <td>FLOOR CLEANERS</td>\n",
       "      <td>The mop is cheap, the wringing attachment does...</td>\n",
       "      <td>1.0</td>\n",
       "      <td>Product review: Click n Clean multi-surface sp...</td>\n",
       "      <td>Clorox</td>\n",
       "    </tr>\n",
       "    <tr>\n",
       "      <th>1</th>\n",
       "      <td>Rapid</td>\n",
       "      <td>32 oz. Rapid Clean Remediation, Trigger Spray ...</td>\n",
       "      <td>2024-07-08</td>\n",
       "      <td>Home Depot</td>\n",
       "      <td>CLEANING</td>\n",
       "      <td>BATHROOM CLEANERS MILDEW CLEANERS</td>\n",
       "      <td>This product was recommended for a front load ...</td>\n",
       "      <td>1.0</td>\n",
       "      <td>Mold removal and prevention products</td>\n",
       "      <td>Competitor</td>\n",
       "    </tr>\n",
       "    <tr>\n",
       "      <th>2</th>\n",
       "      <td>Mrs. Meyer's Clean Day</td>\n",
       "      <td>Mrs Meyers Clean Day Cleaner Plastic Bottle Mu...</td>\n",
       "      <td>2024-07-08</td>\n",
       "      <td>Target</td>\n",
       "      <td>CLEANING</td>\n",
       "      <td>SPRAY CLEANERS ALL PURPOSE CLEANERS</td>\n",
       "      <td>Smells so good, definitely my favorite scent</td>\n",
       "      <td>5.0</td>\n",
       "      <td>Fall scents and their popularity</td>\n",
       "      <td>Competitor</td>\n",
       "    </tr>\n",
       "    <tr>\n",
       "      <th>3</th>\n",
       "      <td>Pourri</td>\n",
       "      <td>Poo Pourri Plastic Spray Bottle Toilet Oil Fre...</td>\n",
       "      <td>2024-07-08</td>\n",
       "      <td>Target</td>\n",
       "      <td>CLEANING</td>\n",
       "      <td>ODOR CONTROLLING AIR FRESHENERS</td>\n",
       "      <td>I keep multiple bottles in the bathroom, and c...</td>\n",
       "      <td>5.0</td>\n",
       "      <td>Household cleaning and sanitization tips</td>\n",
       "      <td>Competitor</td>\n",
       "    </tr>\n",
       "    <tr>\n",
       "      <th>4</th>\n",
       "      <td>Twist &amp; Shout</td>\n",
       "      <td>Twist &amp; Shout Spin Mop &amp; Bucket System with 1 ...</td>\n",
       "      <td>2024-07-01</td>\n",
       "      <td>Costco</td>\n",
       "      <td>CLEANING</td>\n",
       "      <td>FLOOR CLEANERS</td>\n",
       "      <td>I recently just got this mop love how easy it ...</td>\n",
       "      <td>5.0</td>\n",
       "      <td>Product review: Click n Clean multi-surface sp...</td>\n",
       "      <td>Competitor</td>\n",
       "    </tr>\n",
       "  </tbody>\n",
       "</table>\n",
       "</div>"
      ],
      "text/plain": [
       "                    brand                                      product_title  \\\n",
       "0                  Clorox                      Clorox Wring Clean Cotton Mop   \n",
       "1                   Rapid  32 oz. Rapid Clean Remediation, Trigger Spray ...   \n",
       "2  Mrs. Meyer's Clean Day  Mrs Meyers Clean Day Cleaner Plastic Bottle Mu...   \n",
       "3                  Pourri  Poo Pourri Plastic Spray Bottle Toilet Oil Fre...   \n",
       "4           Twist & Shout  Twist & Shout Spin Mop & Bucket System with 1 ...   \n",
       "\n",
       "   proxy_date    retailer  category                          subcategory  \\\n",
       "0  2024-07-08      Target  CLEANING                       FLOOR CLEANERS   \n",
       "1  2024-07-08  Home Depot  CLEANING    BATHROOM CLEANERS MILDEW CLEANERS   \n",
       "2  2024-07-08      Target  CLEANING  SPRAY CLEANERS ALL PURPOSE CLEANERS   \n",
       "3  2024-07-08      Target  CLEANING      ODOR CONTROLLING AIR FRESHENERS   \n",
       "4  2024-07-01      Costco  CLEANING                       FLOOR CLEANERS   \n",
       "\n",
       "                                         review_text  star_rating  \\\n",
       "0  The mop is cheap, the wringing attachment does...          1.0   \n",
       "1  This product was recommended for a front load ...          1.0   \n",
       "2       Smells so good, definitely my favorite scent          5.0   \n",
       "3  I keep multiple bottles in the bathroom, and c...          5.0   \n",
       "4  I recently just got this mop love how easy it ...          5.0   \n",
       "\n",
       "                                               topic  brand_type  \n",
       "0  Product review: Click n Clean multi-surface sp...      Clorox  \n",
       "1               Mold removal and prevention products  Competitor  \n",
       "2                   Fall scents and their popularity  Competitor  \n",
       "3           Household cleaning and sanitization tips  Competitor  \n",
       "4  Product review: Click n Clean multi-surface sp...  Competitor  "
      ]
     },
     "execution_count": 2,
     "metadata": {},
     "output_type": "execute_result"
    }
   ],
   "source": [
    "df.head()"
   ]
  },
  {
   "cell_type": "code",
   "execution_count": null,
   "metadata": {},
   "outputs": [
    {
     "data": {
      "text/plain": [
       "(670798, 10)"
      ]
     },
     "execution_count": 3,
     "metadata": {},
     "output_type": "execute_result"
    }
   ],
   "source": [
    "df.shape"
   ]
  },
  {
   "cell_type": "markdown",
   "metadata": {},
   "source": [
    "## Topic"
   ]
  },
  {
   "cell_type": "code",
   "execution_count": null,
   "metadata": {},
   "outputs": [
    {
     "data": {
      "text/plain": [
       "topic\n",
       "Positive reviews for a makeup remover (undetermined topic)             209804\n",
       "Disinfectant spray recommendations and reviews (undetermined topic)     73069\n",
       "Review and recommendation for Clorox cleaning products                  12958\n",
       "Skincare routines and product recommendations                            5993\n",
       "Loyal users of Chapstick brand                                           4889\n",
       "                                                                        ...  \n",
       "Negative experiences with Walmart online shopping                          10\n",
       "Skincare reactions and irritations                                         10\n",
       "Long-lasting satisfaction with a beauty product                            10\n",
       "Hydrating face gel for all skin types                                      10\n",
       "Displeasure with product scent                                             10\n",
       "Name: count, Length: 2440, dtype: int64"
      ]
     },
     "execution_count": 4,
     "metadata": {},
     "output_type": "execute_result"
    }
   ],
   "source": [
    "df['topic'].value_counts()"
   ]
  },
  {
   "cell_type": "code",
   "execution_count": null,
   "metadata": {},
   "outputs": [
    {
     "data": {
      "text/html": [
       "<div>\n",
       "<style scoped>\n",
       "    .dataframe tbody tr th:only-of-type {\n",
       "        vertical-align: middle;\n",
       "    }\n",
       "\n",
       "    .dataframe tbody tr th {\n",
       "        vertical-align: top;\n",
       "    }\n",
       "\n",
       "    .dataframe thead th {\n",
       "        text-align: right;\n",
       "    }\n",
       "</style>\n",
       "<table border=\"1\" class=\"dataframe\">\n",
       "  <thead>\n",
       "    <tr style=\"text-align: right;\">\n",
       "      <th></th>\n",
       "      <th>brand</th>\n",
       "      <th>product_title</th>\n",
       "      <th>proxy_date</th>\n",
       "      <th>retailer</th>\n",
       "      <th>category</th>\n",
       "      <th>subcategory</th>\n",
       "      <th>review_text</th>\n",
       "      <th>star_rating</th>\n",
       "      <th>topic</th>\n",
       "      <th>brand_type</th>\n",
       "    </tr>\n",
       "  </thead>\n",
       "  <tbody>\n",
       "    <tr>\n",
       "      <th>396055</th>\n",
       "      <td>Neutrogena</td>\n",
       "      <td>Neutrogena Liquid Gel Liquid/Cream/Gel Ao Trea...</td>\n",
       "      <td>2023-11-20</td>\n",
       "      <td>Stop&amp;Shop</td>\n",
       "      <td>PERSONAL CARE</td>\n",
       "      <td>FACE CARE FACIAL CLEANSERS</td>\n",
       "      <td>This always does the trick!! I love how it doe...</td>\n",
       "      <td>4.0</td>\n",
       "      <td>Skincare routines and product recommendations</td>\n",
       "      <td>Competitor</td>\n",
       "    </tr>\n",
       "    <tr>\n",
       "      <th>519729</th>\n",
       "      <td>Neutrogena</td>\n",
       "      <td>Neutrogena Treatment Liquid/Cream/Gel Salicyli...</td>\n",
       "      <td>2023-05-08</td>\n",
       "      <td>Walmart</td>\n",
       "      <td>PERSONAL CARE</td>\n",
       "      <td>FACE CARE ACNE TREATMENTS</td>\n",
       "      <td>I use this daily in my skin. My skin is oily a...</td>\n",
       "      <td>5.0</td>\n",
       "      <td>Skincare routines and product recommendations</td>\n",
       "      <td>Competitor</td>\n",
       "    </tr>\n",
       "    <tr>\n",
       "      <th>560474</th>\n",
       "      <td>Viking Revolution</td>\n",
       "      <td>Viking Revolution Microdermabrasion Face Scrub...</td>\n",
       "      <td>2023-03-06</td>\n",
       "      <td>Amazon</td>\n",
       "      <td>PERSONAL CARE</td>\n",
       "      <td>MEN'S CARE FACIAL CLEANSERS</td>\n",
       "      <td>Left my skin feeling very greasy, I am sure it...</td>\n",
       "      <td>3.0</td>\n",
       "      <td>Skincare routines and product recommendations</td>\n",
       "      <td>Competitor</td>\n",
       "    </tr>\n",
       "    <tr>\n",
       "      <th>254533</th>\n",
       "      <td>Cetaphil</td>\n",
       "      <td>Cetaphil Face Moisturizer, Gentle Clear Mattif...</td>\n",
       "      <td>2024-05-06</td>\n",
       "      <td>Amazon</td>\n",
       "      <td>PERSONAL CARE</td>\n",
       "      <td>FACE CARE FACIAL MOISTURIZERS</td>\n",
       "      <td>The mattifying formula is perfect for my oily ...</td>\n",
       "      <td>5.0</td>\n",
       "      <td>Skincare routines and product recommendations</td>\n",
       "      <td>Competitor</td>\n",
       "    </tr>\n",
       "    <tr>\n",
       "      <th>431497</th>\n",
       "      <td>L'Oreal Paris</td>\n",
       "      <td>Betty Rose's Botanicals Turmeric Face Mask, Az...</td>\n",
       "      <td>2023-09-25</td>\n",
       "      <td>Amazon</td>\n",
       "      <td>PERSONAL CARE</td>\n",
       "      <td>FACE CARE ACNE TREATMENTS</td>\n",
       "      <td>It doesn't irritated my skin and I love how it...</td>\n",
       "      <td>5.0</td>\n",
       "      <td>Skincare routines and product recommendations</td>\n",
       "      <td>Competitor</td>\n",
       "    </tr>\n",
       "  </tbody>\n",
       "</table>\n",
       "</div>"
      ],
      "text/plain": [
       "                    brand                                      product_title  \\\n",
       "396055         Neutrogena  Neutrogena Liquid Gel Liquid/Cream/Gel Ao Trea...   \n",
       "519729         Neutrogena  Neutrogena Treatment Liquid/Cream/Gel Salicyli...   \n",
       "560474  Viking Revolution  Viking Revolution Microdermabrasion Face Scrub...   \n",
       "254533           Cetaphil  Cetaphil Face Moisturizer, Gentle Clear Mattif...   \n",
       "431497      L'Oreal Paris  Betty Rose's Botanicals Turmeric Face Mask, Az...   \n",
       "\n",
       "        proxy_date   retailer       category                    subcategory  \\\n",
       "396055  2023-11-20  Stop&Shop  PERSONAL CARE     FACE CARE FACIAL CLEANSERS   \n",
       "519729  2023-05-08    Walmart  PERSONAL CARE      FACE CARE ACNE TREATMENTS   \n",
       "560474  2023-03-06     Amazon  PERSONAL CARE    MEN'S CARE FACIAL CLEANSERS   \n",
       "254533  2024-05-06     Amazon  PERSONAL CARE  FACE CARE FACIAL MOISTURIZERS   \n",
       "431497  2023-09-25     Amazon  PERSONAL CARE      FACE CARE ACNE TREATMENTS   \n",
       "\n",
       "                                              review_text  star_rating  \\\n",
       "396055  This always does the trick!! I love how it doe...          4.0   \n",
       "519729  I use this daily in my skin. My skin is oily a...          5.0   \n",
       "560474  Left my skin feeling very greasy, I am sure it...          3.0   \n",
       "254533  The mattifying formula is perfect for my oily ...          5.0   \n",
       "431497  It doesn't irritated my skin and I love how it...          5.0   \n",
       "\n",
       "                                                topic  brand_type  \n",
       "396055  Skincare routines and product recommendations  Competitor  \n",
       "519729  Skincare routines and product recommendations  Competitor  \n",
       "560474  Skincare routines and product recommendations  Competitor  \n",
       "254533  Skincare routines and product recommendations  Competitor  \n",
       "431497  Skincare routines and product recommendations  Competitor  "
      ]
     },
     "execution_count": 5,
     "metadata": {},
     "output_type": "execute_result"
    }
   ],
   "source": [
    "df[df['topic'] == 'Skincare routines and product recommendations'].sample(5)"
   ]
  },
  {
   "cell_type": "code",
   "execution_count": null,
   "metadata": {},
   "outputs": [
    {
     "data": {
      "text/plain": [
       "'Very light and high spf but barely absorbed into the skin and left my face super oily, will not buy again'"
      ]
     },
     "execution_count": 6,
     "metadata": {},
     "output_type": "execute_result"
    }
   ],
   "source": [
    "df.iloc[259737, 6]"
   ]
  },
  {
   "cell_type": "markdown",
   "metadata": {},
   "source": [
    "### notes\n",
    "1. assign sentiment to topic\n",
    "2. cluster topics -- retailer exp, product, brand\n",
    "**topics are not the same type of evaluation of review, ex: skincare routines and recommendations less specific\n",
    " --> sentiment analysis for each review directly"
   ]
  },
  {
   "cell_type": "markdown",
   "metadata": {},
   "source": [
    "## Brand"
   ]
  },
  {
   "cell_type": "code",
   "execution_count": null,
   "metadata": {},
   "outputs": [],
   "source": [
    "brand_type = df['brand_type'].value_counts()"
   ]
  },
  {
   "cell_type": "code",
   "execution_count": null,
   "metadata": {},
   "outputs": [
    {
     "name": "stdout",
     "output_type": "stream",
     "text": [
      "0.1059633451501048\n"
     ]
    }
   ],
   "source": [
    "print(brand_type['Clorox']/brand_type.sum())"
   ]
  },
  {
   "cell_type": "code",
   "execution_count": null,
   "metadata": {},
   "outputs": [
    {
     "data": {
      "text/plain": [
       "brand\n",
       "Neutrogena        86270\n",
       "Clorox            48286\n",
       "Cerave            35484\n",
       "Dove              22502\n",
       "Cetaphil          20181\n",
       "                  ...  \n",
       "Epicuren              1\n",
       "Fresh Products        1\n",
       "Robtec                1\n",
       "Metrex                1\n",
       "Goicoechea            1\n",
       "Name: count, Length: 773, dtype: int64"
      ]
     },
     "execution_count": 9,
     "metadata": {},
     "output_type": "execute_result"
    }
   ],
   "source": [
    "df['brand'].value_counts()"
   ]
  },
  {
   "cell_type": "code",
   "execution_count": null,
   "metadata": {},
   "outputs": [
    {
     "data": {
      "text/plain": [
       "brand\n",
       "Clorox                         48286\n",
       "Burt's Bees                    13032\n",
       "Pine-Sol                        4271\n",
       "Liquid-Plumr                    2265\n",
       "Tilex                           1054\n",
       "Formula 409                      862\n",
       "S.O.S.                           670\n",
       "Clorox Commercial Solutions      401\n",
       "Lestoil                          239\n",
       "Name: count, dtype: int64"
      ]
     },
     "execution_count": 10,
     "metadata": {},
     "output_type": "execute_result"
    }
   ],
   "source": [
    "df[df['brand_type'] == 'Clorox']['brand'].value_counts()"
   ]
  },
  {
   "cell_type": "code",
   "execution_count": null,
   "metadata": {},
   "outputs": [
    {
     "data": {
      "text/plain": [
       "brand\n",
       "Clorox            48286\n",
       "Swiffer           13817\n",
       "Great Value       10896\n",
       "Lysol             10670\n",
       "Febreze           10289\n",
       "                  ...  \n",
       "Fresh Products        1\n",
       "Home Sense            1\n",
       "Metrex                1\n",
       "Read Right            1\n",
       "Robtec                1\n",
       "Name: count, Length: 248, dtype: int64"
      ]
     },
     "execution_count": 11,
     "metadata": {},
     "output_type": "execute_result"
    }
   ],
   "source": [
    "# brand value counts by category\n",
    "brand_by_category = df.groupby('category')['brand'].value_counts()\n",
    "cleaning_brands_counts = brand_by_category['CLEANING']\n",
    "cleaning_brands_counts"
   ]
  },
  {
   "cell_type": "code",
   "execution_count": null,
   "metadata": {},
   "outputs": [
    {
     "data": {
      "text/plain": [
       "brand\n",
       "Neutrogena                  86270\n",
       "Cerave                      35484\n",
       "Dove                        22502\n",
       "Cetaphil                    20181\n",
       "Olay                        17566\n",
       "                            ...  \n",
       "Nars                            1\n",
       "Natura Brasil                   1\n",
       "Simply Divine Botanicals        1\n",
       "Sonage                          1\n",
       "Vanity Planet                   1\n",
       "Name: count, Length: 543, dtype: int64"
      ]
     },
     "execution_count": 12,
     "metadata": {},
     "output_type": "execute_result"
    }
   ],
   "source": [
    "pc_brands_counts = brand_by_category['PERSONAL CARE']\n",
    "pc_brands_counts"
   ]
  },
  {
   "cell_type": "code",
   "execution_count": null,
   "metadata": {},
   "outputs": [
    {
     "data": {
      "text/plain": [
       "category\n",
       "PERSONAL CARE    456454\n",
       "CLEANING         214344\n",
       "Name: count, dtype: int64"
      ]
     },
     "execution_count": 13,
     "metadata": {},
     "output_type": "execute_result"
    }
   ],
   "source": [
    "# num reviews in each category\n",
    "num_reviews_by_category = df['category'].value_counts()\n",
    "num_reviews_by_category"
   ]
  },
  {
   "cell_type": "markdown",
   "metadata": {},
   "source": [
    "### notes\n",
    "10.6% reviews belong to Clorox brands -> look for patterns in competitor vs Clorox\n",
    "\n",
    "9 Clorox brands in total vs 773 competitor brands\n",
    "\n",
    "248 cleaning brands vs 543 personal care brands"
   ]
  },
  {
   "cell_type": "markdown",
   "metadata": {},
   "source": [
    "# subcategories"
   ]
  },
  {
   "cell_type": "code",
   "execution_count": null,
   "metadata": {},
   "outputs": [
    {
     "data": {
      "text/plain": [
       "subcategory\n",
       "FACE CARE FACIAL CLEANSERS         86576\n",
       "FACE CARE FACIAL MOISTURIZERS      86229\n",
       "FACE CARE ACNE TREATMENTS          50275\n",
       "FACE CARE FACIAL TOWELETTES        49360\n",
       "FACE CARE FACIAL TREATMENTS        37971\n",
       "                                   ...  \n",
       "ODOR CONTROLLING                      27\n",
       "DISH CARE LIQUID DISH DETERGENT       14\n",
       "LIP CARE LIP OILS                      7\n",
       "CORE GIFTS                             5\n",
       "BODY CARE HAIR REMOVAL                 1\n",
       "Name: count, Length: 94, dtype: int64"
      ]
     },
     "execution_count": 14,
     "metadata": {},
     "output_type": "execute_result"
    }
   ],
   "source": [
    "subcat_counts = df['subcategory'].value_counts()\n",
    "subcat_counts"
   ]
  },
  {
   "cell_type": "code",
   "execution_count": null,
   "metadata": {},
   "outputs": [
    {
     "data": {
      "text/plain": [
       "count       94.000000\n",
       "mean      7136.148936\n",
       "std      15157.331827\n",
       "min          1.000000\n",
       "25%        398.250000\n",
       "50%       1506.000000\n",
       "75%       6210.500000\n",
       "max      86576.000000\n",
       "Name: count, dtype: float64"
      ]
     },
     "execution_count": 15,
     "metadata": {},
     "output_type": "execute_result"
    }
   ],
   "source": [
    "subcat_counts.describe()    "
   ]
  },
  {
   "cell_type": "code",
   "execution_count": null,
   "metadata": {},
   "outputs": [
    {
     "data": {
      "text/plain": [
       "np.float64(0.7127659574468085)"
      ]
     },
     "execution_count": 16,
     "metadata": {},
     "output_type": "execute_result"
    }
   ],
   "source": [
    "# percentile of subcategories with less than 2000 counts\n",
    "subcat_counts[subcat_counts < 5000].count()/subcat_counts.count()"
   ]
  },
  {
   "cell_type": "code",
   "execution_count": null,
   "metadata": {},
   "outputs": [],
   "source": [
    "processed = pd.read_csv('data/processed_reviews.csv')"
   ]
  },
  {
   "cell_type": "code",
   "execution_count": null,
   "metadata": {},
   "outputs": [
    {
     "data": {
      "image/png": "[encoded data removed]",
      "text/plain": [
       "<Figure size 1000x600 with 1 Axes>"
      ]
     },
     "metadata": {},
     "output_type": "display_data"
    }
   ],
   "source": [
    "import matplotlib.pyplot as plt\n",
    "import seaborn as sns\n",
    "plt.figure(figsize=(10, 6))\n",
    "sns.histplot(subcat_counts.values, bins=20)\n",
    "plt.xticks(range(0, 90_000, 5_000))\n",
    "# rotate x-axis labels\n",
    "plt.xticks(rotation=45)\n",
    "plt.xlabel('Review Count in Subcategory')\n",
    "plt.ylabel('Frequency')\n",
    "plt.title('Distribution of Subcategory Counts')\n",
    "plt.show()\n"
   ]
  },
  {
   "cell_type": "code",
   "execution_count": null,
   "metadata": {},
   "outputs": [
    {
     "data": {
      "image/png": "[encoded data removed]",
      "text/plain": [
       "<Figure size 1000x600 with 1 Axes>"
      ]
     },
     "metadata": {},
     "output_type": "display_data"
    }
   ],
   "source": [
    "# same plot for processed\n",
    "\n",
    "\n",
    "plt.figure(figsize=(10, 6))\n",
    "sns.histplot(processed['subcategory'].value_counts().values, bins=20)\n",
    "plt.xticks(range(0, 90_000, 5_000))\n",
    "# rotate x-axis labels\n",
    "plt.xticks(rotation=45)\n",
    "plt.xlabel('Review Count in Subcategory')\n",
    "plt.ylabel('Frequency')\n",
    "plt.title('Distribution of Subcategory Counts')\n",
    "plt.show()"
   ]
  },
  {
   "cell_type": "code",
   "execution_count": null,
   "metadata": {},
   "outputs": [
    {
     "data": {
      "text/plain": [
       "retailer\n",
       "Walmart             243015\n",
       "Amazon              111417\n",
       "Target               88804\n",
       "Walgreens            57536\n",
       "Kroger               37147\n",
       "Albertsons           28104\n",
       "Safeway              17393\n",
       "Home Depot           16741\n",
       "Sam's Club           13527\n",
       "CVS                   9511\n",
       "Staples               8910\n",
       "Ulta                  8702\n",
       "Stop&Shop             7507\n",
       "Dollar General        5962\n",
       "Costco                5140\n",
       "Office Depot          3576\n",
       "RiteAid               2356\n",
       "Meijer                1465\n",
       "Lowe's                1338\n",
       "Instacart Publix      1119\n",
       "Vitacost              1101\n",
       "Quill                  422\n",
       "Petco                    5\n",
       "Name: count, dtype: int64"
      ]
     },
     "execution_count": 15,
     "metadata": {},
     "output_type": "execute_result"
    }
   ],
   "source": [
    "df['retailer'].value_counts()"
   ]
  },
  {
   "cell_type": "code",
   "execution_count": null,
   "metadata": {},
   "outputs": [
    {
     "data": {
      "text/plain": [
       "star_rating\n",
       "5.0    471285\n",
       "4.0     77234\n",
       "1.0     59753\n",
       "3.0     37956\n",
       "2.0     24570\n",
       "Name: count, dtype: int64"
      ]
     },
     "execution_count": 16,
     "metadata": {},
     "output_type": "execute_result"
    }
   ],
   "source": [
    "df['star_rating'].value_counts()"
   ]
  },
  {
   "cell_type": "markdown",
   "metadata": {},
   "source": [
    "- topic extraction by subcategory, by category, by retailer, by rating"
   ]
  },
  {
   "cell_type": "code",
   "execution_count": null,
   "metadata": {},
   "outputs": [],
   "source": [
    "df_sample = df.sample(int(0.2*df.shape[0]))"
   ]
  },
  {
   "cell_type": "markdown",
   "metadata": {},
   "source": [
    "# review length"
   ]
  },
  {
   "cell_type": "code",
   "execution_count": null,
   "metadata": {},
   "outputs": [],
   "source": [
    "df['review_len'] = df['review_text'].apply(lambda x: len(x.split()))"
   ]
  },
  {
   "cell_type": "code",
   "execution_count": null,
   "metadata": {},
   "outputs": [
    {
     "data": {
      "text/plain": [
       "review_len\n",
       "6      18182\n",
       "7      18162\n",
       "10     18078\n",
       "8      18075\n",
       "9      17882\n",
       "       ...  \n",
       "568        1\n",
       "398        1\n",
       "508        1\n",
       "530        1\n",
       "469        1\n",
       "Name: count, Length: 478, dtype: int64"
      ]
     },
     "execution_count": 19,
     "metadata": {},
     "output_type": "execute_result"
    }
   ],
   "source": [
    "df['review_len'].value_counts()"
   ]
  },
  {
   "cell_type": "code",
   "execution_count": null,
   "metadata": {},
   "outputs": [
    {
     "data": {
      "text/plain": [
       "<Axes: >"
      ]
     },
     "execution_count": 20,
     "metadata": {},
     "output_type": "execute_result"
    },
    {
     "data": {
      "image/png": "[encoded data removed]",
      "text/plain": [
       "<Figure size 640x480 with 1 Axes>"
      ]
     },
     "metadata": {},
     "output_type": "display_data"
    }
   ],
   "source": [
    "import matplotlib.pyplot as plt\n",
    "df['review_len'].hist(bins=30)"
   ]
  },
  {
   "cell_type": "code",
   "execution_count": null,
   "metadata": {},
   "outputs": [
    {
     "data": {
      "text/plain": [
       "count    670798.000000\n",
       "mean         32.475227\n",
       "std          29.192604\n",
       "min           3.000000\n",
       "25%          13.000000\n",
       "50%          26.000000\n",
       "75%          41.000000\n",
       "max         811.000000\n",
       "Name: review_len, dtype: float64"
      ]
     },
     "execution_count": 21,
     "metadata": {},
     "output_type": "execute_result"
    }
   ],
   "source": [
    "df['review_len'].describe()"
   ]
  },
  {
   "cell_type": "code",
   "execution_count": null,
   "metadata": {},
   "outputs": [
    {
     "data": {
      "text/plain": [
       "0.8318465469485598"
      ]
     },
     "execution_count": 71,
     "metadata": {},
     "output_type": "execute_result"
    }
   ],
   "source": [
    "# percentile of reviews with less than 50 words\n",
    "df[df['review_len'] < 50].shape[0]/df.shape[0]"
   ]
  },
  {
   "cell_type": "code",
   "execution_count": null,
   "metadata": {},
   "outputs": [
    {
     "data": {
      "text/plain": [
       "0.8177111440403817"
      ]
     },
     "execution_count": 2,
     "metadata": {},
     "output_type": "execute_result"
    }
   ],
   "source": [
    "# percentile of reviews that are 4/5 stars\n",
    "df[df['star_rating'] > 3].shape[0]/df.shape[0]"
   ]
  },
  {
   "cell_type": "markdown",
   "metadata": {},
   "source": [
    "Most reviews are not too long (< 50 words). 478 lengths of reviews."
   ]
  },
  {
   "cell_type": "markdown",
   "metadata": {},
   "source": [
    "# group by retailer \n",
    "df\n"
   ]
  },
  {
   "cell_type": "code",
   "execution_count": null,
   "metadata": {},
   "outputs": [
    {
     "data": {
      "text/plain": [
       "retailer\n",
       "Office Depot        4.826342\n",
       "Petco               4.800000\n",
       "Staples             4.749046\n",
       "Dollar General      4.740523\n",
       "Safeway             4.645317\n",
       "Albertsons          4.642115\n",
       "Sam's Club          4.593849\n",
       "Quill               4.582938\n",
       "CVS                 4.504889\n",
       "Walgreens           4.416139\n",
       "Lowe's              4.399103\n",
       "Walmart             4.365451\n",
       "Vitacost            4.356948\n",
       "Costco              4.355837\n",
       "Stop&Shop           4.332623\n",
       "Home Depot          4.288274\n",
       "Instacart Publix    4.275246\n",
       "Kroger              4.275096\n",
       "RiteAid             4.237691\n",
       "Meijer              4.196587\n",
       "Target              4.167965\n",
       "Amazon              4.006722\n",
       "Ulta                3.845897\n",
       "Name: star_rating, dtype: float64"
      ]
     },
     "execution_count": 22,
     "metadata": {},
     "output_type": "execute_result"
    }
   ],
   "source": [
    "# group by retailer\n",
    "retailer_review_len = df.groupby('retailer')['star_rating'].mean()\n",
    "retailer_review_len.sort_values(ascending=False)"
   ]
  },
  {
   "cell_type": "code",
   "execution_count": null,
   "metadata": {},
   "outputs": [
    {
     "data": {
      "text/plain": [
       "brand            683\n",
       "product_title      0\n",
       "proxy_date         0\n",
       "retailer           0\n",
       "category           0\n",
       "subcategory        0\n",
       "review_text        0\n",
       "star_rating        0\n",
       "topic              0\n",
       "brand_type         0\n",
       "review_len         0\n",
       "dtype: int64"
      ]
     },
     "execution_count": 23,
     "metadata": {},
     "output_type": "execute_result"
    }
   ],
   "source": [
    "df.isna().sum()"
   ]
  },
  {
   "cell_type": "code",
   "execution_count": null,
   "metadata": {},
   "outputs": [],
   "source": [
    "import numpy as np"
   ]
  },
  {
   "cell_type": "code",
   "execution_count": null,
   "metadata": {},
   "outputs": [
    {
     "data": {
      "text/plain": [
       "np.int64(683)"
      ]
     },
     "execution_count": 25,
     "metadata": {},
     "output_type": "execute_result"
    }
   ],
   "source": [
    "np.sum(df['brand'].isna())"
   ]
  },
  {
   "cell_type": "markdown",
   "metadata": {},
   "source": [
    "# group by brand"
   ]
  },
  {
   "cell_type": "code",
   "execution_count": null,
   "metadata": {},
   "outputs": [
    {
     "data": {
      "text/plain": [
       "brand\n",
       "Fairy Tales          5.0\n",
       "Natural Care Plus    5.0\n",
       "Jolly Rancher        5.0\n",
       "Kaplan Md            5.0\n",
       "Korres               5.0\n",
       "                    ... \n",
       "Lemi Shine           1.7\n",
       "Emerginc             1.0\n",
       "Melao                1.0\n",
       "Epicuren             1.0\n",
       "Dr. Brandt           1.0\n",
       "Name: star_rating, Length: 773, dtype: float64"
      ]
     },
     "execution_count": 26,
     "metadata": {},
     "output_type": "execute_result"
    }
   ],
   "source": [
    "brand_rating = df.groupby('brand')['star_rating'].mean()\n",
    "brand_rating.sort_values(ascending=False)"
   ]
  },
  {
   "cell_type": "code",
   "execution_count": null,
   "metadata": {},
   "outputs": [
    {
     "data": {
      "text/html": [
       "<div>\n",
       "<style scoped>\n",
       "    .dataframe tbody tr th:only-of-type {\n",
       "        vertical-align: middle;\n",
       "    }\n",
       "\n",
       "    .dataframe tbody tr th {\n",
       "        vertical-align: top;\n",
       "    }\n",
       "\n",
       "    .dataframe thead th {\n",
       "        text-align: right;\n",
       "    }\n",
       "</style>\n",
       "<table border=\"1\" class=\"dataframe\">\n",
       "  <thead>\n",
       "    <tr style=\"text-align: right;\">\n",
       "      <th></th>\n",
       "      <th>mean</th>\n",
       "      <th>count</th>\n",
       "    </tr>\n",
       "    <tr>\n",
       "      <th>brand</th>\n",
       "      <th></th>\n",
       "      <th></th>\n",
       "    </tr>\n",
       "  </thead>\n",
       "  <tbody>\n",
       "    <tr>\n",
       "      <th>SKN By Conair</th>\n",
       "      <td>4.855769</td>\n",
       "      <td>104</td>\n",
       "    </tr>\n",
       "    <tr>\n",
       "      <th>Breeze Deodorant</th>\n",
       "      <td>4.818182</td>\n",
       "      <td>231</td>\n",
       "    </tr>\n",
       "    <tr>\n",
       "      <th>Sprayaway</th>\n",
       "      <td>4.791467</td>\n",
       "      <td>1875</td>\n",
       "    </tr>\n",
       "    <tr>\n",
       "      <th>LypSyl</th>\n",
       "      <td>4.779661</td>\n",
       "      <td>236</td>\n",
       "    </tr>\n",
       "    <tr>\n",
       "      <th>Spray Nine</th>\n",
       "      <td>4.747126</td>\n",
       "      <td>174</td>\n",
       "    </tr>\n",
       "    <tr>\n",
       "      <th>...</th>\n",
       "      <td>...</td>\n",
       "      <td>...</td>\n",
       "    </tr>\n",
       "    <tr>\n",
       "      <th>Sudden Change</th>\n",
       "      <td>3.172973</td>\n",
       "      <td>185</td>\n",
       "    </tr>\n",
       "    <tr>\n",
       "      <th>Ambi Skincare</th>\n",
       "      <td>3.140000</td>\n",
       "      <td>150</td>\n",
       "    </tr>\n",
       "    <tr>\n",
       "      <th>Almay</th>\n",
       "      <td>3.069021</td>\n",
       "      <td>623</td>\n",
       "    </tr>\n",
       "    <tr>\n",
       "      <th>Artnaturals</th>\n",
       "      <td>2.905405</td>\n",
       "      <td>222</td>\n",
       "    </tr>\n",
       "    <tr>\n",
       "      <th>Spray &amp; Forget</th>\n",
       "      <td>2.085938</td>\n",
       "      <td>128</td>\n",
       "    </tr>\n",
       "  </tbody>\n",
       "</table>\n",
       "<p>343 rows × 2 columns</p>\n",
       "</div>"
      ],
      "text/plain": [
       "                      mean  count\n",
       "brand                            \n",
       "SKN By Conair     4.855769    104\n",
       "Breeze Deodorant  4.818182    231\n",
       "Sprayaway         4.791467   1875\n",
       "LypSyl            4.779661    236\n",
       "Spray Nine        4.747126    174\n",
       "...                    ...    ...\n",
       "Sudden Change     3.172973    185\n",
       "Ambi Skincare     3.140000    150\n",
       "Almay             3.069021    623\n",
       "Artnaturals       2.905405    222\n",
       "Spray & Forget    2.085938    128\n",
       "\n",
       "[343 rows x 2 columns]"
      ]
     },
     "execution_count": 27,
     "metadata": {},
     "output_type": "execute_result"
    }
   ],
   "source": [
    "# where brand has at least 100 reviews\n",
    "brand_rating = df.groupby('brand')['star_rating'].agg(['mean', 'count'])\n",
    "brand_rating = brand_rating[brand_rating['count'] > 100]\n",
    "brand_rating.sort_values(by='mean', ascending=False)"
   ]
  },
  {
   "cell_type": "code",
   "execution_count": null,
   "metadata": {},
   "outputs": [
    {
     "data": {
      "text/html": [
       "<div>\n",
       "<style scoped>\n",
       "    .dataframe tbody tr th:only-of-type {\n",
       "        vertical-align: middle;\n",
       "    }\n",
       "\n",
       "    .dataframe tbody tr th {\n",
       "        vertical-align: top;\n",
       "    }\n",
       "\n",
       "    .dataframe thead th {\n",
       "        text-align: right;\n",
       "    }\n",
       "</style>\n",
       "<table border=\"1\" class=\"dataframe\">\n",
       "  <thead>\n",
       "    <tr style=\"text-align: right;\">\n",
       "      <th></th>\n",
       "      <th>mean</th>\n",
       "      <th>count</th>\n",
       "    </tr>\n",
       "    <tr>\n",
       "      <th>brand</th>\n",
       "      <th></th>\n",
       "      <th></th>\n",
       "    </tr>\n",
       "  </thead>\n",
       "  <tbody>\n",
       "    <tr>\n",
       "      <th>Neutrogena</th>\n",
       "      <td>4.420691</td>\n",
       "      <td>86270</td>\n",
       "    </tr>\n",
       "    <tr>\n",
       "      <th>Clorox</th>\n",
       "      <td>4.604212</td>\n",
       "      <td>48286</td>\n",
       "    </tr>\n",
       "    <tr>\n",
       "      <th>Cerave</th>\n",
       "      <td>4.311323</td>\n",
       "      <td>35484</td>\n",
       "    </tr>\n",
       "    <tr>\n",
       "      <th>Dove</th>\n",
       "      <td>4.656342</td>\n",
       "      <td>22502</td>\n",
       "    </tr>\n",
       "    <tr>\n",
       "      <th>Cetaphil</th>\n",
       "      <td>4.081958</td>\n",
       "      <td>20181</td>\n",
       "    </tr>\n",
       "    <tr>\n",
       "      <th>...</th>\n",
       "      <td>...</td>\n",
       "      <td>...</td>\n",
       "    </tr>\n",
       "    <tr>\n",
       "      <th>Liquid Lightning</th>\n",
       "      <td>3.754902</td>\n",
       "      <td>102</td>\n",
       "    </tr>\n",
       "    <tr>\n",
       "      <th>Some By Mi</th>\n",
       "      <td>3.920792</td>\n",
       "      <td>101</td>\n",
       "    </tr>\n",
       "    <tr>\n",
       "      <th>Vivo Per Lei</th>\n",
       "      <td>4.099010</td>\n",
       "      <td>101</td>\n",
       "    </tr>\n",
       "    <tr>\n",
       "      <th>Health Plus</th>\n",
       "      <td>3.732673</td>\n",
       "      <td>101</td>\n",
       "    </tr>\n",
       "    <tr>\n",
       "      <th>Vasanti Cosmetics</th>\n",
       "      <td>4.623762</td>\n",
       "      <td>101</td>\n",
       "    </tr>\n",
       "  </tbody>\n",
       "</table>\n",
       "<p>343 rows × 2 columns</p>\n",
       "</div>"
      ],
      "text/plain": [
       "                       mean  count\n",
       "brand                             \n",
       "Neutrogena         4.420691  86270\n",
       "Clorox             4.604212  48286\n",
       "Cerave             4.311323  35484\n",
       "Dove               4.656342  22502\n",
       "Cetaphil           4.081958  20181\n",
       "...                     ...    ...\n",
       "Liquid Lightning   3.754902    102\n",
       "Some By Mi         3.920792    101\n",
       "Vivo Per Lei       4.099010    101\n",
       "Health Plus        3.732673    101\n",
       "Vasanti Cosmetics  4.623762    101\n",
       "\n",
       "[343 rows x 2 columns]"
      ]
     },
     "execution_count": 28,
     "metadata": {},
     "output_type": "execute_result"
    }
   ],
   "source": [
    "# sort by num reviews\n",
    "brand_rating.sort_values(by='count', ascending=False)"
   ]
  },
  {
   "cell_type": "code",
   "execution_count": null,
   "metadata": {},
   "outputs": [
    {
     "data": {
      "text/plain": [
       "<Axes: xlabel='mean', ylabel='Count'>"
      ]
     },
     "execution_count": 32,
     "metadata": {},
     "output_type": "execute_result"
    },
    {
     "data": {
      "image/png": "[encoded data removed]",
      "text/plain": [
       "<Figure size 640x480 with 1 Axes>"
      ]
     },
     "metadata": {},
     "output_type": "display_data"
    }
   ],
   "source": [
    "# visualize avg rating with histogram using seaborn\n",
    "import seaborn as sns\n",
    "sns.histplot(brand_rating['mean'])\n"
   ]
  },
  {
   "cell_type": "markdown",
   "metadata": {},
   "source": [
    "# ratio of one/two star reviews to three star to four/five star reviews per subcategory"
   ]
  },
  {
   "cell_type": "code",
   "execution_count": null,
   "metadata": {},
   "outputs": [
    {
     "data": {
      "text/plain": [
       "<Axes: xlabel='proportion of 1-2-3 star reviews', ylabel='number of products'>"
      ]
     },
     "execution_count": 69,
     "metadata": {},
     "output_type": "execute_result"
    },
    {
     "data": {
      "image/png": "[encoded data removed]",
      "text/plain": [
       "<Figure size 1200x600 with 1 Axes>"
      ]
     },
     "metadata": {},
     "output_type": "display_data"
    }
   ],
   "source": [
    "# plot a histogram with ratio of 1-2-3 star reviews to 4-5 star reviews as x-axis and count of reviews as y-axis\n",
    "plt.figure(figsize=(12, 6))\n",
    "# label the axes\n",
    "plt.xlabel('proportion of 1-2-3 star reviews')\n",
    "plt.ylabel('number of products')\n",
    "plt.xticks(np.arange(0, 1.1, 0.1))\n",
    "\n",
    "# derive the ratio of 1-2-3 star reviews to 4-5 star reviews\n",
    "df['less_than_4'] = df['star_rating'].apply(lambda x: 1 if x < 4 else 0)\n",
    "subcat_less_than_4 = df.groupby('subcategory')['less_than_4'].mean()\n",
    "sns.histplot(subcat_less_than_4, bins=20)"
   ]
  },
  {
   "cell_type": "code",
   "execution_count": null,
   "metadata": {},
   "outputs": [
    {
     "data": {
      "text/plain": [
       "count    94.000000\n",
       "mean      0.210942\n",
       "std       0.133737\n",
       "min       0.000000\n",
       "25%       0.133134\n",
       "50%       0.195632\n",
       "75%       0.242079\n",
       "max       1.000000\n",
       "Name: less_than_4, dtype: float64"
      ]
     },
     "execution_count": 70,
     "metadata": {},
     "output_type": "execute_result"
    }
   ],
   "source": [
    "subcat_less_than_4.describe()"
   ]
  },
  {
   "cell_type": "code",
   "execution_count": null,
   "metadata": {},
   "outputs": [
    {
     "data": {
      "text/plain": [
       "<Axes: xlabel='proportion of 1-2-3 star reviews', ylabel='number of products'>"
      ]
     },
     "execution_count": 65,
     "metadata": {},
     "output_type": "execute_result"
    },
    {
     "data": {
      "image/png": "[encoded data removed]",
      "text/plain": [
       "<Figure size 1200x600 with 1 Axes>"
      ]
     },
     "metadata": {},
     "output_type": "display_data"
    }
   ],
   "source": [
    "# plot a histogram with ratio of 1-2-3 star reviews to 4-5 star reviews as x-axis and count of reviews as y-axis\n",
    "plt.figure(figsize=(12, 6))\n",
    "# label the axes\n",
    "plt.xlabel('proportion of 1-2-3 star reviews')\n",
    "plt.ylabel('number of products')\n",
    "plt.xticks(np.arange(0, 1.1, 0.1))\n",
    "\n",
    "# derive the ratio of 1-2-3 star reviews to 4-5 star reviews\n",
    "df['less_than_4'] = df['star_rating'].apply(lambda x: 1 if x < 4 else 0)\n",
    "product_prop_less_than_4 = df.groupby('product_title')['less_than_4'].mean()\n",
    "sns.histplot(product_prop_less_than_4, bins=20)"
   ]
  },
  {
   "cell_type": "code",
   "execution_count": null,
   "metadata": {},
   "outputs": [
    {
     "data": {
      "text/plain": [
       "count    6878.000000\n",
       "mean        0.240356\n",
       "std         0.218171\n",
       "min         0.000000\n",
       "25%         0.083333\n",
       "50%         0.200000\n",
       "75%         0.333333\n",
       "max         1.000000\n",
       "Name: less_than_4, dtype: float64"
      ]
     },
     "execution_count": 66,
     "metadata": {},
     "output_type": "execute_result"
    }
   ],
   "source": [
    "product_prop_less_than_4.describe()"
   ]
  },
  {
   "cell_type": "markdown",
   "metadata": {},
   "source": [
    "# products"
   ]
  },
  {
   "cell_type": "code",
   "execution_count": null,
   "metadata": {},
   "outputs": [
    {
     "data": {
      "text/plain": [
       "6878"
      ]
     },
     "execution_count": 67,
     "metadata": {},
     "output_type": "execute_result"
    }
   ],
   "source": [
    "# total num of products\n",
    "df['product_title'].nunique()"
   ]
  },
  {
   "cell_type": "code",
   "execution_count": null,
   "metadata": {},
   "outputs": [
    {
     "data": {
      "text/plain": [
       "count    6878.000000\n",
       "mean       97.528060\n",
       "std       330.220313\n",
       "min         1.000000\n",
       "25%         6.000000\n",
       "50%        25.000000\n",
       "75%        86.000000\n",
       "max      8796.000000\n",
       "Name: count, dtype: float64"
      ]
     },
     "execution_count": 68,
     "metadata": {},
     "output_type": "execute_result"
    }
   ],
   "source": [
    "# num reviews per product\n",
    "num_reviews_per_product = df['product_title'].value_counts()\n",
    "num_reviews_per_product.describe()"
   ]
  },
  {
   "cell_type": "code",
   "execution_count": null,
   "metadata": {},
   "outputs": [],
   "source": []
  }
 ],
 "metadata": {
  "kernelspec": {
   "display_name": "clorox_env",
   "language": "python",
   "name": "python3"
  },
  "language_info": {
   "codemirror_mode": {
    "name": "ipython",
    "version": 3
   },
   "file_extension": ".py",
   "mimetype": "text/x-python",
   "name": "python",
   "nbconvert_exporter": "python",
   "pygments_lexer": "ipython3",
   "version": "3.12.4"
  }
 },
 "nbformat": 4,
 "nbformat_minor": 2
}
