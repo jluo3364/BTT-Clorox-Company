{
 "cells": [
  {
   "cell_type": "code",
   "execution_count": 1,
   "metadata": {},
   "outputs": [],
   "source": [
    "import pandas as pd\n",
    "import numpy as np\n",
    "import matplotlib.pyplot as plt\n",
    "import seaborn as sns"
   ]
  },
  {
   "cell_type": "code",
   "execution_count": null,
   "metadata": {},
   "outputs": [],
   "source": [
    "lsa_df = pd.read_csv('../data/lsa_wipes_lotion_airfreshener_spraycleaners_haircare.csv')"
   ]
  },
  {
   "cell_type": "code",
   "execution_count": 3,
   "metadata": {},
   "outputs": [],
   "source": [
    "lda2vec_df = pd.read_csv('../data/lda2vec_five_topics.csv')"
   ]
  },
  {
   "cell_type": "code",
   "execution_count": 5,
   "metadata": {},
   "outputs": [],
   "source": [
    "df = pd.merge(lsa_df, lda2vec_df[['review_text', 'lda2vec_topic_label', 'lda2vec_similarity_score']], on='review_text', how='inner')\n",
    "# df = pd.merge(df, bertopic_df[['review_text', 'bertopic_kmeans_topic_label', 'bertopic_kmeans_similarity_score']], on='review_text', how='inner')\n",
    "# df = pd.merge(df, top2vec_df[['review_text', 'top2vec_topic_label', 'top2vec_similarity_score']], on='review_text', how='inner')"
   ]
  },
  {
   "cell_type": "code",
   "execution_count": 8,
   "metadata": {},
   "outputs": [],
   "source": [
    "df.rename(columns={'topic': 'og_bert'}, inplace=True)"
   ]
  },
  {
   "cell_type": "code",
   "execution_count": 10,
   "metadata": {},
   "outputs": [
    {
     "name": "stderr",
     "output_type": "stream",
     "text": [
      "/var/folders/x2/lsyflj4j07jc1sb3w3hfgmjc0000gn/T/ipykernel_56623/1187756467.py:11: MatplotlibDeprecationWarning: The 'labels' parameter of boxplot() has been renamed 'tick_labels' since Matplotlib 3.9; support for the old name will be dropped in 3.11.\n",
      "  box = plt.boxplot([df['lsa_similarity_score'],\n"
     ]
    },
    {
     "data": {
      "image/png": "[encoded data removed]",
      "text/plain": [
       "<Figure size 1000x600 with 1 Axes>"
      ]
     },
     "metadata": {},
     "output_type": "display_data"
    }
   ],
   "source": [
    "# set style for the plot\n",
    "sns.set(style=\"whitegrid\")\n",
    "\n",
    "# colors for each similarity score\n",
    "box_colors = ['purple', 'blue', 'pink', 'cyan']\n",
    "\n",
    "# create box plot with individual colors for each similarity score\n",
    "plt.figure(figsize=(10, 6))\n",
    "\n",
    "# use loop to plot each box plot individually with color\n",
    "box = plt.boxplot([df['lsa_similarity_score'], \n",
    "                   df['lda2vec_similarity_score']], labels=['LSA', 'LDA2Vec'],\n",
    "                  patch_artist=True)"
   ]
  },
  {
   "cell_type": "code",
   "execution_count": null,
   "metadata": {},
   "outputs": [],
   "source": []
  }
 ],
 "metadata": {
  "kernelspec": {
   "display_name": "clorox_env",
   "language": "python",
   "name": "python3"
  },
  "language_info": {
   "codemirror_mode": {
    "name": "ipython",
    "version": 3
   },
   "file_extension": ".py",
   "mimetype": "text/x-python",
   "name": "python",
   "nbconvert_exporter": "python",
   "pygments_lexer": "ipython3",
   "version": "3.12.4"
  }
 },
 "nbformat": 4,
 "nbformat_minor": 2
}
